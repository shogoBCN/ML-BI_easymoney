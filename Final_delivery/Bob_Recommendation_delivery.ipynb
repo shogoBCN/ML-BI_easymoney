{
 "cells": [
  {
   "attachments": {},
   "cell_type": "markdown",
   "metadata": {},
   "source": [
    "<center>Thorsten Brückner<br>\n",
    "<center>March 15, 2023<br><br><br>\n",
    "<hr style=\"height:5px;border-width:0;color:orange;background-color:green\">\n",
    "<center><b><span style=\"font-size: 32px; color: green;\"> Bob's Recommendation Task</b></span></center>"
   ]
  },
  {
   "attachments": {},
   "cell_type": "markdown",
   "metadata": {},
   "source": [
    "<a id=\"0\"></a>\n",
    "<font color=green size=+3><b>0 - Module Summary</b></font>"
   ]
  },
  {
   "attachments": {},
   "cell_type": "markdown",
   "metadata": {},
   "source": [
    "During the analysis phase, one of the points that was highlighted is that there is a problem with the engagement of the current client base. This can be seen in the average amount of products per client on a given month, which right now is below one, meaning that there are more customers without products than with products, while at the very least this ratio should be at one. This found issue aligns with the overall current strategy of the company, which is to reorient the commercial focus towards increasing the penetration of the product portfolio in the existing client base to increase profits rather than doing any other campaign for acquiring new customers.\n",
    "\n",
    "Having this in mind, in order to recommend products to the current clientbase to maximize profitability out of it, there are several strategies to follow: one could be to place the focus on customers that have no or just one product. Another strategy could be to offer different products to our best clients. From a business point of view seems logic to make an effort on focusing on clients that have zero or one product, this would lead to an increase of the engagement of a very inactive client base which has larger potential benefit, not only in terms of customers that can be targetted but also for long term prospects. Prior to jump into fancy Machine Learning models, an attempt should be made at manually characterize these customers and understand which products to offer them, as relevant information is already available from the analysis phase. Once this manual approach has been understood, it can be constrasted with results from a Machine Learning model that would yield probabilities of purchase for this manually chosen customers. This would set the ground for future improvement, tuning and scale up of models that can help the company to become data driven.\n",
    "\n",
    "This module will focus on the practical implementation of some of the aforemetioned ideas: manual selection of customers having the target of the company in mind, evaluation of the probabilities of these chosen customers to actually purchase the offered product together with the confidence interval associated to this probabilities and finally, the limitations of the model and possible steps towards the future. As a reminder: the Marketing department stated that the current budget allows only 10k mails to be sent, so the goal will be to maximize the potential revenue that can be gained out of them."
   ]
  },
  {
   "attachments": {},
   "cell_type": "markdown",
   "metadata": {},
   "source": [
    "<a id=\"0.2\"></a>\n",
    "<font color=green size=+3><b>0.1 - Module Imports & Configurations</b></font>"
   ]
  },
  {
   "cell_type": "code",
   "execution_count": 548,
   "metadata": {},
   "outputs": [],
   "source": [
    "## GENERAL USE\n",
    "import pandas as pd\n",
    "import numpy as np\n",
    "import re # regular expressions\n",
    "import tqdm # progress bar\n",
    "\n",
    "## VISUALIZATION\n",
    "import matplotlib.pyplot as plt\n",
    "import matplotlib.ticker as mtick\n",
    "\n",
    "## MODELLING\n",
    "from sklearn import metrics\n",
    "from sklearn import model_selection\n",
    "from sklearn.metrics import recall_score, accuracy_score\n",
    "from sklearn.dummy import DummyClassifier\n",
    "import xgboost as xgb\n",
    "\n",
    "# FORMAT\n",
    "pd.options.display.float_format = '{:,.2f}'.format"
   ]
  },
  {
   "attachments": {},
   "cell_type": "markdown",
   "metadata": {},
   "source": [
    "<font color=green size=+3><b>0.1 - Data Import</b></font>"
   ]
  },
  {
   "cell_type": "code",
   "execution_count": 549,
   "metadata": {},
   "outputs": [
    {
     "data": {
      "text/html": [
       "<div>\n",
       "<style scoped>\n",
       "    .dataframe tbody tr th:only-of-type {\n",
       "        vertical-align: middle;\n",
       "    }\n",
       "\n",
       "    .dataframe tbody tr th {\n",
       "        vertical-align: top;\n",
       "    }\n",
       "\n",
       "    .dataframe thead th {\n",
       "        text-align: right;\n",
       "    }\n",
       "</style>\n",
       "<table border=\"1\" class=\"dataframe\">\n",
       "  <thead>\n",
       "    <tr style=\"text-align: right;\">\n",
       "      <th></th>\n",
       "      <th>pk_partition</th>\n",
       "      <th>country_id</th>\n",
       "      <th>region_code</th>\n",
       "      <th>gender</th>\n",
       "      <th>age</th>\n",
       "      <th>salary</th>\n",
       "      <th>short_term_deposit</th>\n",
       "      <th>loans</th>\n",
       "      <th>mortgage</th>\n",
       "      <th>funds</th>\n",
       "      <th>...</th>\n",
       "      <th>entry_date</th>\n",
       "      <th>entry_channel</th>\n",
       "      <th>active_customer</th>\n",
       "      <th>Total_products</th>\n",
       "      <th>year_partition</th>\n",
       "      <th>month_partition</th>\n",
       "      <th>year_month_partition</th>\n",
       "      <th>quarter_entry</th>\n",
       "      <th>year_month_entry</th>\n",
       "      <th>salary_LN</th>\n",
       "    </tr>\n",
       "    <tr>\n",
       "      <th>pk_cid</th>\n",
       "      <th></th>\n",
       "      <th></th>\n",
       "      <th></th>\n",
       "      <th></th>\n",
       "      <th></th>\n",
       "      <th></th>\n",
       "      <th></th>\n",
       "      <th></th>\n",
       "      <th></th>\n",
       "      <th></th>\n",
       "      <th></th>\n",
       "      <th></th>\n",
       "      <th></th>\n",
       "      <th></th>\n",
       "      <th></th>\n",
       "      <th></th>\n",
       "      <th></th>\n",
       "      <th></th>\n",
       "      <th></th>\n",
       "      <th></th>\n",
       "      <th></th>\n",
       "    </tr>\n",
       "  </thead>\n",
       "  <tbody>\n",
       "    <tr>\n",
       "      <th>1375586</th>\n",
       "      <td>2018-01-28</td>\n",
       "      <td>ES</td>\n",
       "      <td>Malaga</td>\n",
       "      <td>H</td>\n",
       "      <td>36</td>\n",
       "      <td>87,218.10</td>\n",
       "      <td>0</td>\n",
       "      <td>0</td>\n",
       "      <td>0</td>\n",
       "      <td>0</td>\n",
       "      <td>...</td>\n",
       "      <td>2018-01-12</td>\n",
       "      <td>others</td>\n",
       "      <td>1</td>\n",
       "      <td>1</td>\n",
       "      <td>2018</td>\n",
       "      <td>1</td>\n",
       "      <td>2018-01</td>\n",
       "      <td>2018-Q1</td>\n",
       "      <td>2018-01</td>\n",
       "      <td>11.38</td>\n",
       "    </tr>\n",
       "    <tr>\n",
       "      <th>1050611</th>\n",
       "      <td>2018-01-28</td>\n",
       "      <td>ES</td>\n",
       "      <td>Ciudad Real</td>\n",
       "      <td>V</td>\n",
       "      <td>24</td>\n",
       "      <td>35,548.74</td>\n",
       "      <td>0</td>\n",
       "      <td>0</td>\n",
       "      <td>0</td>\n",
       "      <td>0</td>\n",
       "      <td>...</td>\n",
       "      <td>2015-08-10</td>\n",
       "      <td>KHE</td>\n",
       "      <td>0</td>\n",
       "      <td>1</td>\n",
       "      <td>2018</td>\n",
       "      <td>1</td>\n",
       "      <td>2018-01</td>\n",
       "      <td>2015-Q3</td>\n",
       "      <td>2015-08</td>\n",
       "      <td>10.48</td>\n",
       "    </tr>\n",
       "    <tr>\n",
       "      <th>1050612</th>\n",
       "      <td>2018-01-28</td>\n",
       "      <td>ES</td>\n",
       "      <td>Ciudad Real</td>\n",
       "      <td>V</td>\n",
       "      <td>23</td>\n",
       "      <td>122,179.11</td>\n",
       "      <td>0</td>\n",
       "      <td>0</td>\n",
       "      <td>0</td>\n",
       "      <td>0</td>\n",
       "      <td>...</td>\n",
       "      <td>2015-08-10</td>\n",
       "      <td>KHE</td>\n",
       "      <td>0</td>\n",
       "      <td>1</td>\n",
       "      <td>2018</td>\n",
       "      <td>1</td>\n",
       "      <td>2018-01</td>\n",
       "      <td>2015-Q3</td>\n",
       "      <td>2015-08</td>\n",
       "      <td>11.71</td>\n",
       "    </tr>\n",
       "    <tr>\n",
       "      <th>1050613</th>\n",
       "      <td>2018-01-28</td>\n",
       "      <td>ES</td>\n",
       "      <td>Zaragoza</td>\n",
       "      <td>H</td>\n",
       "      <td>23</td>\n",
       "      <td>119,775.54</td>\n",
       "      <td>1</td>\n",
       "      <td>0</td>\n",
       "      <td>0</td>\n",
       "      <td>0</td>\n",
       "      <td>...</td>\n",
       "      <td>2015-08-10</td>\n",
       "      <td>KHD</td>\n",
       "      <td>0</td>\n",
       "      <td>1</td>\n",
       "      <td>2018</td>\n",
       "      <td>1</td>\n",
       "      <td>2018-01</td>\n",
       "      <td>2015-Q3</td>\n",
       "      <td>2015-08</td>\n",
       "      <td>11.69</td>\n",
       "    </tr>\n",
       "    <tr>\n",
       "      <th>1050614</th>\n",
       "      <td>2018-01-28</td>\n",
       "      <td>ES</td>\n",
       "      <td>Zaragoza</td>\n",
       "      <td>V</td>\n",
       "      <td>24</td>\n",
       "      <td>89,257.08</td>\n",
       "      <td>0</td>\n",
       "      <td>0</td>\n",
       "      <td>0</td>\n",
       "      <td>0</td>\n",
       "      <td>...</td>\n",
       "      <td>2015-08-10</td>\n",
       "      <td>KHE</td>\n",
       "      <td>1</td>\n",
       "      <td>1</td>\n",
       "      <td>2018</td>\n",
       "      <td>1</td>\n",
       "      <td>2018-01</td>\n",
       "      <td>2015-Q3</td>\n",
       "      <td>2015-08</td>\n",
       "      <td>11.40</td>\n",
       "    </tr>\n",
       "  </tbody>\n",
       "</table>\n",
       "<p>5 rows × 29 columns</p>\n",
       "</div>"
      ],
      "text/plain": [
       "        pk_partition country_id  region_code gender  age     salary  \\\n",
       "pk_cid                                                                \n",
       "1375586   2018-01-28         ES       Malaga      H   36  87,218.10   \n",
       "1050611   2018-01-28         ES  Ciudad Real      V   24  35,548.74   \n",
       "1050612   2018-01-28         ES  Ciudad Real      V   23 122,179.11   \n",
       "1050613   2018-01-28         ES     Zaragoza      H   23 119,775.54   \n",
       "1050614   2018-01-28         ES     Zaragoza      V   24  89,257.08   \n",
       "\n",
       "         short_term_deposit  loans  mortgage  funds  ...  entry_date  \\\n",
       "pk_cid                                               ...               \n",
       "1375586                   0      0         0      0  ...  2018-01-12   \n",
       "1050611                   0      0         0      0  ...  2015-08-10   \n",
       "1050612                   0      0         0      0  ...  2015-08-10   \n",
       "1050613                   1      0         0      0  ...  2015-08-10   \n",
       "1050614                   0      0         0      0  ...  2015-08-10   \n",
       "\n",
       "         entry_channel  active_customer  Total_products  year_partition  \\\n",
       "pk_cid                                                                    \n",
       "1375586         others                1               1            2018   \n",
       "1050611            KHE                0               1            2018   \n",
       "1050612            KHE                0               1            2018   \n",
       "1050613            KHD                0               1            2018   \n",
       "1050614            KHE                1               1            2018   \n",
       "\n",
       "         month_partition  year_month_partition  quarter_entry  \\\n",
       "pk_cid                                                          \n",
       "1375586                1               2018-01        2018-Q1   \n",
       "1050611                1               2018-01        2015-Q3   \n",
       "1050612                1               2018-01        2015-Q3   \n",
       "1050613                1               2018-01        2015-Q3   \n",
       "1050614                1               2018-01        2015-Q3   \n",
       "\n",
       "         year_month_entry salary_LN  \n",
       "pk_cid                               \n",
       "1375586           2018-01     11.38  \n",
       "1050611           2015-08     10.48  \n",
       "1050612           2015-08     11.71  \n",
       "1050613           2015-08     11.69  \n",
       "1050614           2015-08     11.40  \n",
       "\n",
       "[5 rows x 29 columns]"
      ]
     },
     "execution_count": 549,
     "metadata": {},
     "output_type": "execute_result"
    }
   ],
   "source": [
    "df = pd.read_csv('data/Bobs_df_delivery.csv', index_col=0)\n",
    "df.head()"
   ]
  },
  {
   "cell_type": "code",
   "execution_count": 550,
   "metadata": {},
   "outputs": [],
   "source": [
    "df.reset_index(inplace=True)"
   ]
  },
  {
   "attachments": {},
   "cell_type": "markdown",
   "metadata": {},
   "source": [
    "<a id=\"1\"></a>\n",
    "<font color=green size=+3><b>1 - Initial strategy: EM Account recommendation</b></font>"
   ]
  },
  {
   "attachments": {},
   "cell_type": "markdown",
   "metadata": {},
   "source": [
    "As it has been introduced, the assumption on which what follows is based on is that the best strategy from a business point of view is to focus on customers that have certain level of engagement but no products, or just one. The idea behind is that to re-engage these customers and enlarge the proportion of active customers within the current clientbase of the company would be more benefitial than exploiting current active customers with already several products.\n",
    "\n",
    "The overall strategy will be to start from simple and build on complexity based on our needs and resources at hand. Thus, the first step is the manual selection of the 10k customers that will receive a mail with a recommended product, followed by the, again manual, selection of the product to be offered. \n",
    "\n",
    "In order to evaluate this approach, a Machine Learning model will be built in order to statistically evaluate the probabilities and confidence of it. The model will be designed as a Supervised Learning problem, trained with the data provided by the IT department and used to assess the purchase likelihood of the selected customers. More details on the specific aspects of it can be found at section \"1.3 - Probabilities of purchase - Supervised Learning Model\"."
   ]
  },
  {
   "attachments": {},
   "cell_type": "markdown",
   "metadata": {},
   "source": [
    "\n",
    "<font color=green size=+3><b>1.1 - Manual selection of 10k customers</b></font>"
   ]
  },
  {
   "attachments": {},
   "cell_type": "markdown",
   "metadata": {},
   "source": [
    "Even though during the analysis it could be seen that there are concerns on how the \"active_customer\" feature is computed, it will still be used as an indicator of recent engagement with the company. In order to select the 10k customers, the first filter will be to check whether they have been active or not in the company application during the last partition of data, as it is believed that hey will be more likely to purchase a product than customers that have not been active. If in the future the way of computing this feature is readjusted and improved, it will only have a beneficial impact on this approach.\n",
    "\n",
    "The selection of final customers will be based on the following features: total revenue and months of activity. From the available data, which includes demographics, products owned and commercial activity, the overall revenue that a client has brought to Easy Money over its time as a client could be taken as a positive indicator of engagement and predisposition of re-engaging. In a similar fashion, from the commercial information, the total number of months of activity in the company's application can be used as a positive indicator of engagement.\n",
    "\n",
    "An assumption that is made for the following calculation of the revenue brought by a customer is that the marketing unit prices equate to the expected revenue of a given customer that owns or uses the product for a given month. Together with it, it is assumed that even though a customer might appear inactive for a given partition, if the customer owns a product during that month, the company will receive the expected revenue out of those products.\n",
    "\n",
    "One last but crucial point is to make sure that only customers appearing in the last partition of the database are selected, so as to minimize the risk of targetting churned customers.\n",
    "\n",
    "\n",
    "\n",
    "\n"
   ]
  },
  {
   "cell_type": "code",
   "execution_count": 551,
   "metadata": {},
   "outputs": [
    {
     "name": "stdout",
     "output_type": "stream",
     "text": [
      "440248\n"
     ]
    }
   ],
   "source": [
    "# First off, let's start by selecting only customers present in last month\n",
    "target_id = df.loc[df['pk_partition']=='2019-05-28','pk_cid'].unique().tolist()\n",
    "print(len(target_id))"
   ]
  },
  {
   "cell_type": "code",
   "execution_count": 552,
   "metadata": {},
   "outputs": [],
   "source": [
    "products = ['short_term_deposit', 'loans', 'mortgage', 'funds','securities', 'long_term_deposit', 'credit_card', 'payroll','pension_plan', 'payroll_account', 'emc_account', 'debit_card','em_acount']"
   ]
  },
  {
   "cell_type": "code",
   "execution_count": 553,
   "metadata": {},
   "outputs": [],
   "source": [
    "# create a df to calculate revenue and activity, keep only meaningful features\n",
    "target_info_df = pd.concat([df[['pk_partition','pk_cid']],df[products],df['active_customer']],axis=1)\n",
    "# filter out clients not in target_id\n",
    "target_info_df = target_info_df[target_info_df['pk_cid'].isin(target_id)]"
   ]
  },
  {
   "cell_type": "code",
   "execution_count": 554,
   "metadata": {},
   "outputs": [
    {
     "data": {
      "text/plain": [
       "440248"
      ]
     },
     "execution_count": 554,
     "metadata": {},
     "output_type": "execute_result"
    }
   ],
   "source": [
    "len(target_info_df['pk_cid'].unique())"
   ]
  },
  {
   "cell_type": "code",
   "execution_count": 555,
   "metadata": {},
   "outputs": [
    {
     "data": {
      "text/plain": [
       "Index(['pk_partition', 'pk_cid', 'short_term_deposit', 'loans', 'mortgage',\n",
       "       'funds', 'securities', 'long_term_deposit', 'credit_card', 'payroll',\n",
       "       'pension_plan', 'payroll_account', 'emc_account', 'debit_card',\n",
       "       'em_acount', 'active_customer'],\n",
       "      dtype='object')"
      ]
     },
     "execution_count": 555,
     "metadata": {},
     "output_type": "execute_result"
    }
   ],
   "source": [
    "target_info_df.columns"
   ]
  },
  {
   "attachments": {},
   "cell_type": "markdown",
   "metadata": {},
   "source": [
    "The list of revenues as reported by Erin:\n",
    "- €10 for each account\n",
    "- €40 for savings and investment products (plans, funds,...)\n",
    "- €60 for financing products (loans and cards)"
   ]
  },
  {
   "cell_type": "code",
   "execution_count": 556,
   "metadata": {},
   "outputs": [],
   "source": [
    "# Taking into account the list above + the current order of columns of the active df:\n",
    "revenues_list = [1,1,40,60,60,40,40,40,60,10,40,0,10,60,10,1]"
   ]
  },
  {
   "cell_type": "code",
   "execution_count": 557,
   "metadata": {},
   "outputs": [],
   "source": [
    "target_info_df = target_info_df*revenues_list"
   ]
  },
  {
   "cell_type": "code",
   "execution_count": 558,
   "metadata": {},
   "outputs": [
    {
     "data": {
      "text/html": [
       "<div>\n",
       "<style scoped>\n",
       "    .dataframe tbody tr th:only-of-type {\n",
       "        vertical-align: middle;\n",
       "    }\n",
       "\n",
       "    .dataframe tbody tr th {\n",
       "        vertical-align: top;\n",
       "    }\n",
       "\n",
       "    .dataframe thead th {\n",
       "        text-align: right;\n",
       "    }\n",
       "</style>\n",
       "<table border=\"1\" class=\"dataframe\">\n",
       "  <thead>\n",
       "    <tr style=\"text-align: right;\">\n",
       "      <th></th>\n",
       "      <th>pk_partition</th>\n",
       "      <th>pk_cid</th>\n",
       "      <th>short_term_deposit</th>\n",
       "      <th>loans</th>\n",
       "      <th>mortgage</th>\n",
       "      <th>funds</th>\n",
       "      <th>securities</th>\n",
       "      <th>long_term_deposit</th>\n",
       "      <th>credit_card</th>\n",
       "      <th>payroll</th>\n",
       "      <th>pension_plan</th>\n",
       "      <th>payroll_account</th>\n",
       "      <th>emc_account</th>\n",
       "      <th>debit_card</th>\n",
       "      <th>em_acount</th>\n",
       "      <th>active_customer</th>\n",
       "      <th>sum</th>\n",
       "    </tr>\n",
       "  </thead>\n",
       "  <tbody>\n",
       "    <tr>\n",
       "      <th>0</th>\n",
       "      <td>2018-01-28</td>\n",
       "      <td>1375586</td>\n",
       "      <td>0</td>\n",
       "      <td>0</td>\n",
       "      <td>0</td>\n",
       "      <td>0</td>\n",
       "      <td>0</td>\n",
       "      <td>0</td>\n",
       "      <td>0</td>\n",
       "      <td>0</td>\n",
       "      <td>0</td>\n",
       "      <td>0</td>\n",
       "      <td>0</td>\n",
       "      <td>0</td>\n",
       "      <td>10</td>\n",
       "      <td>1</td>\n",
       "      <td>10</td>\n",
       "    </tr>\n",
       "    <tr>\n",
       "      <th>1</th>\n",
       "      <td>2018-01-28</td>\n",
       "      <td>1050611</td>\n",
       "      <td>0</td>\n",
       "      <td>0</td>\n",
       "      <td>0</td>\n",
       "      <td>0</td>\n",
       "      <td>0</td>\n",
       "      <td>0</td>\n",
       "      <td>0</td>\n",
       "      <td>0</td>\n",
       "      <td>0</td>\n",
       "      <td>0</td>\n",
       "      <td>0</td>\n",
       "      <td>0</td>\n",
       "      <td>10</td>\n",
       "      <td>0</td>\n",
       "      <td>10</td>\n",
       "    </tr>\n",
       "    <tr>\n",
       "      <th>2</th>\n",
       "      <td>2018-01-28</td>\n",
       "      <td>1050612</td>\n",
       "      <td>0</td>\n",
       "      <td>0</td>\n",
       "      <td>0</td>\n",
       "      <td>0</td>\n",
       "      <td>0</td>\n",
       "      <td>0</td>\n",
       "      <td>0</td>\n",
       "      <td>0</td>\n",
       "      <td>0</td>\n",
       "      <td>0</td>\n",
       "      <td>0</td>\n",
       "      <td>0</td>\n",
       "      <td>10</td>\n",
       "      <td>0</td>\n",
       "      <td>10</td>\n",
       "    </tr>\n",
       "    <tr>\n",
       "      <th>3</th>\n",
       "      <td>2018-01-28</td>\n",
       "      <td>1050613</td>\n",
       "      <td>40</td>\n",
       "      <td>0</td>\n",
       "      <td>0</td>\n",
       "      <td>0</td>\n",
       "      <td>0</td>\n",
       "      <td>0</td>\n",
       "      <td>0</td>\n",
       "      <td>0</td>\n",
       "      <td>0</td>\n",
       "      <td>0</td>\n",
       "      <td>0</td>\n",
       "      <td>0</td>\n",
       "      <td>0</td>\n",
       "      <td>0</td>\n",
       "      <td>40</td>\n",
       "    </tr>\n",
       "    <tr>\n",
       "      <th>4</th>\n",
       "      <td>2018-01-28</td>\n",
       "      <td>1050614</td>\n",
       "      <td>0</td>\n",
       "      <td>0</td>\n",
       "      <td>0</td>\n",
       "      <td>0</td>\n",
       "      <td>0</td>\n",
       "      <td>0</td>\n",
       "      <td>0</td>\n",
       "      <td>0</td>\n",
       "      <td>0</td>\n",
       "      <td>0</td>\n",
       "      <td>0</td>\n",
       "      <td>0</td>\n",
       "      <td>10</td>\n",
       "      <td>1</td>\n",
       "      <td>10</td>\n",
       "    </tr>\n",
       "  </tbody>\n",
       "</table>\n",
       "</div>"
      ],
      "text/plain": [
       "  pk_partition   pk_cid  short_term_deposit  loans  mortgage  funds  \\\n",
       "0   2018-01-28  1375586                   0      0         0      0   \n",
       "1   2018-01-28  1050611                   0      0         0      0   \n",
       "2   2018-01-28  1050612                   0      0         0      0   \n",
       "3   2018-01-28  1050613                  40      0         0      0   \n",
       "4   2018-01-28  1050614                   0      0         0      0   \n",
       "\n",
       "   securities  long_term_deposit  credit_card  payroll  pension_plan  \\\n",
       "0           0                  0            0        0             0   \n",
       "1           0                  0            0        0             0   \n",
       "2           0                  0            0        0             0   \n",
       "3           0                  0            0        0             0   \n",
       "4           0                  0            0        0             0   \n",
       "\n",
       "   payroll_account  emc_account  debit_card  em_acount  active_customer  sum  \n",
       "0                0            0           0         10                1   10  \n",
       "1                0            0           0         10                0   10  \n",
       "2                0            0           0         10                0   10  \n",
       "3                0            0           0          0                0   40  \n",
       "4                0            0           0         10                1   10  "
      ]
     },
     "execution_count": 558,
     "metadata": {},
     "output_type": "execute_result"
    }
   ],
   "source": [
    "# sum  column has the total revenue for each row in the dataframe\n",
    "target_info_df.loc[:,'sum'] = target_info_df[products].sum(axis=1)\n",
    "target_info_df.head()"
   ]
  },
  {
   "cell_type": "code",
   "execution_count": 559,
   "metadata": {},
   "outputs": [
    {
     "data": {
      "text/plain": [
       "pk_partition          0\n",
       "pk_cid                0\n",
       "short_term_deposit    0\n",
       "loans                 0\n",
       "mortgage              0\n",
       "funds                 0\n",
       "securities            0\n",
       "long_term_deposit     0\n",
       "credit_card           0\n",
       "payroll               0\n",
       "pension_plan          0\n",
       "payroll_account       0\n",
       "emc_account           0\n",
       "debit_card            0\n",
       "em_acount             0\n",
       "active_customer       0\n",
       "sum                   0\n",
       "dtype: int64"
      ]
     },
     "execution_count": 559,
     "metadata": {},
     "output_type": "execute_result"
    }
   ],
   "source": [
    "target_info_df.isnull().sum()"
   ]
  },
  {
   "cell_type": "code",
   "execution_count": 560,
   "metadata": {},
   "outputs": [
    {
     "data": {
      "text/html": [
       "<div>\n",
       "<style scoped>\n",
       "    .dataframe tbody tr th:only-of-type {\n",
       "        vertical-align: middle;\n",
       "    }\n",
       "\n",
       "    .dataframe tbody tr th {\n",
       "        vertical-align: top;\n",
       "    }\n",
       "\n",
       "    .dataframe thead th {\n",
       "        text-align: right;\n",
       "    }\n",
       "</style>\n",
       "<table border=\"1\" class=\"dataframe\">\n",
       "  <thead>\n",
       "    <tr style=\"text-align: right;\">\n",
       "      <th></th>\n",
       "      <th>revenue</th>\n",
       "      <th>months</th>\n",
       "    </tr>\n",
       "    <tr>\n",
       "      <th>pk_cid</th>\n",
       "      <th></th>\n",
       "      <th></th>\n",
       "    </tr>\n",
       "  </thead>\n",
       "  <tbody>\n",
       "    <tr>\n",
       "      <th>16063</th>\n",
       "      <td>0</td>\n",
       "      <td>5</td>\n",
       "    </tr>\n",
       "    <tr>\n",
       "      <th>16203</th>\n",
       "      <td>50</td>\n",
       "      <td>5</td>\n",
       "    </tr>\n",
       "    <tr>\n",
       "      <th>16502</th>\n",
       "      <td>130</td>\n",
       "      <td>8</td>\n",
       "    </tr>\n",
       "    <tr>\n",
       "      <th>17457</th>\n",
       "      <td>1110</td>\n",
       "      <td>17</td>\n",
       "    </tr>\n",
       "    <tr>\n",
       "      <th>17590</th>\n",
       "      <td>0</td>\n",
       "      <td>11</td>\n",
       "    </tr>\n",
       "  </tbody>\n",
       "</table>\n",
       "</div>"
      ],
      "text/plain": [
       "        revenue  months\n",
       "pk_cid                 \n",
       "16063         0       5\n",
       "16203        50       5\n",
       "16502       130       8\n",
       "17457      1110      17\n",
       "17590         0      11"
      ]
     },
     "execution_count": 560,
     "metadata": {},
     "output_type": "execute_result"
    }
   ],
   "source": [
    "# Revenue: total revenue over time from each customer: product x revenue @ each partition\n",
    "# Months: number of months the client has been active in the app.\n",
    "\n",
    "customer_cumulative_info = target_info_df.groupby('pk_cid').agg({'sum': 'sum', 'active_customer': 'sum'})\n",
    "customer_cumulative_info.columns = ['revenue', 'months']\n",
    "customer_cumulative_info.to_csv('customer_cumulative_info.csv')\n",
    "customer_cumulative_info.head()"
   ]
  },
  {
   "attachments": {},
   "cell_type": "markdown",
   "metadata": {},
   "source": [
    "Above dataframe, customer_cumulative_info, has each unique customer id as index for rows and the total revenue and months of activity as features, which have been specifically computed for each customer."
   ]
  },
  {
   "cell_type": "code",
   "execution_count": 561,
   "metadata": {},
   "outputs": [
    {
     "data": {
      "text/plain": [
       "(440248, 2)"
      ]
     },
     "execution_count": 561,
     "metadata": {},
     "output_type": "execute_result"
    }
   ],
   "source": [
    "customer_cumulative_info.shape"
   ]
  },
  {
   "cell_type": "code",
   "execution_count": 562,
   "metadata": {},
   "outputs": [],
   "source": [
    "# customer_cumulative_info = pd.read_csv('customer_cumulative_info.csv',index_col=0)"
   ]
  },
  {
   "cell_type": "code",
   "execution_count": 563,
   "metadata": {},
   "outputs": [
    {
     "data": {
      "text/html": [
       "<div>\n",
       "<style scoped>\n",
       "    .dataframe tbody tr th:only-of-type {\n",
       "        vertical-align: middle;\n",
       "    }\n",
       "\n",
       "    .dataframe tbody tr th {\n",
       "        vertical-align: top;\n",
       "    }\n",
       "\n",
       "    .dataframe thead th {\n",
       "        text-align: right;\n",
       "    }\n",
       "</style>\n",
       "<table border=\"1\" class=\"dataframe\">\n",
       "  <thead>\n",
       "    <tr style=\"text-align: right;\">\n",
       "      <th></th>\n",
       "      <th>revenue</th>\n",
       "      <th>months</th>\n",
       "    </tr>\n",
       "    <tr>\n",
       "      <th>pk_cid</th>\n",
       "      <th></th>\n",
       "      <th></th>\n",
       "    </tr>\n",
       "  </thead>\n",
       "  <tbody>\n",
       "    <tr>\n",
       "      <th>1128353</th>\n",
       "      <td>4880</td>\n",
       "      <td>17</td>\n",
       "    </tr>\n",
       "    <tr>\n",
       "      <th>1116675</th>\n",
       "      <td>4810</td>\n",
       "      <td>17</td>\n",
       "    </tr>\n",
       "    <tr>\n",
       "      <th>1136671</th>\n",
       "      <td>4670</td>\n",
       "      <td>17</td>\n",
       "    </tr>\n",
       "    <tr>\n",
       "      <th>1070525</th>\n",
       "      <td>4440</td>\n",
       "      <td>17</td>\n",
       "    </tr>\n",
       "    <tr>\n",
       "      <th>1133500</th>\n",
       "      <td>4420</td>\n",
       "      <td>17</td>\n",
       "    </tr>\n",
       "    <tr>\n",
       "      <th>...</th>\n",
       "      <td>...</td>\n",
       "      <td>...</td>\n",
       "    </tr>\n",
       "    <tr>\n",
       "      <th>1330066</th>\n",
       "      <td>0</td>\n",
       "      <td>0</td>\n",
       "    </tr>\n",
       "    <tr>\n",
       "      <th>1330062</th>\n",
       "      <td>0</td>\n",
       "      <td>0</td>\n",
       "    </tr>\n",
       "    <tr>\n",
       "      <th>1330060</th>\n",
       "      <td>0</td>\n",
       "      <td>0</td>\n",
       "    </tr>\n",
       "    <tr>\n",
       "      <th>1330059</th>\n",
       "      <td>0</td>\n",
       "      <td>0</td>\n",
       "    </tr>\n",
       "    <tr>\n",
       "      <th>1553689</th>\n",
       "      <td>0</td>\n",
       "      <td>0</td>\n",
       "    </tr>\n",
       "  </tbody>\n",
       "</table>\n",
       "<p>440248 rows × 2 columns</p>\n",
       "</div>"
      ],
      "text/plain": [
       "         revenue  months\n",
       "pk_cid                  \n",
       "1128353     4880      17\n",
       "1116675     4810      17\n",
       "1136671     4670      17\n",
       "1070525     4440      17\n",
       "1133500     4420      17\n",
       "...          ...     ...\n",
       "1330066        0       0\n",
       "1330062        0       0\n",
       "1330060        0       0\n",
       "1330059        0       0\n",
       "1553689        0       0\n",
       "\n",
       "[440248 rows x 2 columns]"
      ]
     },
     "execution_count": 563,
     "metadata": {},
     "output_type": "execute_result"
    }
   ],
   "source": [
    "customer_cumulative_info.sort_values(by='revenue', ascending=False,inplace=True)\n",
    "customer_cumulative_info"
   ]
  },
  {
   "cell_type": "code",
   "execution_count": 564,
   "metadata": {},
   "outputs": [
    {
     "data": {
      "text/html": [
       "<div>\n",
       "<style scoped>\n",
       "    .dataframe tbody tr th:only-of-type {\n",
       "        vertical-align: middle;\n",
       "    }\n",
       "\n",
       "    .dataframe tbody tr th {\n",
       "        vertical-align: top;\n",
       "    }\n",
       "\n",
       "    .dataframe thead th {\n",
       "        text-align: right;\n",
       "    }\n",
       "</style>\n",
       "<table border=\"1\" class=\"dataframe\">\n",
       "  <thead>\n",
       "    <tr style=\"text-align: right;\">\n",
       "      <th></th>\n",
       "      <th>revenue</th>\n",
       "      <th>months</th>\n",
       "    </tr>\n",
       "  </thead>\n",
       "  <tbody>\n",
       "    <tr>\n",
       "      <th>count</th>\n",
       "      <td>440,248.00</td>\n",
       "      <td>440,248.00</td>\n",
       "    </tr>\n",
       "    <tr>\n",
       "      <th>mean</th>\n",
       "      <td>230.07</td>\n",
       "      <td>5.34</td>\n",
       "    </tr>\n",
       "    <tr>\n",
       "      <th>std</th>\n",
       "      <td>372.73</td>\n",
       "      <td>7.05</td>\n",
       "    </tr>\n",
       "    <tr>\n",
       "      <th>min</th>\n",
       "      <td>0.00</td>\n",
       "      <td>0.00</td>\n",
       "    </tr>\n",
       "    <tr>\n",
       "      <th>25%</th>\n",
       "      <td>40.00</td>\n",
       "      <td>0.00</td>\n",
       "    </tr>\n",
       "    <tr>\n",
       "      <th>50%</th>\n",
       "      <td>170.00</td>\n",
       "      <td>0.00</td>\n",
       "    </tr>\n",
       "    <tr>\n",
       "      <th>75%</th>\n",
       "      <td>170.00</td>\n",
       "      <td>12.00</td>\n",
       "    </tr>\n",
       "    <tr>\n",
       "      <th>max</th>\n",
       "      <td>4,880.00</td>\n",
       "      <td>17.00</td>\n",
       "    </tr>\n",
       "  </tbody>\n",
       "</table>\n",
       "</div>"
      ],
      "text/plain": [
       "         revenue     months\n",
       "count 440,248.00 440,248.00\n",
       "mean      230.07       5.34\n",
       "std       372.73       7.05\n",
       "min         0.00       0.00\n",
       "25%        40.00       0.00\n",
       "50%       170.00       0.00\n",
       "75%       170.00      12.00\n",
       "max     4,880.00      17.00"
      ]
     },
     "execution_count": 564,
     "metadata": {},
     "output_type": "execute_result"
    }
   ],
   "source": [
    "customer_cumulative_info.describe()"
   ]
  },
  {
   "cell_type": "code",
   "execution_count": 565,
   "metadata": {},
   "outputs": [
    {
     "data": {
      "text/html": [
       "<div>\n",
       "<style scoped>\n",
       "    .dataframe tbody tr th:only-of-type {\n",
       "        vertical-align: middle;\n",
       "    }\n",
       "\n",
       "    .dataframe tbody tr th {\n",
       "        vertical-align: top;\n",
       "    }\n",
       "\n",
       "    .dataframe thead th {\n",
       "        text-align: right;\n",
       "    }\n",
       "</style>\n",
       "<table border=\"1\" class=\"dataframe\">\n",
       "  <thead>\n",
       "    <tr style=\"text-align: right;\">\n",
       "      <th></th>\n",
       "      <th>revenue</th>\n",
       "      <th>months</th>\n",
       "    </tr>\n",
       "  </thead>\n",
       "  <tbody>\n",
       "    <tr>\n",
       "      <th>count</th>\n",
       "      <td>248,434.00</td>\n",
       "      <td>248,434.00</td>\n",
       "    </tr>\n",
       "    <tr>\n",
       "      <th>mean</th>\n",
       "      <td>93.46</td>\n",
       "      <td>0.00</td>\n",
       "    </tr>\n",
       "    <tr>\n",
       "      <th>std</th>\n",
       "      <td>80.16</td>\n",
       "      <td>0.00</td>\n",
       "    </tr>\n",
       "    <tr>\n",
       "      <th>min</th>\n",
       "      <td>0.00</td>\n",
       "      <td>0.00</td>\n",
       "    </tr>\n",
       "    <tr>\n",
       "      <th>25%</th>\n",
       "      <td>0.00</td>\n",
       "      <td>0.00</td>\n",
       "    </tr>\n",
       "    <tr>\n",
       "      <th>50%</th>\n",
       "      <td>100.00</td>\n",
       "      <td>0.00</td>\n",
       "    </tr>\n",
       "    <tr>\n",
       "      <th>75%</th>\n",
       "      <td>170.00</td>\n",
       "      <td>0.00</td>\n",
       "    </tr>\n",
       "    <tr>\n",
       "      <th>max</th>\n",
       "      <td>1,130.00</td>\n",
       "      <td>0.00</td>\n",
       "    </tr>\n",
       "  </tbody>\n",
       "</table>\n",
       "</div>"
      ],
      "text/plain": [
       "         revenue     months\n",
       "count 248,434.00 248,434.00\n",
       "mean       93.46       0.00\n",
       "std        80.16       0.00\n",
       "min         0.00       0.00\n",
       "25%         0.00       0.00\n",
       "50%       100.00       0.00\n",
       "75%       170.00       0.00\n",
       "max     1,130.00       0.00"
      ]
     },
     "execution_count": 565,
     "metadata": {},
     "output_type": "execute_result"
    }
   ],
   "source": [
    "customer_cumulative_info[customer_cumulative_info['months']==0].describe()"
   ]
  },
  {
   "attachments": {},
   "cell_type": "markdown",
   "metadata": {},
   "source": [
    "The table above shows clearly the problems that have been signaled regarding the identification of activity in the app: There are users which have never been active in the application, which is the only known way of purchasing and managing products, that own or have owned products.\n",
    "\n",
    "The other two tables show that even though there are very good clients, which are active in the application and have been reporting a solid revenue to the company, there is a majority of users with very low levels of engagement with the company. The overal mean revenue is much higher than the median, indicating that there is a group of customers with high engagement that are pulling the numbers up. This information falls in line with the proposed strategy."
   ]
  },
  {
   "cell_type": "code",
   "execution_count": 566,
   "metadata": {},
   "outputs": [],
   "source": [
    "# Aux function to get list of products appearing as ones in a given row\n",
    "\n",
    "def get_products(row):\n",
    "    result = []\n",
    "    index = row['pk_cid']\n",
    "    for p in products:\n",
    "        if row[p]==1:\n",
    "            result.append(p)\n",
    "    return [result,index]"
   ]
  },
  {
   "cell_type": "code",
   "execution_count": 567,
   "metadata": {},
   "outputs": [
    {
     "data": {
      "text/html": [
       "<div>\n",
       "<style scoped>\n",
       "    .dataframe tbody tr th:only-of-type {\n",
       "        vertical-align: middle;\n",
       "    }\n",
       "\n",
       "    .dataframe tbody tr th {\n",
       "        vertical-align: top;\n",
       "    }\n",
       "\n",
       "    .dataframe thead th {\n",
       "        text-align: right;\n",
       "    }\n",
       "</style>\n",
       "<table border=\"1\" class=\"dataframe\">\n",
       "  <thead>\n",
       "    <tr style=\"text-align: right;\">\n",
       "      <th></th>\n",
       "      <th>products</th>\n",
       "      <th>id</th>\n",
       "    </tr>\n",
       "  </thead>\n",
       "  <tbody>\n",
       "    <tr>\n",
       "      <th>5485815</th>\n",
       "      <td>[em_acount]</td>\n",
       "      <td>657826</td>\n",
       "    </tr>\n",
       "    <tr>\n",
       "      <th>5485816</th>\n",
       "      <td>[]</td>\n",
       "      <td>657817</td>\n",
       "    </tr>\n",
       "    <tr>\n",
       "      <th>5485817</th>\n",
       "      <td>[credit_card, payroll, pension_plan, payroll_a...</td>\n",
       "      <td>657986</td>\n",
       "    </tr>\n",
       "    <tr>\n",
       "      <th>5485818</th>\n",
       "      <td>[long_term_deposit, em_acount]</td>\n",
       "      <td>657905</td>\n",
       "    </tr>\n",
       "    <tr>\n",
       "      <th>5485819</th>\n",
       "      <td>[em_acount]</td>\n",
       "      <td>657336</td>\n",
       "    </tr>\n",
       "  </tbody>\n",
       "</table>\n",
       "</div>"
      ],
      "text/plain": [
       "                                                  products      id\n",
       "5485815                                        [em_acount]  657826\n",
       "5485816                                                 []  657817\n",
       "5485817  [credit_card, payroll, pension_plan, payroll_a...  657986\n",
       "5485818                     [long_term_deposit, em_acount]  657905\n",
       "5485819                                        [em_acount]  657336"
      ]
     },
     "execution_count": 567,
     "metadata": {},
     "output_type": "execute_result"
    }
   ],
   "source": [
    "# profile of products each customer has during last month\n",
    "products_per_customer = df.loc[df['pk_partition']=='2019-05-28'].apply(get_products, axis=1)    \n",
    "products_per_customer = products_per_customer.apply(pd.Series)\n",
    "products_per_customer.columns = ['products', 'id']\n",
    "products_per_customer.head()"
   ]
  },
  {
   "cell_type": "code",
   "execution_count": 568,
   "metadata": {},
   "outputs": [
    {
     "data": {
      "text/plain": [
       "(440248, 2)"
      ]
     },
     "execution_count": 568,
     "metadata": {},
     "output_type": "execute_result"
    }
   ],
   "source": [
    "products_per_customer.shape"
   ]
  },
  {
   "cell_type": "code",
   "execution_count": 569,
   "metadata": {},
   "outputs": [],
   "source": [
    "products_per_customer.set_index('id', inplace=True)"
   ]
  },
  {
   "cell_type": "code",
   "execution_count": 570,
   "metadata": {},
   "outputs": [
    {
     "data": {
      "text/plain": [
       "[em_acount]                                             255094\n",
       "[]                                                      108751\n",
       "[debit_card, em_acount]                                  22400\n",
       "[emc_account, em_acount]                                  7825\n",
       "[payroll, pension_plan, payroll_account, debit_card]      6009\n",
       "[emc_account]                                             5745\n",
       "[payroll_account]                                         4704\n",
       "[payroll, pension_plan, payroll_account]                  4335\n",
       "[payroll_account, debit_card]                             3109\n",
       "[emc_account, debit_card, em_acount]                      2279\n",
       "Name: products, dtype: int64"
      ]
     },
     "execution_count": 570,
     "metadata": {},
     "output_type": "execute_result"
    }
   ],
   "source": [
    "customer_cumulative_info = pd.merge(customer_cumulative_info, products_per_customer, how='left', left_index=True, right_index=True)\n",
    "customer_cumulative_info['products'].value_counts().head(10)"
   ]
  },
  {
   "cell_type": "code",
   "execution_count": 571,
   "metadata": {},
   "outputs": [
    {
     "data": {
      "text/plain": [
       "108751"
      ]
     },
     "execution_count": 571,
     "metadata": {},
     "output_type": "execute_result"
    }
   ],
   "source": [
    "customer_cumulative_info['products_str'] = customer_cumulative_info['products'].astype('str')\n",
    "customer_cumulative_info['products_str'] = customer_cumulative_info['products_str'].str.strip('[]').str.replace(\"'\",\"\")\n",
    "len(customer_cumulative_info[customer_cumulative_info['products_str']==''])"
   ]
  },
  {
   "attachments": {},
   "cell_type": "markdown",
   "metadata": {},
   "source": [
    "Again, it is visible that EM account is the most popular product amongst our customer base. What is concerning is that the second largest cluster in terms of collection of products in the current clientbase is people without products. \n",
    "\n",
    "It is also worth noting that debit card and emc account are not only the second and third most usual products, they also are the chosen products to complement EM account when a customer wants to expand his wallet options.\n",
    "\n",
    "From the 108751 customers that have no products, the selection of 10k customers to be targetted with the mails will be made.\n",
    "An initial filter will be to check whether these customers have been active in the application during the last available partition."
   ]
  },
  {
   "cell_type": "code",
   "execution_count": 572,
   "metadata": {},
   "outputs": [
    {
     "data": {
      "text/plain": [
       "2769"
      ]
     },
     "execution_count": 572,
     "metadata": {},
     "output_type": "execute_result"
    }
   ],
   "source": [
    "# which ones of them have been active last month?\n",
    "index_group1 = df.loc[(df['pk_partition']=='2019-05-28')&(df['active_customer']==1)&(df['Total_products']==0), 'pk_cid'].unique()\n",
    "len(index_group1)"
   ]
  },
  {
   "cell_type": "code",
   "execution_count": 573,
   "metadata": {},
   "outputs": [
    {
     "name": "stdout",
     "output_type": "stream",
     "text": [
      "437479\n",
      "2769\n",
      "440248\n"
     ]
    }
   ],
   "source": [
    "# remove these customers from the ranking and add them to the 10k list\n",
    "df_10k_em = customer_cumulative_info[customer_cumulative_info.index.isin(index_group1)]\n",
    "customer_cumulative_info = customer_cumulative_info[~customer_cumulative_info.index.isin(index_group1)]\n",
    "print(len(customer_cumulative_info))\n",
    "print(len(df_10k_em))\n",
    "print(len(customer_cumulative_info) + len(df_10k_em))"
   ]
  },
  {
   "cell_type": "code",
   "execution_count": 574,
   "metadata": {},
   "outputs": [
    {
     "data": {
      "text/html": [
       "<div>\n",
       "<style scoped>\n",
       "    .dataframe tbody tr th:only-of-type {\n",
       "        vertical-align: middle;\n",
       "    }\n",
       "\n",
       "    .dataframe tbody tr th {\n",
       "        vertical-align: top;\n",
       "    }\n",
       "\n",
       "    .dataframe thead th {\n",
       "        text-align: right;\n",
       "    }\n",
       "</style>\n",
       "<table border=\"1\" class=\"dataframe\">\n",
       "  <thead>\n",
       "    <tr style=\"text-align: right;\">\n",
       "      <th></th>\n",
       "      <th>revenue</th>\n",
       "      <th>months</th>\n",
       "      <th>products</th>\n",
       "      <th>products_str</th>\n",
       "    </tr>\n",
       "    <tr>\n",
       "      <th>pk_cid</th>\n",
       "      <th></th>\n",
       "      <th></th>\n",
       "      <th></th>\n",
       "      <th></th>\n",
       "    </tr>\n",
       "  </thead>\n",
       "  <tbody>\n",
       "    <tr>\n",
       "      <th>1045535</th>\n",
       "      <td>2430</td>\n",
       "      <td>16</td>\n",
       "      <td>[]</td>\n",
       "      <td></td>\n",
       "    </tr>\n",
       "    <tr>\n",
       "      <th>1116106</th>\n",
       "      <td>2260</td>\n",
       "      <td>17</td>\n",
       "      <td>[]</td>\n",
       "      <td></td>\n",
       "    </tr>\n",
       "    <tr>\n",
       "      <th>1020461</th>\n",
       "      <td>2260</td>\n",
       "      <td>17</td>\n",
       "      <td>[]</td>\n",
       "      <td></td>\n",
       "    </tr>\n",
       "    <tr>\n",
       "      <th>1119050</th>\n",
       "      <td>2030</td>\n",
       "      <td>17</td>\n",
       "      <td>[]</td>\n",
       "      <td></td>\n",
       "    </tr>\n",
       "    <tr>\n",
       "      <th>1209899</th>\n",
       "      <td>1950</td>\n",
       "      <td>17</td>\n",
       "      <td>[]</td>\n",
       "      <td></td>\n",
       "    </tr>\n",
       "    <tr>\n",
       "      <th>...</th>\n",
       "      <td>...</td>\n",
       "      <td>...</td>\n",
       "      <td>...</td>\n",
       "      <td>...</td>\n",
       "    </tr>\n",
       "    <tr>\n",
       "      <th>1312708</th>\n",
       "      <td>0</td>\n",
       "      <td>5</td>\n",
       "      <td>[]</td>\n",
       "      <td></td>\n",
       "    </tr>\n",
       "    <tr>\n",
       "      <th>1314286</th>\n",
       "      <td>0</td>\n",
       "      <td>11</td>\n",
       "      <td>[]</td>\n",
       "      <td></td>\n",
       "    </tr>\n",
       "    <tr>\n",
       "      <th>1313313</th>\n",
       "      <td>0</td>\n",
       "      <td>17</td>\n",
       "      <td>[]</td>\n",
       "      <td></td>\n",
       "    </tr>\n",
       "    <tr>\n",
       "      <th>1334895</th>\n",
       "      <td>0</td>\n",
       "      <td>17</td>\n",
       "      <td>[]</td>\n",
       "      <td></td>\n",
       "    </tr>\n",
       "    <tr>\n",
       "      <th>1326244</th>\n",
       "      <td>0</td>\n",
       "      <td>7</td>\n",
       "      <td>[]</td>\n",
       "      <td></td>\n",
       "    </tr>\n",
       "  </tbody>\n",
       "</table>\n",
       "<p>2769 rows × 4 columns</p>\n",
       "</div>"
      ],
      "text/plain": [
       "         revenue  months products products_str\n",
       "pk_cid                                        \n",
       "1045535     2430      16       []             \n",
       "1116106     2260      17       []             \n",
       "1020461     2260      17       []             \n",
       "1119050     2030      17       []             \n",
       "1209899     1950      17       []             \n",
       "...          ...     ...      ...          ...\n",
       "1312708        0       5       []             \n",
       "1314286        0      11       []             \n",
       "1313313        0      17       []             \n",
       "1334895        0      17       []             \n",
       "1326244        0       7       []             \n",
       "\n",
       "[2769 rows x 4 columns]"
      ]
     },
     "execution_count": 574,
     "metadata": {},
     "output_type": "execute_result"
    }
   ],
   "source": [
    "df_10k_em"
   ]
  },
  {
   "attachments": {},
   "cell_type": "markdown",
   "metadata": {},
   "source": [
    "There were only 2769 customers without product that were showing some signs of activity in the application. They have been selected because it is understood that higher signs of activity in the app would mean higher disposition for making a purchase.\n",
    "\n",
    "For the remaining 7231 customers, the selection will be made giving priority to those customers with higher revenues over time and most time being active. It will be seen that there are customers that even though have not been active last month and currently have no products, have been active in the past and have had products. The assumption is that these customers would be easier to reengage that customers that have had less relation with the company in the past"
   ]
  },
  {
   "cell_type": "code",
   "execution_count": 575,
   "metadata": {},
   "outputs": [
    {
     "data": {
      "text/html": [
       "<div>\n",
       "<style scoped>\n",
       "    .dataframe tbody tr th:only-of-type {\n",
       "        vertical-align: middle;\n",
       "    }\n",
       "\n",
       "    .dataframe tbody tr th {\n",
       "        vertical-align: top;\n",
       "    }\n",
       "\n",
       "    .dataframe thead th {\n",
       "        text-align: right;\n",
       "    }\n",
       "</style>\n",
       "<table border=\"1\" class=\"dataframe\">\n",
       "  <thead>\n",
       "    <tr style=\"text-align: right;\">\n",
       "      <th></th>\n",
       "      <th>revenue</th>\n",
       "      <th>months</th>\n",
       "      <th>products</th>\n",
       "      <th>products_str</th>\n",
       "    </tr>\n",
       "    <tr>\n",
       "      <th>pk_cid</th>\n",
       "      <th></th>\n",
       "      <th></th>\n",
       "      <th></th>\n",
       "      <th></th>\n",
       "    </tr>\n",
       "  </thead>\n",
       "  <tbody>\n",
       "    <tr>\n",
       "      <th>1250924</th>\n",
       "      <td>2030</td>\n",
       "      <td>16</td>\n",
       "      <td>[]</td>\n",
       "      <td></td>\n",
       "    </tr>\n",
       "    <tr>\n",
       "      <th>1126774</th>\n",
       "      <td>1880</td>\n",
       "      <td>15</td>\n",
       "      <td>[]</td>\n",
       "      <td></td>\n",
       "    </tr>\n",
       "    <tr>\n",
       "      <th>1195576</th>\n",
       "      <td>1840</td>\n",
       "      <td>14</td>\n",
       "      <td>[]</td>\n",
       "      <td></td>\n",
       "    </tr>\n",
       "    <tr>\n",
       "      <th>1320970</th>\n",
       "      <td>1820</td>\n",
       "      <td>16</td>\n",
       "      <td>[]</td>\n",
       "      <td></td>\n",
       "    </tr>\n",
       "    <tr>\n",
       "      <th>1016939</th>\n",
       "      <td>1740</td>\n",
       "      <td>10</td>\n",
       "      <td>[]</td>\n",
       "      <td></td>\n",
       "    </tr>\n",
       "    <tr>\n",
       "      <th>...</th>\n",
       "      <td>...</td>\n",
       "      <td>...</td>\n",
       "      <td>...</td>\n",
       "      <td>...</td>\n",
       "    </tr>\n",
       "    <tr>\n",
       "      <th>1330066</th>\n",
       "      <td>0</td>\n",
       "      <td>0</td>\n",
       "      <td>[]</td>\n",
       "      <td></td>\n",
       "    </tr>\n",
       "    <tr>\n",
       "      <th>1330062</th>\n",
       "      <td>0</td>\n",
       "      <td>0</td>\n",
       "      <td>[]</td>\n",
       "      <td></td>\n",
       "    </tr>\n",
       "    <tr>\n",
       "      <th>1330060</th>\n",
       "      <td>0</td>\n",
       "      <td>0</td>\n",
       "      <td>[]</td>\n",
       "      <td></td>\n",
       "    </tr>\n",
       "    <tr>\n",
       "      <th>1330059</th>\n",
       "      <td>0</td>\n",
       "      <td>0</td>\n",
       "      <td>[]</td>\n",
       "      <td></td>\n",
       "    </tr>\n",
       "    <tr>\n",
       "      <th>1553689</th>\n",
       "      <td>0</td>\n",
       "      <td>0</td>\n",
       "      <td>[]</td>\n",
       "      <td></td>\n",
       "    </tr>\n",
       "  </tbody>\n",
       "</table>\n",
       "<p>105982 rows × 4 columns</p>\n",
       "</div>"
      ],
      "text/plain": [
       "         revenue  months products products_str\n",
       "pk_cid                                        \n",
       "1250924     2030      16       []             \n",
       "1126774     1880      15       []             \n",
       "1195576     1840      14       []             \n",
       "1320970     1820      16       []             \n",
       "1016939     1740      10       []             \n",
       "...          ...     ...      ...          ...\n",
       "1330066        0       0       []             \n",
       "1330062        0       0       []             \n",
       "1330060        0       0       []             \n",
       "1330059        0       0       []             \n",
       "1553689        0       0       []             \n",
       "\n",
       "[105982 rows x 4 columns]"
      ]
     },
     "execution_count": 575,
     "metadata": {},
     "output_type": "execute_result"
    }
   ],
   "source": [
    "customer_cumulative_info.loc[(customer_cumulative_info['products_str']=='')].sort_values(by=['revenue','months'], ascending=False)"
   ]
  },
  {
   "cell_type": "code",
   "execution_count": 576,
   "metadata": {},
   "outputs": [],
   "source": [
    "group2 = customer_cumulative_info.loc[(customer_cumulative_info['products_str']=='')].sort_values(by=['revenue','months'], ascending=False).iloc[:7231]\n",
    "index_group2 = group2.index.tolist()\n",
    "customer_cumulative_info = customer_cumulative_info[~customer_cumulative_info.index.isin(index_group2)]"
   ]
  },
  {
   "cell_type": "code",
   "execution_count": 577,
   "metadata": {},
   "outputs": [],
   "source": [
    "df_10k_em = pd.concat([df_10k_em,group2])"
   ]
  },
  {
   "cell_type": "code",
   "execution_count": 578,
   "metadata": {},
   "outputs": [
    {
     "data": {
      "text/html": [
       "<div>\n",
       "<style scoped>\n",
       "    .dataframe tbody tr th:only-of-type {\n",
       "        vertical-align: middle;\n",
       "    }\n",
       "\n",
       "    .dataframe tbody tr th {\n",
       "        vertical-align: top;\n",
       "    }\n",
       "\n",
       "    .dataframe thead th {\n",
       "        text-align: right;\n",
       "    }\n",
       "</style>\n",
       "<table border=\"1\" class=\"dataframe\">\n",
       "  <thead>\n",
       "    <tr style=\"text-align: right;\">\n",
       "      <th></th>\n",
       "      <th>revenue</th>\n",
       "      <th>months</th>\n",
       "    </tr>\n",
       "    <tr>\n",
       "      <th>pk_cid</th>\n",
       "      <th></th>\n",
       "      <th></th>\n",
       "    </tr>\n",
       "  </thead>\n",
       "  <tbody>\n",
       "    <tr>\n",
       "      <th>1045535</th>\n",
       "      <td>2430</td>\n",
       "      <td>16</td>\n",
       "    </tr>\n",
       "    <tr>\n",
       "      <th>1116106</th>\n",
       "      <td>2260</td>\n",
       "      <td>17</td>\n",
       "    </tr>\n",
       "    <tr>\n",
       "      <th>1020461</th>\n",
       "      <td>2260</td>\n",
       "      <td>17</td>\n",
       "    </tr>\n",
       "    <tr>\n",
       "      <th>1119050</th>\n",
       "      <td>2030</td>\n",
       "      <td>17</td>\n",
       "    </tr>\n",
       "    <tr>\n",
       "      <th>1209899</th>\n",
       "      <td>1950</td>\n",
       "      <td>17</td>\n",
       "    </tr>\n",
       "    <tr>\n",
       "      <th>...</th>\n",
       "      <td>...</td>\n",
       "      <td>...</td>\n",
       "    </tr>\n",
       "    <tr>\n",
       "      <th>1119048</th>\n",
       "      <td>50</td>\n",
       "      <td>0</td>\n",
       "    </tr>\n",
       "    <tr>\n",
       "      <th>1352778</th>\n",
       "      <td>50</td>\n",
       "      <td>0</td>\n",
       "    </tr>\n",
       "    <tr>\n",
       "      <th>1272462</th>\n",
       "      <td>50</td>\n",
       "      <td>0</td>\n",
       "    </tr>\n",
       "    <tr>\n",
       "      <th>1272474</th>\n",
       "      <td>50</td>\n",
       "      <td>0</td>\n",
       "    </tr>\n",
       "    <tr>\n",
       "      <th>1350312</th>\n",
       "      <td>50</td>\n",
       "      <td>0</td>\n",
       "    </tr>\n",
       "  </tbody>\n",
       "</table>\n",
       "<p>10000 rows × 2 columns</p>\n",
       "</div>"
      ],
      "text/plain": [
       "         revenue  months\n",
       "pk_cid                  \n",
       "1045535     2430      16\n",
       "1116106     2260      17\n",
       "1020461     2260      17\n",
       "1119050     2030      17\n",
       "1209899     1950      17\n",
       "...          ...     ...\n",
       "1119048       50       0\n",
       "1352778       50       0\n",
       "1272462       50       0\n",
       "1272474       50       0\n",
       "1350312       50       0\n",
       "\n",
       "[10000 rows x 2 columns]"
      ]
     },
     "execution_count": 578,
     "metadata": {},
     "output_type": "execute_result"
    }
   ],
   "source": [
    "df_10k_em.drop(['products','products_str'], axis=1, inplace=True)\n",
    "df_10k_em"
   ]
  },
  {
   "cell_type": "code",
   "execution_count": 579,
   "metadata": {},
   "outputs": [
    {
     "data": {
      "text/html": [
       "<div>\n",
       "<style scoped>\n",
       "    .dataframe tbody tr th:only-of-type {\n",
       "        vertical-align: middle;\n",
       "    }\n",
       "\n",
       "    .dataframe tbody tr th {\n",
       "        vertical-align: top;\n",
       "    }\n",
       "\n",
       "    .dataframe thead th {\n",
       "        text-align: right;\n",
       "    }\n",
       "</style>\n",
       "<table border=\"1\" class=\"dataframe\">\n",
       "  <thead>\n",
       "    <tr style=\"text-align: right;\">\n",
       "      <th></th>\n",
       "      <th>revenue</th>\n",
       "      <th>months</th>\n",
       "    </tr>\n",
       "  </thead>\n",
       "  <tbody>\n",
       "    <tr>\n",
       "      <th>count</th>\n",
       "      <td>10,000.00</td>\n",
       "      <td>10,000.00</td>\n",
       "    </tr>\n",
       "    <tr>\n",
       "      <th>mean</th>\n",
       "      <td>171.09</td>\n",
       "      <td>7.03</td>\n",
       "    </tr>\n",
       "    <tr>\n",
       "      <th>std</th>\n",
       "      <td>222.79</td>\n",
       "      <td>5.48</td>\n",
       "    </tr>\n",
       "    <tr>\n",
       "      <th>min</th>\n",
       "      <td>0.00</td>\n",
       "      <td>0.00</td>\n",
       "    </tr>\n",
       "    <tr>\n",
       "      <th>25%</th>\n",
       "      <td>60.00</td>\n",
       "      <td>2.00</td>\n",
       "    </tr>\n",
       "    <tr>\n",
       "      <th>50%</th>\n",
       "      <td>110.00</td>\n",
       "      <td>7.00</td>\n",
       "    </tr>\n",
       "    <tr>\n",
       "      <th>75%</th>\n",
       "      <td>170.00</td>\n",
       "      <td>11.00</td>\n",
       "    </tr>\n",
       "    <tr>\n",
       "      <th>max</th>\n",
       "      <td>2,430.00</td>\n",
       "      <td>17.00</td>\n",
       "    </tr>\n",
       "  </tbody>\n",
       "</table>\n",
       "</div>"
      ],
      "text/plain": [
       "        revenue    months\n",
       "count 10,000.00 10,000.00\n",
       "mean     171.09      7.03\n",
       "std      222.79      5.48\n",
       "min        0.00      0.00\n",
       "25%       60.00      2.00\n",
       "50%      110.00      7.00\n",
       "75%      170.00     11.00\n",
       "max    2,430.00     17.00"
      ]
     },
     "execution_count": 579,
     "metadata": {},
     "output_type": "execute_result"
    }
   ],
   "source": [
    "df_10k_em.describe()"
   ]
  },
  {
   "cell_type": "code",
   "execution_count": 580,
   "metadata": {},
   "outputs": [],
   "source": [
    "# keep the index for future use\n",
    "index_10k_em = df_10k_em.index.tolist()"
   ]
  },
  {
   "attachments": {},
   "cell_type": "markdown",
   "metadata": {},
   "source": [
    "All 10k customers have or have had relation with the company at some point, either in terms of activity or in terms of revenue."
   ]
  },
  {
   "attachments": {},
   "cell_type": "markdown",
   "metadata": {},
   "source": [
    "<a id=\"1\"></a>\n",
    "<font color=green size=+3><b>1.2 - Manual Selection of product to offer</b></font>"
   ]
  },
  {
   "attachments": {},
   "cell_type": "markdown",
   "metadata": {},
   "source": [
    "During the analysis phase, it has been discussed why the main product of the company (EM account) is the most solid product of the company: the one that attracts more new customers and the one with better retention. Let's refresh the list of most popular product(s) this last month in the list of customers that we didn't select as the 10k."
   ]
  },
  {
   "cell_type": "code",
   "execution_count": 581,
   "metadata": {},
   "outputs": [
    {
     "data": {
      "text/plain": [
       "[em_acount]                                             255094\n",
       "[]                                                       98751\n",
       "[debit_card, em_acount]                                  22400\n",
       "[emc_account, em_acount]                                  7825\n",
       "[payroll, pension_plan, payroll_account, debit_card]      6009\n",
       "[emc_account]                                             5745\n",
       "[payroll_account]                                         4704\n",
       "[payroll, pension_plan, payroll_account]                  4335\n",
       "[payroll_account, debit_card]                             3109\n",
       "[emc_account, debit_card, em_acount]                      2279\n",
       "Name: products, dtype: int64"
      ]
     },
     "execution_count": 581,
     "metadata": {},
     "output_type": "execute_result"
    }
   ],
   "source": [
    "customer_cumulative_info['products'].value_counts().head(10)"
   ]
  },
  {
   "attachments": {},
   "cell_type": "markdown",
   "metadata": {},
   "source": [
    "As seen above, most customers have only EM account, then we still have a great deal of customers that have no products. As it has been just mentioned, debit card and emc account seem to be the products of choice when a customer decides to purchase a second product, specially the former.\n",
    "\n",
    "**Because of these reasons, the product of choice for the recommendation mail to be sent to the chosen 10k customers is EM account.**\\\n",
    "The next step will be to develop a Machine Learning model to assess the statistical probabilities of these customers making the actual purchase."
   ]
  },
  {
   "attachments": {},
   "cell_type": "markdown",
   "metadata": {},
   "source": [
    "<a id=\"1\"></a>\n",
    "<font color=green size=+3><b>1.3 - Manual calculation of the expected Revenue</b></font>"
   ]
  },
  {
   "attachments": {},
   "cell_type": "markdown",
   "metadata": {},
   "source": [
    "From the data and knowledge that has been received from the company, it is impossible to estimate which would be the response rate of the client base.\n",
    "\n",
    "The average response rate from similar marketing campaigns is around 1% and 2%, as seen in the following article.\n",
    "\n",
    "https://www.barilliance.com/email-marketing-statistics/\n",
    "\n",
    "This values will be used to manually estimate the revenue that will be used to proceed with the proposal of recommendation for the 10k mails."
   ]
  },
  {
   "cell_type": "code",
   "execution_count": 658,
   "metadata": {},
   "outputs": [
    {
     "name": "stdout",
     "output_type": "stream",
     "text": [
      "The expected window of revenue if the campaign follows the strategy of proposing EM account would be between [10000.0,20000.0] €\n"
     ]
    }
   ],
   "source": [
    "_min_RR = 0.01\n",
    "_max_RR = 0.02\n",
    "\n",
    "EM_revenue = 10\n",
    "\n",
    "min_expected_rev_base_em = 100000*_min_RR*EM_revenue\n",
    "max_expected_rev_base_em = 100000*_max_RR*EM_revenue\n",
    "\n",
    "print(f\"The expected window of revenue if the campaign follows the strategy of proposing EM account would be between {min_expected_rev_base_em},{max_expected_rev_base_em}] €\")"
   ]
  },
  {
   "attachments": {},
   "cell_type": "markdown",
   "metadata": {},
   "source": [
    "<a id=\"1\"></a>\n",
    "<font color=green size=+3><b>1.4 - Probabilities of purchase - Supervised Learning Model</b></font>"
   ]
  },
  {
   "attachments": {},
   "cell_type": "markdown",
   "metadata": {},
   "source": [
    "The selection of the target customers and product to offer has been the simplest possible and it is focused on engaging customers. In order to estimate estimate the probabilities of them actually purchasing an EM account, let's start with a basic model and proceed from the results. \n",
    "\n",
    "The scope of this section is then to discuss and put in practice the assembly of a supervised model to assess the success of the proposed mail campaign. The model will be trained with data from the latest list of customers in our database and the target to be predicted will be whether certain profiles of revenue and activity have an EM account or not. In order to add one more dimension to the data from where to draw patterns, age will be added as additional information, it is chosen because it seems the most reliable feature out of the ones available. Once the model meets the quality expectations, which are to be specified later on, the list of selected customers will be fed into the model to predict the probabilities of them purchasing an account or not.\n",
    "\n",
    "\n",
    "The steps to follow will be:\n",
    "1. Select features and prepare a dataframe that can be used to train and validate a model. This dataframe can in no way contain any info from the selected 10k customers to avoid data leakage. Note: The revenue and months calculated in previous steps will not be used. Because the problem is defined to predict the state during last partition, no info from this last partition will be used to train, test or validate it.\n",
    "2. Train, test and validate the model with data from the clientbase.\n",
    "3. Generate a confidence of interval via bootstraping our data.\n",
    "4. Once the model meets the expectations, use it to assess the probabilities of our chosen list to purchase the proposed product.\n",
    "5. Estimate a window of revenues to expect from this campaign.\n",
    "\n",
    "Several iterations of different algorithms starting from simple decision trees have been tested, out of them the best performance is given by XGBoost so it has been chosen as the algorithm for building the model.  "
   ]
  },
  {
   "attachments": {},
   "cell_type": "markdown",
   "metadata": {},
   "source": [
    "#### Data preprocessing"
   ]
  },
  {
   "cell_type": "code",
   "execution_count": 582,
   "metadata": {},
   "outputs": [],
   "source": [
    "# Recompute revenue and months w/o taking into account last partition\n",
    "_aux_info_model_df = target_info_df[target_info_df.pk_partition != '2019-05-28']"
   ]
  },
  {
   "cell_type": "code",
   "execution_count": 583,
   "metadata": {},
   "outputs": [
    {
     "data": {
      "text/html": [
       "<div>\n",
       "<style scoped>\n",
       "    .dataframe tbody tr th:only-of-type {\n",
       "        vertical-align: middle;\n",
       "    }\n",
       "\n",
       "    .dataframe tbody tr th {\n",
       "        vertical-align: top;\n",
       "    }\n",
       "\n",
       "    .dataframe thead th {\n",
       "        text-align: right;\n",
       "    }\n",
       "</style>\n",
       "<table border=\"1\" class=\"dataframe\">\n",
       "  <thead>\n",
       "    <tr style=\"text-align: right;\">\n",
       "      <th></th>\n",
       "      <th>revenue</th>\n",
       "      <th>months</th>\n",
       "    </tr>\n",
       "    <tr>\n",
       "      <th>pk_cid</th>\n",
       "      <th></th>\n",
       "      <th></th>\n",
       "    </tr>\n",
       "  </thead>\n",
       "  <tbody>\n",
       "    <tr>\n",
       "      <th>16063</th>\n",
       "      <td>0</td>\n",
       "      <td>5</td>\n",
       "    </tr>\n",
       "    <tr>\n",
       "      <th>16203</th>\n",
       "      <td>40</td>\n",
       "      <td>4</td>\n",
       "    </tr>\n",
       "    <tr>\n",
       "      <th>16502</th>\n",
       "      <td>110</td>\n",
       "      <td>7</td>\n",
       "    </tr>\n",
       "    <tr>\n",
       "      <th>17457</th>\n",
       "      <td>1000</td>\n",
       "      <td>16</td>\n",
       "    </tr>\n",
       "    <tr>\n",
       "      <th>17590</th>\n",
       "      <td>0</td>\n",
       "      <td>10</td>\n",
       "    </tr>\n",
       "  </tbody>\n",
       "</table>\n",
       "</div>"
      ],
      "text/plain": [
       "        revenue  months\n",
       "pk_cid                 \n",
       "16063         0       5\n",
       "16203        40       4\n",
       "16502       110       7\n",
       "17457      1000      16\n",
       "17590         0      10"
      ]
     },
     "execution_count": 583,
     "metadata": {},
     "output_type": "execute_result"
    }
   ],
   "source": [
    "em_model_df = _aux_info_model_df.groupby('pk_cid').agg({'sum': 'sum', 'active_customer': 'sum'})\n",
    "em_model_df.columns = ['revenue', 'months']\n",
    "em_model_df.head()"
   ]
  },
  {
   "cell_type": "code",
   "execution_count": 584,
   "metadata": {},
   "outputs": [
    {
     "data": {
      "text/plain": [
       "(435782, 2)"
      ]
     },
     "execution_count": 584,
     "metadata": {},
     "output_type": "execute_result"
    }
   ],
   "source": [
    "em_model_df.shape"
   ]
  },
  {
   "cell_type": "code",
   "execution_count": 585,
   "metadata": {},
   "outputs": [],
   "source": [
    "# the target will be the state of \"em_acount\" last month\n",
    "EM_last_month = df.loc[df['pk_partition']=='2019-05-28',['pk_cid','em_acount']]\n",
    "EM_last_month.set_index('pk_cid', inplace=True)"
   ]
  },
  {
   "cell_type": "code",
   "execution_count": 586,
   "metadata": {},
   "outputs": [
    {
     "data": {
      "text/plain": [
       "(440248, 1)"
      ]
     },
     "execution_count": 586,
     "metadata": {},
     "output_type": "execute_result"
    }
   ],
   "source": [
    "EM_last_month.shape"
   ]
  },
  {
   "cell_type": "code",
   "execution_count": 587,
   "metadata": {},
   "outputs": [],
   "source": [
    "em_model_df = pd.merge(em_model_df, EM_last_month, how='left',left_index=True, right_index=True)"
   ]
  },
  {
   "cell_type": "code",
   "execution_count": 588,
   "metadata": {},
   "outputs": [
    {
     "data": {
      "text/html": [
       "<div>\n",
       "<style scoped>\n",
       "    .dataframe tbody tr th:only-of-type {\n",
       "        vertical-align: middle;\n",
       "    }\n",
       "\n",
       "    .dataframe tbody tr th {\n",
       "        vertical-align: top;\n",
       "    }\n",
       "\n",
       "    .dataframe thead th {\n",
       "        text-align: right;\n",
       "    }\n",
       "</style>\n",
       "<table border=\"1\" class=\"dataframe\">\n",
       "  <thead>\n",
       "    <tr style=\"text-align: right;\">\n",
       "      <th></th>\n",
       "      <th>revenue</th>\n",
       "      <th>months</th>\n",
       "      <th>em_acount</th>\n",
       "    </tr>\n",
       "    <tr>\n",
       "      <th>pk_cid</th>\n",
       "      <th></th>\n",
       "      <th></th>\n",
       "      <th></th>\n",
       "    </tr>\n",
       "  </thead>\n",
       "  <tbody>\n",
       "    <tr>\n",
       "      <th>16063</th>\n",
       "      <td>0</td>\n",
       "      <td>5</td>\n",
       "      <td>0</td>\n",
       "    </tr>\n",
       "    <tr>\n",
       "      <th>16203</th>\n",
       "      <td>40</td>\n",
       "      <td>4</td>\n",
       "      <td>1</td>\n",
       "    </tr>\n",
       "    <tr>\n",
       "      <th>16502</th>\n",
       "      <td>110</td>\n",
       "      <td>7</td>\n",
       "      <td>1</td>\n",
       "    </tr>\n",
       "    <tr>\n",
       "      <th>17457</th>\n",
       "      <td>1000</td>\n",
       "      <td>16</td>\n",
       "      <td>1</td>\n",
       "    </tr>\n",
       "    <tr>\n",
       "      <th>17590</th>\n",
       "      <td>0</td>\n",
       "      <td>10</td>\n",
       "      <td>0</td>\n",
       "    </tr>\n",
       "  </tbody>\n",
       "</table>\n",
       "</div>"
      ],
      "text/plain": [
       "        revenue  months  em_acount\n",
       "pk_cid                            \n",
       "16063         0       5          0\n",
       "16203        40       4          1\n",
       "16502       110       7          1\n",
       "17457      1000      16          1\n",
       "17590         0      10          0"
      ]
     },
     "execution_count": 588,
     "metadata": {},
     "output_type": "execute_result"
    }
   ],
   "source": [
    "em_model_df.head()"
   ]
  },
  {
   "cell_type": "code",
   "execution_count": 589,
   "metadata": {},
   "outputs": [
    {
     "data": {
      "text/plain": [
       "(435782, 3)"
      ]
     },
     "execution_count": 589,
     "metadata": {},
     "output_type": "execute_result"
    }
   ],
   "source": [
    "em_model_df.shape"
   ]
  },
  {
   "cell_type": "code",
   "execution_count": 590,
   "metadata": {},
   "outputs": [
    {
     "data": {
      "text/html": [
       "<div>\n",
       "<style scoped>\n",
       "    .dataframe tbody tr th:only-of-type {\n",
       "        vertical-align: middle;\n",
       "    }\n",
       "\n",
       "    .dataframe tbody tr th {\n",
       "        vertical-align: top;\n",
       "    }\n",
       "\n",
       "    .dataframe thead th {\n",
       "        text-align: right;\n",
       "    }\n",
       "</style>\n",
       "<table border=\"1\" class=\"dataframe\">\n",
       "  <thead>\n",
       "    <tr style=\"text-align: right;\">\n",
       "      <th></th>\n",
       "      <th>pk_cid</th>\n",
       "      <th>pk_partition</th>\n",
       "      <th>country_id</th>\n",
       "      <th>region_code</th>\n",
       "      <th>gender</th>\n",
       "      <th>age</th>\n",
       "      <th>salary</th>\n",
       "      <th>short_term_deposit</th>\n",
       "      <th>loans</th>\n",
       "      <th>mortgage</th>\n",
       "      <th>...</th>\n",
       "      <th>entry_channel</th>\n",
       "      <th>active_customer</th>\n",
       "      <th>Total_products</th>\n",
       "      <th>year_partition</th>\n",
       "      <th>month_partition</th>\n",
       "      <th>year_month_partition</th>\n",
       "      <th>quarter_entry</th>\n",
       "      <th>year_month_entry</th>\n",
       "      <th>salary_LN</th>\n",
       "      <th>age_cat</th>\n",
       "    </tr>\n",
       "  </thead>\n",
       "  <tbody>\n",
       "    <tr>\n",
       "      <th>0</th>\n",
       "      <td>1375586</td>\n",
       "      <td>2018-01-28</td>\n",
       "      <td>ES</td>\n",
       "      <td>Malaga</td>\n",
       "      <td>H</td>\n",
       "      <td>36</td>\n",
       "      <td>87,218.10</td>\n",
       "      <td>0</td>\n",
       "      <td>0</td>\n",
       "      <td>0</td>\n",
       "      <td>...</td>\n",
       "      <td>others</td>\n",
       "      <td>1</td>\n",
       "      <td>1</td>\n",
       "      <td>2018</td>\n",
       "      <td>1</td>\n",
       "      <td>2018-01</td>\n",
       "      <td>2018-Q1</td>\n",
       "      <td>2018-01</td>\n",
       "      <td>11.38</td>\n",
       "      <td>31-40</td>\n",
       "    </tr>\n",
       "    <tr>\n",
       "      <th>1</th>\n",
       "      <td>1050611</td>\n",
       "      <td>2018-01-28</td>\n",
       "      <td>ES</td>\n",
       "      <td>Ciudad Real</td>\n",
       "      <td>V</td>\n",
       "      <td>24</td>\n",
       "      <td>35,548.74</td>\n",
       "      <td>0</td>\n",
       "      <td>0</td>\n",
       "      <td>0</td>\n",
       "      <td>...</td>\n",
       "      <td>KHE</td>\n",
       "      <td>0</td>\n",
       "      <td>1</td>\n",
       "      <td>2018</td>\n",
       "      <td>1</td>\n",
       "      <td>2018-01</td>\n",
       "      <td>2015-Q3</td>\n",
       "      <td>2015-08</td>\n",
       "      <td>10.48</td>\n",
       "      <td>18-30</td>\n",
       "    </tr>\n",
       "    <tr>\n",
       "      <th>2</th>\n",
       "      <td>1050612</td>\n",
       "      <td>2018-01-28</td>\n",
       "      <td>ES</td>\n",
       "      <td>Ciudad Real</td>\n",
       "      <td>V</td>\n",
       "      <td>23</td>\n",
       "      <td>122,179.11</td>\n",
       "      <td>0</td>\n",
       "      <td>0</td>\n",
       "      <td>0</td>\n",
       "      <td>...</td>\n",
       "      <td>KHE</td>\n",
       "      <td>0</td>\n",
       "      <td>1</td>\n",
       "      <td>2018</td>\n",
       "      <td>1</td>\n",
       "      <td>2018-01</td>\n",
       "      <td>2015-Q3</td>\n",
       "      <td>2015-08</td>\n",
       "      <td>11.71</td>\n",
       "      <td>18-30</td>\n",
       "    </tr>\n",
       "    <tr>\n",
       "      <th>3</th>\n",
       "      <td>1050613</td>\n",
       "      <td>2018-01-28</td>\n",
       "      <td>ES</td>\n",
       "      <td>Zaragoza</td>\n",
       "      <td>H</td>\n",
       "      <td>23</td>\n",
       "      <td>119,775.54</td>\n",
       "      <td>1</td>\n",
       "      <td>0</td>\n",
       "      <td>0</td>\n",
       "      <td>...</td>\n",
       "      <td>KHD</td>\n",
       "      <td>0</td>\n",
       "      <td>1</td>\n",
       "      <td>2018</td>\n",
       "      <td>1</td>\n",
       "      <td>2018-01</td>\n",
       "      <td>2015-Q3</td>\n",
       "      <td>2015-08</td>\n",
       "      <td>11.69</td>\n",
       "      <td>18-30</td>\n",
       "    </tr>\n",
       "    <tr>\n",
       "      <th>4</th>\n",
       "      <td>1050614</td>\n",
       "      <td>2018-01-28</td>\n",
       "      <td>ES</td>\n",
       "      <td>Zaragoza</td>\n",
       "      <td>V</td>\n",
       "      <td>24</td>\n",
       "      <td>89,257.08</td>\n",
       "      <td>0</td>\n",
       "      <td>0</td>\n",
       "      <td>0</td>\n",
       "      <td>...</td>\n",
       "      <td>KHE</td>\n",
       "      <td>1</td>\n",
       "      <td>1</td>\n",
       "      <td>2018</td>\n",
       "      <td>1</td>\n",
       "      <td>2018-01</td>\n",
       "      <td>2015-Q3</td>\n",
       "      <td>2015-08</td>\n",
       "      <td>11.40</td>\n",
       "      <td>18-30</td>\n",
       "    </tr>\n",
       "  </tbody>\n",
       "</table>\n",
       "<p>5 rows × 31 columns</p>\n",
       "</div>"
      ],
      "text/plain": [
       "    pk_cid pk_partition country_id  region_code gender  age     salary  \\\n",
       "0  1375586   2018-01-28         ES       Malaga      H   36  87,218.10   \n",
       "1  1050611   2018-01-28         ES  Ciudad Real      V   24  35,548.74   \n",
       "2  1050612   2018-01-28         ES  Ciudad Real      V   23 122,179.11   \n",
       "3  1050613   2018-01-28         ES     Zaragoza      H   23 119,775.54   \n",
       "4  1050614   2018-01-28         ES     Zaragoza      V   24  89,257.08   \n",
       "\n",
       "   short_term_deposit  loans  mortgage  ...  entry_channel  active_customer  \\\n",
       "0                   0      0         0  ...         others                1   \n",
       "1                   0      0         0  ...            KHE                0   \n",
       "2                   0      0         0  ...            KHE                0   \n",
       "3                   1      0         0  ...            KHD                0   \n",
       "4                   0      0         0  ...            KHE                1   \n",
       "\n",
       "   Total_products  year_partition  month_partition  year_month_partition  \\\n",
       "0               1            2018                1               2018-01   \n",
       "1               1            2018                1               2018-01   \n",
       "2               1            2018                1               2018-01   \n",
       "3               1            2018                1               2018-01   \n",
       "4               1            2018                1               2018-01   \n",
       "\n",
       "   quarter_entry  year_month_entry  salary_LN  age_cat  \n",
       "0        2018-Q1           2018-01      11.38    31-40  \n",
       "1        2015-Q3           2015-08      10.48    18-30  \n",
       "2        2015-Q3           2015-08      11.71    18-30  \n",
       "3        2015-Q3           2015-08      11.69    18-30  \n",
       "4        2015-Q3           2015-08      11.40    18-30  \n",
       "\n",
       "[5 rows x 31 columns]"
      ]
     },
     "execution_count": 590,
     "metadata": {},
     "output_type": "execute_result"
    }
   ],
   "source": [
    "# as said, age will be added as a one hot encoded feature so there is more information from where to draw patterns\n",
    "df['age_cat'] = pd.cut(x=df['age'], bins=[0,18,30,40,50,60,70,80,110], labels=['u18','18-30','31-40','41-50','51-60','61-70','71-80','o80'])\n",
    "df.head()"
   ]
  },
  {
   "cell_type": "code",
   "execution_count": 591,
   "metadata": {},
   "outputs": [
    {
     "data": {
      "text/html": [
       "<div>\n",
       "<style scoped>\n",
       "    .dataframe tbody tr th:only-of-type {\n",
       "        vertical-align: middle;\n",
       "    }\n",
       "\n",
       "    .dataframe tbody tr th {\n",
       "        vertical-align: top;\n",
       "    }\n",
       "\n",
       "    .dataframe thead th {\n",
       "        text-align: right;\n",
       "    }\n",
       "</style>\n",
       "<table border=\"1\" class=\"dataframe\">\n",
       "  <thead>\n",
       "    <tr style=\"text-align: right;\">\n",
       "      <th></th>\n",
       "      <th>revenue</th>\n",
       "      <th>months</th>\n",
       "      <th>em_acount</th>\n",
       "      <th>age_cat</th>\n",
       "    </tr>\n",
       "    <tr>\n",
       "      <th>pk_cid</th>\n",
       "      <th></th>\n",
       "      <th></th>\n",
       "      <th></th>\n",
       "      <th></th>\n",
       "    </tr>\n",
       "  </thead>\n",
       "  <tbody>\n",
       "    <tr>\n",
       "      <th>16063</th>\n",
       "      <td>0</td>\n",
       "      <td>5</td>\n",
       "      <td>0</td>\n",
       "      <td>61-70</td>\n",
       "    </tr>\n",
       "    <tr>\n",
       "      <th>16203</th>\n",
       "      <td>40</td>\n",
       "      <td>4</td>\n",
       "      <td>1</td>\n",
       "      <td>61-70</td>\n",
       "    </tr>\n",
       "    <tr>\n",
       "      <th>16502</th>\n",
       "      <td>110</td>\n",
       "      <td>7</td>\n",
       "      <td>1</td>\n",
       "      <td>51-60</td>\n",
       "    </tr>\n",
       "    <tr>\n",
       "      <th>17457</th>\n",
       "      <td>1000</td>\n",
       "      <td>16</td>\n",
       "      <td>1</td>\n",
       "      <td>51-60</td>\n",
       "    </tr>\n",
       "    <tr>\n",
       "      <th>17590</th>\n",
       "      <td>0</td>\n",
       "      <td>10</td>\n",
       "      <td>0</td>\n",
       "      <td>51-60</td>\n",
       "    </tr>\n",
       "  </tbody>\n",
       "</table>\n",
       "</div>"
      ],
      "text/plain": [
       "        revenue  months  em_acount age_cat\n",
       "pk_cid                                    \n",
       "16063         0       5          0   61-70\n",
       "16203        40       4          1   61-70\n",
       "16502       110       7          1   51-60\n",
       "17457      1000      16          1   51-60\n",
       "17590         0      10          0   51-60"
      ]
     },
     "execution_count": 591,
     "metadata": {},
     "output_type": "execute_result"
    }
   ],
   "source": [
    "_aux_age = df.loc[df['pk_partition']=='2019-05-28',['pk_cid','age_cat']]\n",
    "_aux_age.set_index('pk_cid', inplace=True)\n",
    "# filter out clients that are not appearing\n",
    "em_model_df = pd.merge(em_model_df, _aux_age, how='left',left_index=True, right_index=True)\n",
    "em_model_df.head()"
   ]
  },
  {
   "cell_type": "code",
   "execution_count": 592,
   "metadata": {},
   "outputs": [
    {
     "data": {
      "text/html": [
       "<div>\n",
       "<style scoped>\n",
       "    .dataframe tbody tr th:only-of-type {\n",
       "        vertical-align: middle;\n",
       "    }\n",
       "\n",
       "    .dataframe tbody tr th {\n",
       "        vertical-align: top;\n",
       "    }\n",
       "\n",
       "    .dataframe thead th {\n",
       "        text-align: right;\n",
       "    }\n",
       "</style>\n",
       "<table border=\"1\" class=\"dataframe\">\n",
       "  <thead>\n",
       "    <tr style=\"text-align: right;\">\n",
       "      <th></th>\n",
       "      <th>revenue</th>\n",
       "      <th>months</th>\n",
       "      <th>em_acount</th>\n",
       "      <th>age_u18</th>\n",
       "      <th>age_18-30</th>\n",
       "      <th>age_31-40</th>\n",
       "      <th>age_41-50</th>\n",
       "      <th>age_51-60</th>\n",
       "      <th>age_61-70</th>\n",
       "      <th>age_71-80</th>\n",
       "      <th>age_o80</th>\n",
       "    </tr>\n",
       "    <tr>\n",
       "      <th>pk_cid</th>\n",
       "      <th></th>\n",
       "      <th></th>\n",
       "      <th></th>\n",
       "      <th></th>\n",
       "      <th></th>\n",
       "      <th></th>\n",
       "      <th></th>\n",
       "      <th></th>\n",
       "      <th></th>\n",
       "      <th></th>\n",
       "      <th></th>\n",
       "    </tr>\n",
       "  </thead>\n",
       "  <tbody>\n",
       "    <tr>\n",
       "      <th>16063</th>\n",
       "      <td>0</td>\n",
       "      <td>5</td>\n",
       "      <td>0</td>\n",
       "      <td>0</td>\n",
       "      <td>0</td>\n",
       "      <td>0</td>\n",
       "      <td>0</td>\n",
       "      <td>0</td>\n",
       "      <td>1</td>\n",
       "      <td>0</td>\n",
       "      <td>0</td>\n",
       "    </tr>\n",
       "    <tr>\n",
       "      <th>16203</th>\n",
       "      <td>40</td>\n",
       "      <td>4</td>\n",
       "      <td>1</td>\n",
       "      <td>0</td>\n",
       "      <td>0</td>\n",
       "      <td>0</td>\n",
       "      <td>0</td>\n",
       "      <td>0</td>\n",
       "      <td>1</td>\n",
       "      <td>0</td>\n",
       "      <td>0</td>\n",
       "    </tr>\n",
       "    <tr>\n",
       "      <th>16502</th>\n",
       "      <td>110</td>\n",
       "      <td>7</td>\n",
       "      <td>1</td>\n",
       "      <td>0</td>\n",
       "      <td>0</td>\n",
       "      <td>0</td>\n",
       "      <td>0</td>\n",
       "      <td>1</td>\n",
       "      <td>0</td>\n",
       "      <td>0</td>\n",
       "      <td>0</td>\n",
       "    </tr>\n",
       "    <tr>\n",
       "      <th>17457</th>\n",
       "      <td>1000</td>\n",
       "      <td>16</td>\n",
       "      <td>1</td>\n",
       "      <td>0</td>\n",
       "      <td>0</td>\n",
       "      <td>0</td>\n",
       "      <td>0</td>\n",
       "      <td>1</td>\n",
       "      <td>0</td>\n",
       "      <td>0</td>\n",
       "      <td>0</td>\n",
       "    </tr>\n",
       "    <tr>\n",
       "      <th>17590</th>\n",
       "      <td>0</td>\n",
       "      <td>10</td>\n",
       "      <td>0</td>\n",
       "      <td>0</td>\n",
       "      <td>0</td>\n",
       "      <td>0</td>\n",
       "      <td>0</td>\n",
       "      <td>1</td>\n",
       "      <td>0</td>\n",
       "      <td>0</td>\n",
       "      <td>0</td>\n",
       "    </tr>\n",
       "  </tbody>\n",
       "</table>\n",
       "</div>"
      ],
      "text/plain": [
       "        revenue  months  em_acount  age_u18  age_18-30  age_31-40  age_41-50  \\\n",
       "pk_cid                                                                         \n",
       "16063         0       5          0        0          0          0          0   \n",
       "16203        40       4          1        0          0          0          0   \n",
       "16502       110       7          1        0          0          0          0   \n",
       "17457      1000      16          1        0          0          0          0   \n",
       "17590         0      10          0        0          0          0          0   \n",
       "\n",
       "        age_51-60  age_61-70  age_71-80  age_o80  \n",
       "pk_cid                                            \n",
       "16063           0          1          0        0  \n",
       "16203           0          1          0        0  \n",
       "16502           1          0          0        0  \n",
       "17457           1          0          0        0  \n",
       "17590           1          0          0        0  "
      ]
     },
     "execution_count": 592,
     "metadata": {},
     "output_type": "execute_result"
    }
   ],
   "source": [
    "# one hot encode the age categories\n",
    "_dummy_df = pd.get_dummies(em_model_df['age_cat'], prefix='age')\n",
    "em_model_df = pd.merge(em_model_df, _dummy_df, how='left',left_index=True, right_index=True)\n",
    "em_model_df.drop('age_cat', axis=1, inplace=True)\n",
    "em_model_df.head()\n"
   ]
  },
  {
   "cell_type": "code",
   "execution_count": 593,
   "metadata": {},
   "outputs": [],
   "source": [
    "# make sure our 10k customers are not in the dataframe\n",
    "em_model_df = em_model_df.loc[~em_model_df.index.isin(index_10k_em)]"
   ]
  },
  {
   "cell_type": "code",
   "execution_count": 594,
   "metadata": {},
   "outputs": [],
   "source": [
    "# save\n",
    "em_model_df.to_csv('em_model_df.csv')\n",
    "df_10k_em.to_csv('df_10k_em.csv')"
   ]
  },
  {
   "cell_type": "code",
   "execution_count": 595,
   "metadata": {},
   "outputs": [],
   "source": [
    "em_model_df.rename(columns={\"em_acount\": \"target_em\"}, inplace=True)"
   ]
  },
  {
   "cell_type": "code",
   "execution_count": 596,
   "metadata": {},
   "outputs": [
    {
     "data": {
      "text/html": [
       "<div>\n",
       "<style scoped>\n",
       "    .dataframe tbody tr th:only-of-type {\n",
       "        vertical-align: middle;\n",
       "    }\n",
       "\n",
       "    .dataframe tbody tr th {\n",
       "        vertical-align: top;\n",
       "    }\n",
       "\n",
       "    .dataframe thead th {\n",
       "        text-align: right;\n",
       "    }\n",
       "</style>\n",
       "<table border=\"1\" class=\"dataframe\">\n",
       "  <thead>\n",
       "    <tr style=\"text-align: right;\">\n",
       "      <th></th>\n",
       "      <th>revenue</th>\n",
       "      <th>months</th>\n",
       "      <th>target_em</th>\n",
       "      <th>age_u18</th>\n",
       "      <th>age_18-30</th>\n",
       "      <th>age_31-40</th>\n",
       "      <th>age_41-50</th>\n",
       "      <th>age_51-60</th>\n",
       "      <th>age_61-70</th>\n",
       "      <th>age_71-80</th>\n",
       "      <th>age_o80</th>\n",
       "    </tr>\n",
       "    <tr>\n",
       "      <th>pk_cid</th>\n",
       "      <th></th>\n",
       "      <th></th>\n",
       "      <th></th>\n",
       "      <th></th>\n",
       "      <th></th>\n",
       "      <th></th>\n",
       "      <th></th>\n",
       "      <th></th>\n",
       "      <th></th>\n",
       "      <th></th>\n",
       "      <th></th>\n",
       "    </tr>\n",
       "  </thead>\n",
       "  <tbody>\n",
       "    <tr>\n",
       "      <th>16063</th>\n",
       "      <td>0</td>\n",
       "      <td>5</td>\n",
       "      <td>0</td>\n",
       "      <td>0</td>\n",
       "      <td>0</td>\n",
       "      <td>0</td>\n",
       "      <td>0</td>\n",
       "      <td>0</td>\n",
       "      <td>1</td>\n",
       "      <td>0</td>\n",
       "      <td>0</td>\n",
       "    </tr>\n",
       "    <tr>\n",
       "      <th>16203</th>\n",
       "      <td>40</td>\n",
       "      <td>4</td>\n",
       "      <td>1</td>\n",
       "      <td>0</td>\n",
       "      <td>0</td>\n",
       "      <td>0</td>\n",
       "      <td>0</td>\n",
       "      <td>0</td>\n",
       "      <td>1</td>\n",
       "      <td>0</td>\n",
       "      <td>0</td>\n",
       "    </tr>\n",
       "    <tr>\n",
       "      <th>16502</th>\n",
       "      <td>110</td>\n",
       "      <td>7</td>\n",
       "      <td>1</td>\n",
       "      <td>0</td>\n",
       "      <td>0</td>\n",
       "      <td>0</td>\n",
       "      <td>0</td>\n",
       "      <td>1</td>\n",
       "      <td>0</td>\n",
       "      <td>0</td>\n",
       "      <td>0</td>\n",
       "    </tr>\n",
       "    <tr>\n",
       "      <th>17457</th>\n",
       "      <td>1000</td>\n",
       "      <td>16</td>\n",
       "      <td>1</td>\n",
       "      <td>0</td>\n",
       "      <td>0</td>\n",
       "      <td>0</td>\n",
       "      <td>0</td>\n",
       "      <td>1</td>\n",
       "      <td>0</td>\n",
       "      <td>0</td>\n",
       "      <td>0</td>\n",
       "    </tr>\n",
       "    <tr>\n",
       "      <th>17799</th>\n",
       "      <td>160</td>\n",
       "      <td>16</td>\n",
       "      <td>1</td>\n",
       "      <td>0</td>\n",
       "      <td>0</td>\n",
       "      <td>0</td>\n",
       "      <td>1</td>\n",
       "      <td>0</td>\n",
       "      <td>0</td>\n",
       "      <td>0</td>\n",
       "      <td>0</td>\n",
       "    </tr>\n",
       "  </tbody>\n",
       "</table>\n",
       "</div>"
      ],
      "text/plain": [
       "        revenue  months  target_em  age_u18  age_18-30  age_31-40  age_41-50  \\\n",
       "pk_cid                                                                         \n",
       "16063         0       5          0        0          0          0          0   \n",
       "16203        40       4          1        0          0          0          0   \n",
       "16502       110       7          1        0          0          0          0   \n",
       "17457      1000      16          1        0          0          0          0   \n",
       "17799       160      16          1        0          0          0          1   \n",
       "\n",
       "        age_51-60  age_61-70  age_71-80  age_o80  \n",
       "pk_cid                                            \n",
       "16063           0          1          0        0  \n",
       "16203           0          1          0        0  \n",
       "16502           1          0          0        0  \n",
       "17457           1          0          0        0  \n",
       "17799           0          0          0        0  "
      ]
     },
     "execution_count": 596,
     "metadata": {},
     "output_type": "execute_result"
    }
   ],
   "source": [
    "em_model_df.head()"
   ]
  },
  {
   "cell_type": "code",
   "execution_count": 597,
   "metadata": {},
   "outputs": [],
   "source": [
    "em_model_df['target_em'] = em_model_df['target_em'].astype('uint8')"
   ]
  },
  {
   "cell_type": "code",
   "execution_count": 598,
   "metadata": {},
   "outputs": [
    {
     "name": "stdout",
     "output_type": "stream",
     "text": [
      "<class 'pandas.core.frame.DataFrame'>\n",
      "Int64Index: 425894 entries, 16063 to 1548207\n",
      "Data columns (total 11 columns):\n",
      " #   Column     Non-Null Count   Dtype\n",
      "---  ------     --------------   -----\n",
      " 0   revenue    425894 non-null  int64\n",
      " 1   months     425894 non-null  int64\n",
      " 2   target_em  425894 non-null  uint8\n",
      " 3   age_u18    425894 non-null  uint8\n",
      " 4   age_18-30  425894 non-null  uint8\n",
      " 5   age_31-40  425894 non-null  uint8\n",
      " 6   age_41-50  425894 non-null  uint8\n",
      " 7   age_51-60  425894 non-null  uint8\n",
      " 8   age_61-70  425894 non-null  uint8\n",
      " 9   age_71-80  425894 non-null  uint8\n",
      " 10  age_o80    425894 non-null  uint8\n",
      "dtypes: int64(2), uint8(9)\n",
      "memory usage: 13.4 MB\n"
     ]
    }
   ],
   "source": [
    "em_model_df.info()"
   ]
  },
  {
   "attachments": {},
   "cell_type": "markdown",
   "metadata": {},
   "source": [
    "The dataframe is now ready for the modelling"
   ]
  },
  {
   "attachments": {},
   "cell_type": "markdown",
   "metadata": {},
   "source": [
    "#### Split data"
   ]
  },
  {
   "cell_type": "code",
   "execution_count": 599,
   "metadata": {},
   "outputs": [],
   "source": [
    "X_train_em, X_dev_em, y_train_em, y_dev_em = model_selection.train_test_split(\n",
    "    em_model_df.drop('target_em',axis=1),\n",
    "    em_model_df['target_em'],\n",
    "    test_size=0.3,\n",
    "    random_state=42\n",
    ")"
   ]
  },
  {
   "cell_type": "code",
   "execution_count": 600,
   "metadata": {},
   "outputs": [
    {
     "name": "stdout",
     "output_type": "stream",
     "text": [
      "(425894, 11)\n",
      "(298125, 10)\n",
      "(127769, 10)\n"
     ]
    }
   ],
   "source": [
    "print(em_model_df.shape)\n",
    "print(X_train_em.shape)\n",
    "print(X_dev_em.shape)"
   ]
  },
  {
   "cell_type": "code",
   "execution_count": 601,
   "metadata": {},
   "outputs": [],
   "source": [
    "X_test_em, X_val_em, y_test_em, y_val_em = model_selection.train_test_split(\n",
    "    X_dev_em,\n",
    "    y_dev_em,\n",
    "    test_size = 0.5,\n",
    "    random_state=42\n",
    ")"
   ]
  },
  {
   "cell_type": "code",
   "execution_count": 602,
   "metadata": {},
   "outputs": [
    {
     "name": "stdout",
     "output_type": "stream",
     "text": [
      "(63884, 10)\n",
      "(63885, 10)\n"
     ]
    }
   ],
   "source": [
    "print(X_test_em.shape)\n",
    "print(X_val_em.shape)"
   ]
  },
  {
   "attachments": {},
   "cell_type": "markdown",
   "metadata": {},
   "source": [
    "#### Model"
   ]
  },
  {
   "cell_type": "code",
   "execution_count": 603,
   "metadata": {},
   "outputs": [],
   "source": [
    "split_dict_em = {\n",
    "    \"TRAINING\": [X_train_em, y_train_em],\n",
    "    \"TESTING\": [X_test_em, y_test_em]\n",
    "}"
   ]
  },
  {
   "cell_type": "code",
   "execution_count": 604,
   "metadata": {},
   "outputs": [
    {
     "name": "stderr",
     "output_type": "stream",
     "text": [
      "c:\\Users\\javce\\anaconda3\\envs\\nuclio_env\\lib\\site-packages\\xgboost\\data.py:250: FutureWarning: pandas.Int64Index is deprecated and will be removed from pandas in a future version. Use pandas.Index with the appropriate dtype instead.\n",
      "  elif isinstance(data.columns, (pd.Int64Index, pd.RangeIndex)):\n"
     ]
    },
    {
     "data": {
      "text/html": [
       "<style>#sk-container-id-17 {color: black;background-color: white;}#sk-container-id-17 pre{padding: 0;}#sk-container-id-17 div.sk-toggleable {background-color: white;}#sk-container-id-17 label.sk-toggleable__label {cursor: pointer;display: block;width: 100%;margin-bottom: 0;padding: 0.3em;box-sizing: border-box;text-align: center;}#sk-container-id-17 label.sk-toggleable__label-arrow:before {content: \"▸\";float: left;margin-right: 0.25em;color: #696969;}#sk-container-id-17 label.sk-toggleable__label-arrow:hover:before {color: black;}#sk-container-id-17 div.sk-estimator:hover label.sk-toggleable__label-arrow:before {color: black;}#sk-container-id-17 div.sk-toggleable__content {max-height: 0;max-width: 0;overflow: hidden;text-align: left;background-color: #f0f8ff;}#sk-container-id-17 div.sk-toggleable__content pre {margin: 0.2em;color: black;border-radius: 0.25em;background-color: #f0f8ff;}#sk-container-id-17 input.sk-toggleable__control:checked~div.sk-toggleable__content {max-height: 200px;max-width: 100%;overflow: auto;}#sk-container-id-17 input.sk-toggleable__control:checked~label.sk-toggleable__label-arrow:before {content: \"▾\";}#sk-container-id-17 div.sk-estimator input.sk-toggleable__control:checked~label.sk-toggleable__label {background-color: #d4ebff;}#sk-container-id-17 div.sk-label input.sk-toggleable__control:checked~label.sk-toggleable__label {background-color: #d4ebff;}#sk-container-id-17 input.sk-hidden--visually {border: 0;clip: rect(1px 1px 1px 1px);clip: rect(1px, 1px, 1px, 1px);height: 1px;margin: -1px;overflow: hidden;padding: 0;position: absolute;width: 1px;}#sk-container-id-17 div.sk-estimator {font-family: monospace;background-color: #f0f8ff;border: 1px dotted black;border-radius: 0.25em;box-sizing: border-box;margin-bottom: 0.5em;}#sk-container-id-17 div.sk-estimator:hover {background-color: #d4ebff;}#sk-container-id-17 div.sk-parallel-item::after {content: \"\";width: 100%;border-bottom: 1px solid gray;flex-grow: 1;}#sk-container-id-17 div.sk-label:hover label.sk-toggleable__label {background-color: #d4ebff;}#sk-container-id-17 div.sk-serial::before {content: \"\";position: absolute;border-left: 1px solid gray;box-sizing: border-box;top: 0;bottom: 0;left: 50%;z-index: 0;}#sk-container-id-17 div.sk-serial {display: flex;flex-direction: column;align-items: center;background-color: white;padding-right: 0.2em;padding-left: 0.2em;position: relative;}#sk-container-id-17 div.sk-item {position: relative;z-index: 1;}#sk-container-id-17 div.sk-parallel {display: flex;align-items: stretch;justify-content: center;background-color: white;position: relative;}#sk-container-id-17 div.sk-item::before, #sk-container-id-17 div.sk-parallel-item::before {content: \"\";position: absolute;border-left: 1px solid gray;box-sizing: border-box;top: 0;bottom: 0;left: 50%;z-index: -1;}#sk-container-id-17 div.sk-parallel-item {display: flex;flex-direction: column;z-index: 1;position: relative;background-color: white;}#sk-container-id-17 div.sk-parallel-item:first-child::after {align-self: flex-end;width: 50%;}#sk-container-id-17 div.sk-parallel-item:last-child::after {align-self: flex-start;width: 50%;}#sk-container-id-17 div.sk-parallel-item:only-child::after {width: 0;}#sk-container-id-17 div.sk-dashed-wrapped {border: 1px dashed gray;margin: 0 0.4em 0.5em 0.4em;box-sizing: border-box;padding-bottom: 0.4em;background-color: white;}#sk-container-id-17 div.sk-label label {font-family: monospace;font-weight: bold;display: inline-block;line-height: 1.2em;}#sk-container-id-17 div.sk-label-container {text-align: center;}#sk-container-id-17 div.sk-container {/* jupyter's `normalize.less` sets `[hidden] { display: none; }` but bootstrap.min.css set `[hidden] { display: none !important; }` so we also need the `!important` here to be able to override the default hidden behavior on the sphinx rendered scikit-learn.org. See: https://github.com/scikit-learn/scikit-learn/issues/21755 */display: inline-block !important;position: relative;}#sk-container-id-17 div.sk-text-repr-fallback {display: none;}</style><div id=\"sk-container-id-17\" class=\"sk-top-container\"><div class=\"sk-text-repr-fallback\"><pre>XGBClassifier(base_score=0.5, booster=&#x27;gbtree&#x27;, colsample_bylevel=1,\n",
       "              colsample_bynode=1, colsample_bytree=1, enable_categorical=False,\n",
       "              eta=0.1, gamma=5, gpu_id=-1, importance_type=None,\n",
       "              interaction_constraints=&#x27;&#x27;, learning_rate=0.100000001,\n",
       "              max_delta_step=0, max_depth=15, min_child_weight=0.5, missing=nan,\n",
       "              monotone_constraints=&#x27;()&#x27;, n_estimators=100, n_jobs=8,\n",
       "              num_parallel_tree=1, predictor=&#x27;auto&#x27;, random_state=42,\n",
       "              reg_alpha=0, reg_lambda=1, scale_pos_weight=1, subsample=1,\n",
       "              tree_method=&#x27;exact&#x27;, use_label_encoder=False,\n",
       "              validate_parameters=1, verbosity=0)</pre><b>In a Jupyter environment, please rerun this cell to show the HTML representation or trust the notebook. <br />On GitHub, the HTML representation is unable to render, please try loading this page with nbviewer.org.</b></div><div class=\"sk-container\" hidden><div class=\"sk-item\"><div class=\"sk-estimator sk-toggleable\"><input class=\"sk-toggleable__control sk-hidden--visually\" id=\"sk-estimator-id-17\" type=\"checkbox\" checked><label for=\"sk-estimator-id-17\" class=\"sk-toggleable__label sk-toggleable__label-arrow\">XGBClassifier</label><div class=\"sk-toggleable__content\"><pre>XGBClassifier(base_score=0.5, booster=&#x27;gbtree&#x27;, colsample_bylevel=1,\n",
       "              colsample_bynode=1, colsample_bytree=1, enable_categorical=False,\n",
       "              eta=0.1, gamma=5, gpu_id=-1, importance_type=None,\n",
       "              interaction_constraints=&#x27;&#x27;, learning_rate=0.100000001,\n",
       "              max_delta_step=0, max_depth=15, min_child_weight=0.5, missing=nan,\n",
       "              monotone_constraints=&#x27;()&#x27;, n_estimators=100, n_jobs=8,\n",
       "              num_parallel_tree=1, predictor=&#x27;auto&#x27;, random_state=42,\n",
       "              reg_alpha=0, reg_lambda=1, scale_pos_weight=1, subsample=1,\n",
       "              tree_method=&#x27;exact&#x27;, use_label_encoder=False,\n",
       "              validate_parameters=1, verbosity=0)</pre></div></div></div></div></div>"
      ],
      "text/plain": [
       "XGBClassifier(base_score=0.5, booster='gbtree', colsample_bylevel=1,\n",
       "              colsample_bynode=1, colsample_bytree=1, enable_categorical=False,\n",
       "              eta=0.1, gamma=5, gpu_id=-1, importance_type=None,\n",
       "              interaction_constraints='', learning_rate=0.100000001,\n",
       "              max_delta_step=0, max_depth=15, min_child_weight=0.5, missing=nan,\n",
       "              monotone_constraints='()', n_estimators=100, n_jobs=8,\n",
       "              num_parallel_tree=1, predictor='auto', random_state=42,\n",
       "              reg_alpha=0, reg_lambda=1, scale_pos_weight=1, subsample=1,\n",
       "              tree_method='exact', use_label_encoder=False,\n",
       "              validate_parameters=1, verbosity=0)"
      ]
     },
     "execution_count": 604,
     "metadata": {},
     "output_type": "execute_result"
    }
   ],
   "source": [
    "# instantiate model\n",
    "xgb_model_em = xgb.XGBClassifier(\n",
    "    eta = 0.1,\n",
    "    max_depth = 15,\n",
    "    min_child_weight = 0.5,\n",
    "    gamma = 5,\n",
    "    random_state = 42,\n",
    "    verbosity=0,\n",
    "    use_label_encoder=False\n",
    ")\n",
    "\n",
    "# train \n",
    "xgb_model_em.fit(X = X_train_em, y = y_train_em)"
   ]
  },
  {
   "cell_type": "code",
   "execution_count": 605,
   "metadata": {},
   "outputs": [
    {
     "name": "stdout",
     "output_type": "stream",
     "text": [
      "If the model would predict all values as a 1, the Accuracy would be 0.69. \n",
      "This is the bare minimum Accuracy that is needed to obtain for considering it a valid model.\n"
     ]
    }
   ],
   "source": [
    "# Baseline\n",
    "dummy_clf = DummyClassifier(strategy=\"constant\", constant=1)\n",
    "dummy_clf.fit(X_test_em, y_test_em)\n",
    "dummy_clf.predict(X_test_em)\n",
    "baseline_score = round(dummy_clf.score(X_test_em, y_test_em), 2) \n",
    "print(f\"If the model would predict all values as a 1, the Accuracy would be {baseline_score}. \\nThis is the bare minimum Accuracy that is needed to obtain for considering it a valid model.\")"
   ]
  },
  {
   "cell_type": "code",
   "execution_count": 606,
   "metadata": {},
   "outputs": [
    {
     "name": "stdout",
     "output_type": "stream",
     "text": [
      "################## EM ACCOUNT ##################\n",
      "____________ SCORES & EVALUATIONS ____________\n",
      "#################### RESULTS ###################\n",
      "\n",
      "#################### TRAINING ####################\n",
      "Accuracy: 0.93509 | Precision: 0.9389 | Recall: 0.96943 | F1_Score: 0.95392\n",
      "TN = 78482 | FN = 6316 | TP = 200293 | FP = 13034\n",
      "Positive prediction value: 93.89% | Negative prediction value: 92.55%\n",
      "########## TOP FEATURES ##########\n",
      "revenue     0.66\n",
      "age_18-30   0.20\n",
      "months      0.05\n",
      "age_31-40   0.04\n",
      "age_41-50   0.01\n",
      "dtype: float32\n",
      "\n",
      "\n",
      "#################### TESTING ####################\n",
      "Accuracy: 0.93217 | Precision: 0.93665 | Recall: 0.96697 | F1_Score: 0.95157\n",
      "TN = 16982 | FN = 1454 | TP = 42569 | FP = 2879\n",
      "Positive prediction value: 93.67% | Negative prediction value: 92.11%\n",
      "########## TOP FEATURES ##########\n",
      "revenue     0.66\n",
      "age_18-30   0.20\n",
      "months      0.05\n",
      "age_31-40   0.04\n",
      "age_41-50   0.01\n",
      "dtype: float32\n",
      "\n",
      "\n"
     ]
    }
   ],
   "source": [
    "print(\"################## EM ACCOUNT ##################\")\n",
    "print(\"____________ SCORES & EVALUATIONS ____________\")\n",
    "print(\"#################### RESULTS ###################\\n\")\n",
    "\n",
    "\n",
    "for data in split_dict_em.items():\n",
    "    pred = xgb_model_em.predict(data[1][0])\n",
    "    confusion_matrix = metrics.confusion_matrix(data[1][1], pred)\n",
    "    tn, fp, fn, tp = confusion_matrix.ravel()\n",
    "    Accuracy = metrics.accuracy_score(data[1][1], pred)\n",
    "    Precision = metrics.precision_score(data[1][1], pred)\n",
    "    Recall = metrics.recall_score(data[1][1], pred)\n",
    "    F_1_Score = metrics.f1_score(data[1][1], pred)\n",
    "\n",
    "    PPV, NPV = ((tp / (tp + fp)) * 100), ((tn / (fn + tn)) * 100)\n",
    "\n",
    "    print(f\"#################### {data[0]} ####################\")\n",
    "    print(f\"Accuracy: {round(Accuracy, 5)} | Precision: {round(Precision, 5)} | Recall: {round(Recall, 5)} | F1_Score: {round(F_1_Score, 5)}\")\n",
    "    print(f\"TN = {tn} | FN = {fn} | TP = {tp} | FP = {fp}\")\n",
    "    print(f\"Positive prediction value: {round(PPV, 2)}% | Negative prediction value: {round(NPV, 2)}%\")\n",
    "    print(\"########## TOP FEATURES ##########\")\n",
    "    top_features = pd.Series(xgb_model_em.feature_importances_, index = data[1][0].columns).sort_values(ascending = False).head()\n",
    "    print(top_features)\n",
    "    print(\"\\n\")"
   ]
  },
  {
   "attachments": {},
   "cell_type": "markdown",
   "metadata": {},
   "source": [
    "**Results**\n",
    "\n",
    "Due to the nature of the problem that is being tackled, identifying potential buyers, a false negative is much more damaging to the company than a false positive. The former would mean that the company is not identifying as a buyer someone with higher chances of being so. False positives are also important because they would be targetted as buyers when they won't likely buy anything, but as long as the number of false negatives is reduced to a minimum, a low proportion of false positives is not concerning. In order to evaluate this properly, the target metrics will be recall and accuracy.\n",
    "\n",
    "Regarding the actual results, first of all a baseline has been set. This baseline is computed as the accuracy that would be obtained if we predict the target as only 1 (purchase). As it can be seen, our accuracy is much better than this, for both Training and Testing (93.5% and 93.2% respectively vs 69% baseline). Also, the most important metric in this problem, recall, has the best results of all of them: 96.9% and 96.7%. These are good indicators to move forward.\n",
    "\n",
    "As for the top features, we see that revenue plays a very important role, perhaps too important and that months has only a marginal weight on the decision."
   ]
  },
  {
   "cell_type": "code",
   "execution_count": 607,
   "metadata": {},
   "outputs": [],
   "source": [
    "# # Grid search\n",
    "\n",
    "# params_xgb = {\n",
    "#         'eta': [0.05, 0.1, 0.3],\n",
    "#         'min_child_weight': [0.5, 1, 5],\n",
    "#         'gamma': [0.5, 1, 1.5, 2, 5],\n",
    "#         'max_depth': [5, 10, 30, 45],\n",
    "#         'subsample': [0.8, 0.9, 1]\n",
    "#         }\n",
    "\n",
    "# grid_search_xgb = model_selection.GridSearchCV(\n",
    "#     estimator=xgb_model_em,\n",
    "#     param_grid=params_xgb,\n",
    "#     scoring='recall',\n",
    "#     cv=5,\n",
    "#     verbose=1\n",
    "# )\n",
    "\n",
    "# grid_search_xgb.fit(X_train_em, y_train_em)\n",
    "\n",
    "# print(grid_search_xgb.best_estimator_)"
   ]
  },
  {
   "cell_type": "code",
   "execution_count": 608,
   "metadata": {},
   "outputs": [
    {
     "name": "stdout",
     "output_type": "stream",
     "text": [
      "Accuracy:  0.9321739402667335\n",
      "Precision:  0.9366528780144341\n",
      "Recall:  0.9669718101901279\n",
      "F1 score xgb:  0.9515709000681786\n"
     ]
    }
   ],
   "source": [
    "# validation data\n",
    "\n",
    "y_val_pred_em = pd.DataFrame(xgb_model_em.predict(X_test_em), index = y_test_em.index, columns = ['pred'])\n",
    "results_val_em = pd.DataFrame(y_test_em).join(y_val_pred_em, how = 'inner')\n",
    "\n",
    "# metrics\n",
    "Accuracy_val_em = metrics.accuracy_score(results_val_em['target_em'], results_val_em['pred'])\n",
    "Precision_val_em = metrics.precision_score(results_val_em['target_em'], results_val_em['pred'])\n",
    "Recall_val_em = metrics.recall_score(results_val_em['target_em'], results_val_em['pred'])\n",
    "rf_f1_val_em = metrics.f1_score(y_test_em, y_val_pred_em)\n",
    "print(\"Accuracy: \", Accuracy_val_em)\n",
    "print(\"Precision: \", Precision_val_em)\n",
    "print(\"Recall: \", Recall_val_em)\n",
    "print(\"F1 score xgb: \",rf_f1_val_em)"
   ]
  },
  {
   "attachments": {},
   "cell_type": "markdown",
   "metadata": {},
   "source": [
    "The validation results are very consistent and in line with the trend from training and testing.\\\n",
    "One of the possible reasons for such good results is the amount of data that we have, more than 500k datarows for training, testing and validating. On the other hand, we might also have undetected overfitting: the number of features that we are using to build profiles is very limited and thus the output might not be as close to reality as we would like it to be. Models are simplifications of reality and because of this, they will always be limited, but more diverse data with good quality would help to build more reliable and robust models.\n",
    "\n",
    "The next step will be now to build an interval of confidence in an attempt to assess the robustness of the model."
   ]
  },
  {
   "attachments": {},
   "cell_type": "markdown",
   "metadata": {},
   "source": [
    "#### Interval of confidence"
   ]
  },
  {
   "attachments": {},
   "cell_type": "markdown",
   "metadata": {},
   "source": [
    "While it is true that the dataset that has been used is large and therefore there is some statistical relevance in the results, it is good practice to assess these results and calculate a confidence interval for them.\n",
    "\n",
    "Since we do not have access to new data with the same conditions from the same source, in order to draw new datasets the method to follow will be sampling our own dataset with instances from itself to generate new bootstrap datasets.\n",
    "\n",
    "The methodology is:\n",
    "1. Create bootstrap dataset of the same size of the original dataset by drawing instances at random from the test set.\n",
    "2. Genereate enough bootstrap datasets to achieve the desired level of confidence.\n",
    "3. For each one of the bootstrap samples, calculate the target metrics.\n",
    "\n",
    "As stated in the previous section, due to the nature of the problem at hand, the target metrics are accuracy and recall. "
   ]
  },
  {
   "cell_type": "code",
   "execution_count": 609,
   "metadata": {},
   "outputs": [],
   "source": [
    "# 1. Function to create one bootsrap dataset from the original one\n",
    "def one_boot(*data_args):\n",
    "    \"\"\"Usage: (t, p) = one_boot(true, pred) with true, pred, t, p arrays of same length\n",
    "    \"\"\"\n",
    "    length = len(data_args[0])\n",
    "    index = np.random.randint(0, length, size=length)  # apply same sampled index to all args:\n",
    "    return [pd.Series(arg.values[index], name=arg.name) if isinstance(arg, pd.Series) else arg[index] for arg in data_args]\n",
    "\n",
    "# Compute metrics on passed data\n",
    "def calc_metrics(metrics, *data_args):\n",
    "    \"\"\"Return a list of calculated values for each metric applied to *data_args\n",
    "    where metrics is a metric func or iterable of funcs e.g. [m1, m2, m3, m4]\n",
    "    \"\"\"\n",
    "    metrics=_fix_metrics(metrics)\n",
    "    mname = metrics.__name__ if hasattr(metrics, '__name__') else \"Metric\"\n",
    "    return pd.Series([m(*data_args) for m in metrics], index=[_metric_name(m) for m in metrics], name=mname)\n",
    "\n",
    "# aesthetics for __name__ of the metric\n",
    "def _metric_name(metric):  \n",
    "    name = re.sub(' score$', '', metric.__name__.replace('_',' ').strip())\n",
    "    return name.title() if name.lower()==name else name\n",
    "\n",
    "# Standardize metrics to always be a Series, no matter how many we have\n",
    "# - if only one, list of one to Series\n",
    "# - if multiple (already a list), to Series\n",
    "def _fix_metrics(metrics_): # allow for single metric func or any iterable of metric funcs\n",
    "    if callable(metrics_): metrics_=[metrics_]  # single metric func to list of one\n",
    "    return pd.Series(metrics_)  # in case iterable metrics_ is generator, generate & store\n",
    "\n",
    "# Progress bar\n",
    "def trange(iterable):  \n",
    "    return tqdm.trange(iterable, bar_format=\"{l_bar}{bar:30}{r_bar}{bar:-10b}\")\n",
    "\n",
    "# Generator of N boots\n",
    "def _boot_generator(*data_args, nboots): #return Gener of boot sampl datasets, not huge list!\n",
    "    return (one_boot(*data_args) for _ in trange(nboots)) # generator expression\n",
    "\n",
    "# Metrics for N boots coming from our data\n",
    "def raw_metric_samples(metrics, *data_args, nboots):\n",
    "    \"\"\"Return dataframe containing metric(s) for nboots boot sample datasets\n",
    "    where metrics is a metric func or iterable of funcs e.g. [m1, m2, m3]\n",
    "    \"\"\"\n",
    "    metrics=_fix_metrics(metrics)\n",
    "    _boot_gen = _boot_generator(*data_args, nboots=nboots) # boot gen es un cambio que he introducido yo\n",
    "    cols=[calc_metrics(metrics, *boot_data) for boot_data in _boot_gen if boot_data[0].nunique() >1]\n",
    "    return pd.DataFrame({iboot: col for iboot,col in enumerate(cols)}).rename_axis(\"Boot\", axis=\"columns\").rename_axis(cols[0].name)\n",
    "\n",
    "# Compute number of boots depending on the desired confidence of interval\n",
    "def _min_nboots_from(alpha):\n",
    "    return int(np.ceil((MIN_BOOTS_IN_1TAIL - 1)/(0.5*alpha) + 1)) \n",
    "def _min_alpha_from(nboots):\n",
    "    return 2 * (MIN_BOOTS_IN_1TAIL - 1) / (nboots - 1)\n",
    "\n",
    "# Default alpha = 0.05, meaning our default desired CI is 95%\n",
    "DFLT_ALPHA = 0.05     \n",
    "# With the following parameter we can define how many boots we need to have in the tails of the \n",
    "# distribution in order to ensure we get our desired level of confidence. This value comes from literature.\n",
    "MIN_BOOTS_IN_1TAIL=11 \n",
    "MAX_ALPHA = 0.40 \n",
    "MIN_NBOOTS = _min_nboots_from(MAX_ALPHA)\n",
    "\n",
    "# compute the nboots for our given alpha (1- CI)\n",
    "def get_alpha_nboots(alpha=DFLT_ALPHA, nboots=None):\n",
    "    \"\"\"Return (alpha, nboots) with default nboots, applying MIN_NBOOTS & min alpha for nboots.\n",
    "    \"\"\"\n",
    "    if alpha > MAX_ALPHA and (0 < (1-alpha) <= MAX_ALPHA):\n",
    "        raise ValueError(f'alpha={alpha} > 0.5. Did you mean alpha={1-alpha:.9g}?')\n",
    "    elif not (0 < alpha <= MAX_ALPHA):\n",
    "        raise ValueError(f'alpha={alpha} is outside allowed range: 0 < alpha <= {MAX_ALPHA}')\n",
    "    if pd.isna(nboots):   # by dflt use calculated min nboots for given alpha:\n",
    "        nboots = _min_nboots_from(alpha)\n",
    "    if int(nboots) != nboots: raise ValueError(f\"nboots={nboots} isn't an integer\")\n",
    "    nboots = max(int(nboots), MIN_NBOOTS)  # apply min to a specified OR calculated nboots\n",
    "    alpha = max(alpha, _min_alpha_from(nboots))  # apply min alpha for final nboots\n",
    "    return (alpha, nboots)  # tuple of possibly-modified args\n",
    "\n",
    "# Histogram of bootstrap sample dataset showing confidence interval only of Balanced Accuracy\n",
    "def metric_boot_histogram(metric, *data_args, alpha=DFLT_ALPHA, nboots=None, ax=None):\n",
    "    \"\"\"Plot histogram w/ lines for 1 observed metric & its confidence interval.\n",
    "    \"\"\"\n",
    "    alpha, nboots = get_alpha_nboots(alpha, nboots) # 1-row df 2 series:\n",
    "    series = raw_metric_samples(metric, *data_args, nboots=nboots).iloc[0,:]\n",
    "    nboots=len(series) # in case some failed\n",
    "    (lo, hi) = series.quantile([0.5*alpha, 1 - 0.5*alpha])\n",
    "    if ax is None:\n",
    "        fig, ax = plt.subplots()\n",
    "    ax.hist(series, bins=50, alpha=0.4, edgecolor='white')\n",
    "    showing = f\"\\n for {100*(1-alpha):.4g}% Confidence Interval\"\n",
    "    ax.set_title(f\"Result of {nboots} boots\" + showing)\n",
    "    ax.set_xlabel(series.name)\n",
    "    ax.xaxis.set_major_formatter(mtick.PercentFormatter(1.0, decimals=0))\n",
    "    for x in lo, metric(*data_args), hi:\n",
    "        ax.plot([x, x], [0, nboots*.07], lw=2.5)\n",
    "\n",
    "# confidence interval for all list of metrics\n",
    "def ci_auto( metrics, *data_args, alpha=DFLT_ALPHA, nboots=None):\n",
    "    \"\"\"Return Pandas data frame of bootstrap confidence intervals. \n",
    "    PARAMETERS:\n",
    "    metrics : a metric func or iterable of funcs e.g. [m1, m2, m3]\n",
    "    data_args : 1+ (often 2, e.g. ytrue,ypred) iterables for metric \n",
    "    alpha: = 1 - confidence level; default=0.05 i.e. confidence=0.95\n",
    "    nboots (optional!): # boots drawn from data; dflt None ==> calc. from alpha\n",
    "    \"\"\"\n",
    "    alpha, nboots = get_alpha_nboots(alpha, nboots)\n",
    "    metrics=_fix_metrics(metrics)\n",
    "    result=raw_metric_samples(metrics, *data_args, nboots=nboots)\n",
    "    nb=result.shape[1]  # num boots we ended up with\n",
    "    if nb<nboots:\n",
    "        t = f'Note: {nboots-nb} boot sample datasets dropped\\n'\n",
    "        print(t + f'(out of {nboots}) because all vals were same in 1st data arg.')\n",
    "    result = result.apply(lambda row: row.quantile([0.5*alpha, 1 - 0.5*alpha]), axis=1)\n",
    "    result.columns = [f'{x*100:.4g}%ile' for x in (0.5*alpha, 1 - 0.5*alpha)]\n",
    "    result.insert(0, \"Observed\", calc_metrics(metrics, *data_args)) # col. for obs (point estim)\n",
    "    return result.rename_axis(f\"%ile for {nb} Boots\", axis=\"columns\")"
   ]
  },
  {
   "cell_type": "code",
   "execution_count": 610,
   "metadata": {},
   "outputs": [
    {
     "name": "stderr",
     "output_type": "stream",
     "text": [
      "100%|██████████████████████████████| 401/401 [00:07<00:00, 56.31it/s]\n",
      "100%|██████████████████████████████| 401/401 [00:20<00:00, 19.98it/s]\n"
     ]
    },
    {
     "data": {
      "image/png": "[encoded data removed]",
      "text/plain": [
       "<Figure size 1200x400 with 2 Axes>"
      ]
     },
     "metadata": {},
     "output_type": "display_data"
    }
   ],
   "source": [
    "np.random.seed(42)\n",
    "\n",
    "fig, (ax1, ax2) = plt.subplots(1, 2, figsize=(12, 4))\n",
    "# CI for Accuracy\n",
    "metric_boot_histogram(accuracy_score, results_val_em['target_em'], results_val_em['pred'], ax=ax1)\n",
    "# CI for Recall\n",
    "metric_boot_histogram(recall_score, results_val_em['target_em'], results_val_em['pred'], ax=ax2)\n",
    "plt.show()"
   ]
  },
  {
   "cell_type": "code",
   "execution_count": 611,
   "metadata": {},
   "outputs": [
    {
     "name": "stderr",
     "output_type": "stream",
     "text": [
      "100%|██████████████████████████████| 401/401 [00:37<00:00, 10.76it/s]\n"
     ]
    },
    {
     "data": {
      "text/html": [
       "<style type=\"text/css\">\n",
       "</style>\n",
       "<table id=\"T_3e6d6\">\n",
       "  <thead>\n",
       "    <tr>\n",
       "      <th class=\"index_name level0\" >%ile for 401 Boots</th>\n",
       "      <th id=\"T_3e6d6_level0_col0\" class=\"col_heading level0 col0\" >Observed</th>\n",
       "      <th id=\"T_3e6d6_level0_col1\" class=\"col_heading level0 col1\" >2.5%ile</th>\n",
       "      <th id=\"T_3e6d6_level0_col2\" class=\"col_heading level0 col2\" >97.5%ile</th>\n",
       "    </tr>\n",
       "    <tr>\n",
       "      <th class=\"index_name level0\" >Metric</th>\n",
       "      <th class=\"blank col0\" >&nbsp;</th>\n",
       "      <th class=\"blank col1\" >&nbsp;</th>\n",
       "      <th class=\"blank col2\" >&nbsp;</th>\n",
       "    </tr>\n",
       "  </thead>\n",
       "  <tbody>\n",
       "    <tr>\n",
       "      <th id=\"T_3e6d6_level0_row0\" class=\"row_heading level0 row0\" >Recall</th>\n",
       "      <td id=\"T_3e6d6_row0_col0\" class=\"data row0 col0\" >96.70%</td>\n",
       "      <td id=\"T_3e6d6_row0_col1\" class=\"data row0 col1\" >96.52%</td>\n",
       "      <td id=\"T_3e6d6_row0_col2\" class=\"data row0 col2\" >96.85%</td>\n",
       "    </tr>\n",
       "    <tr>\n",
       "      <th id=\"T_3e6d6_level0_row1\" class=\"row_heading level0 row1\" >Accuracy</th>\n",
       "      <td id=\"T_3e6d6_row1_col0\" class=\"data row1 col0\" >93.22%</td>\n",
       "      <td id=\"T_3e6d6_row1_col1\" class=\"data row1 col1\" >93.03%</td>\n",
       "      <td id=\"T_3e6d6_row1_col2\" class=\"data row1 col2\" >93.41%</td>\n",
       "    </tr>\n",
       "  </tbody>\n",
       "</table>\n"
      ],
      "text/plain": [
       "<pandas.io.formats.style.Styler at 0x2ae05415e40>"
      ]
     },
     "execution_count": 611,
     "metadata": {},
     "output_type": "execute_result"
    }
   ],
   "source": [
    "# Define metrics\n",
    "met=[recall_score, accuracy_score]\n",
    "\n",
    "# calculate Confidence interval\n",
    "np.random.seed(42)\n",
    "ci_auto(met, results_val_em['target_em'], results_val_em['pred']).style.format('{:.2%}') # y = target, the other value is the category we are actually predicting"
   ]
  },
  {
   "attachments": {},
   "cell_type": "markdown",
   "metadata": {},
   "source": [
    "The very narrow intervals of confidence are due to the massive amount of datapoints, which helps to draw statistically significant results. The results seem to be outstanding but there are very high chances that it is overfitting due to the scarcity of the data used.\n",
    "\n",
    "The model is ready to assess the selection of 10k customers."
   ]
  },
  {
   "attachments": {},
   "cell_type": "markdown",
   "metadata": {},
   "source": [
    "#### Evaluation of the 10k chosen customers"
   ]
  },
  {
   "attachments": {},
   "cell_type": "markdown",
   "metadata": {},
   "source": [
    "First thing that needs to be commented before evaluating the results is that the selection of the 10k customers does include the last partition info. \n",
    "\n",
    "This is due to the fact that the goal is to simulate the input of complete new data to the model, so there will be values and patterns that are new and perhaps difficult to evaluate but it is closer to a real scenario."
   ]
  },
  {
   "cell_type": "code",
   "execution_count": 612,
   "metadata": {},
   "outputs": [
    {
     "data": {
      "text/html": [
       "<div>\n",
       "<style scoped>\n",
       "    .dataframe tbody tr th:only-of-type {\n",
       "        vertical-align: middle;\n",
       "    }\n",
       "\n",
       "    .dataframe tbody tr th {\n",
       "        vertical-align: top;\n",
       "    }\n",
       "\n",
       "    .dataframe thead th {\n",
       "        text-align: right;\n",
       "    }\n",
       "</style>\n",
       "<table border=\"1\" class=\"dataframe\">\n",
       "  <thead>\n",
       "    <tr style=\"text-align: right;\">\n",
       "      <th></th>\n",
       "      <th>revenue</th>\n",
       "      <th>months</th>\n",
       "      <th>age_u18</th>\n",
       "      <th>age_18-30</th>\n",
       "      <th>age_31-40</th>\n",
       "      <th>age_41-50</th>\n",
       "      <th>age_51-60</th>\n",
       "      <th>age_61-70</th>\n",
       "      <th>age_71-80</th>\n",
       "      <th>age_o80</th>\n",
       "    </tr>\n",
       "    <tr>\n",
       "      <th>pk_cid</th>\n",
       "      <th></th>\n",
       "      <th></th>\n",
       "      <th></th>\n",
       "      <th></th>\n",
       "      <th></th>\n",
       "      <th></th>\n",
       "      <th></th>\n",
       "      <th></th>\n",
       "      <th></th>\n",
       "      <th></th>\n",
       "    </tr>\n",
       "  </thead>\n",
       "  <tbody>\n",
       "    <tr>\n",
       "      <th>1045535</th>\n",
       "      <td>2430</td>\n",
       "      <td>16</td>\n",
       "      <td>0</td>\n",
       "      <td>0</td>\n",
       "      <td>1</td>\n",
       "      <td>0</td>\n",
       "      <td>0</td>\n",
       "      <td>0</td>\n",
       "      <td>0</td>\n",
       "      <td>0</td>\n",
       "    </tr>\n",
       "    <tr>\n",
       "      <th>1116106</th>\n",
       "      <td>2260</td>\n",
       "      <td>17</td>\n",
       "      <td>0</td>\n",
       "      <td>0</td>\n",
       "      <td>0</td>\n",
       "      <td>1</td>\n",
       "      <td>0</td>\n",
       "      <td>0</td>\n",
       "      <td>0</td>\n",
       "      <td>0</td>\n",
       "    </tr>\n",
       "    <tr>\n",
       "      <th>1020461</th>\n",
       "      <td>2260</td>\n",
       "      <td>17</td>\n",
       "      <td>0</td>\n",
       "      <td>0</td>\n",
       "      <td>1</td>\n",
       "      <td>0</td>\n",
       "      <td>0</td>\n",
       "      <td>0</td>\n",
       "      <td>0</td>\n",
       "      <td>0</td>\n",
       "    </tr>\n",
       "    <tr>\n",
       "      <th>1119050</th>\n",
       "      <td>2030</td>\n",
       "      <td>17</td>\n",
       "      <td>0</td>\n",
       "      <td>0</td>\n",
       "      <td>1</td>\n",
       "      <td>0</td>\n",
       "      <td>0</td>\n",
       "      <td>0</td>\n",
       "      <td>0</td>\n",
       "      <td>0</td>\n",
       "    </tr>\n",
       "    <tr>\n",
       "      <th>1209899</th>\n",
       "      <td>1950</td>\n",
       "      <td>17</td>\n",
       "      <td>0</td>\n",
       "      <td>0</td>\n",
       "      <td>1</td>\n",
       "      <td>0</td>\n",
       "      <td>0</td>\n",
       "      <td>0</td>\n",
       "      <td>0</td>\n",
       "      <td>0</td>\n",
       "    </tr>\n",
       "  </tbody>\n",
       "</table>\n",
       "</div>"
      ],
      "text/plain": [
       "         revenue  months  age_u18  age_18-30  age_31-40  age_41-50  age_51-60  \\\n",
       "pk_cid                                                                          \n",
       "1045535     2430      16        0          0          1          0          0   \n",
       "1116106     2260      17        0          0          0          1          0   \n",
       "1020461     2260      17        0          0          1          0          0   \n",
       "1119050     2030      17        0          0          1          0          0   \n",
       "1209899     1950      17        0          0          1          0          0   \n",
       "\n",
       "         age_61-70  age_71-80  age_o80  \n",
       "pk_cid                                  \n",
       "1045535          0          0        0  \n",
       "1116106          0          0        0  \n",
       "1020461          0          0        0  \n",
       "1119050          0          0        0  \n",
       "1209899          0          0        0  "
      ]
     },
     "execution_count": 612,
     "metadata": {},
     "output_type": "execute_result"
    }
   ],
   "source": [
    "# add the ages\n",
    "df_10k_em = pd.merge(df_10k_em, _aux_age, how='left', left_index=True, right_index=True)\n",
    "# one hot encode the ages\n",
    "_dummy_df = pd.get_dummies(df_10k_em['age_cat'], prefix='age')\n",
    "df_10k_em = pd.merge(df_10k_em, _dummy_df, how='left',left_index=True, right_index=True)\n",
    "df_10k_em.drop('age_cat', axis=1, inplace=True)\n",
    "df_10k_em.head()\n"
   ]
  },
  {
   "cell_type": "code",
   "execution_count": 613,
   "metadata": {},
   "outputs": [
    {
     "data": {
      "text/html": [
       "<div>\n",
       "<style scoped>\n",
       "    .dataframe tbody tr th:only-of-type {\n",
       "        vertical-align: middle;\n",
       "    }\n",
       "\n",
       "    .dataframe tbody tr th {\n",
       "        vertical-align: top;\n",
       "    }\n",
       "\n",
       "    .dataframe thead th {\n",
       "        text-align: right;\n",
       "    }\n",
       "</style>\n",
       "<table border=\"1\" class=\"dataframe\">\n",
       "  <thead>\n",
       "    <tr style=\"text-align: right;\">\n",
       "      <th></th>\n",
       "      <th>revenue</th>\n",
       "      <th>months</th>\n",
       "      <th>age_u18</th>\n",
       "      <th>age_18-30</th>\n",
       "      <th>age_31-40</th>\n",
       "      <th>age_41-50</th>\n",
       "      <th>age_51-60</th>\n",
       "      <th>age_61-70</th>\n",
       "      <th>age_71-80</th>\n",
       "      <th>age_o80</th>\n",
       "      <th>class2</th>\n",
       "      <th>pred</th>\n",
       "    </tr>\n",
       "  </thead>\n",
       "  <tbody>\n",
       "    <tr>\n",
       "      <th>1045535</th>\n",
       "      <td>2430</td>\n",
       "      <td>16</td>\n",
       "      <td>0</td>\n",
       "      <td>0</td>\n",
       "      <td>1</td>\n",
       "      <td>0</td>\n",
       "      <td>0</td>\n",
       "      <td>0</td>\n",
       "      <td>0</td>\n",
       "      <td>0</td>\n",
       "      <td>0.15</td>\n",
       "      <td>0</td>\n",
       "    </tr>\n",
       "    <tr>\n",
       "      <th>1116106</th>\n",
       "      <td>2260</td>\n",
       "      <td>17</td>\n",
       "      <td>0</td>\n",
       "      <td>0</td>\n",
       "      <td>0</td>\n",
       "      <td>1</td>\n",
       "      <td>0</td>\n",
       "      <td>0</td>\n",
       "      <td>0</td>\n",
       "      <td>0</td>\n",
       "      <td>0.33</td>\n",
       "      <td>0</td>\n",
       "    </tr>\n",
       "    <tr>\n",
       "      <th>1020461</th>\n",
       "      <td>2260</td>\n",
       "      <td>17</td>\n",
       "      <td>0</td>\n",
       "      <td>0</td>\n",
       "      <td>1</td>\n",
       "      <td>0</td>\n",
       "      <td>0</td>\n",
       "      <td>0</td>\n",
       "      <td>0</td>\n",
       "      <td>0</td>\n",
       "      <td>0.23</td>\n",
       "      <td>0</td>\n",
       "    </tr>\n",
       "    <tr>\n",
       "      <th>1119050</th>\n",
       "      <td>2030</td>\n",
       "      <td>17</td>\n",
       "      <td>0</td>\n",
       "      <td>0</td>\n",
       "      <td>1</td>\n",
       "      <td>0</td>\n",
       "      <td>0</td>\n",
       "      <td>0</td>\n",
       "      <td>0</td>\n",
       "      <td>0</td>\n",
       "      <td>0.47</td>\n",
       "      <td>0</td>\n",
       "    </tr>\n",
       "    <tr>\n",
       "      <th>1209899</th>\n",
       "      <td>1950</td>\n",
       "      <td>17</td>\n",
       "      <td>0</td>\n",
       "      <td>0</td>\n",
       "      <td>1</td>\n",
       "      <td>0</td>\n",
       "      <td>0</td>\n",
       "      <td>0</td>\n",
       "      <td>0</td>\n",
       "      <td>0</td>\n",
       "      <td>0.27</td>\n",
       "      <td>0</td>\n",
       "    </tr>\n",
       "    <tr>\n",
       "      <th>...</th>\n",
       "      <td>...</td>\n",
       "      <td>...</td>\n",
       "      <td>...</td>\n",
       "      <td>...</td>\n",
       "      <td>...</td>\n",
       "      <td>...</td>\n",
       "      <td>...</td>\n",
       "      <td>...</td>\n",
       "      <td>...</td>\n",
       "      <td>...</td>\n",
       "      <td>...</td>\n",
       "      <td>...</td>\n",
       "    </tr>\n",
       "    <tr>\n",
       "      <th>1119048</th>\n",
       "      <td>50</td>\n",
       "      <td>0</td>\n",
       "      <td>0</td>\n",
       "      <td>1</td>\n",
       "      <td>0</td>\n",
       "      <td>0</td>\n",
       "      <td>0</td>\n",
       "      <td>0</td>\n",
       "      <td>0</td>\n",
       "      <td>0</td>\n",
       "      <td>0.86</td>\n",
       "      <td>1</td>\n",
       "    </tr>\n",
       "    <tr>\n",
       "      <th>1352778</th>\n",
       "      <td>50</td>\n",
       "      <td>0</td>\n",
       "      <td>0</td>\n",
       "      <td>0</td>\n",
       "      <td>1</td>\n",
       "      <td>0</td>\n",
       "      <td>0</td>\n",
       "      <td>0</td>\n",
       "      <td>0</td>\n",
       "      <td>0</td>\n",
       "      <td>0.62</td>\n",
       "      <td>1</td>\n",
       "    </tr>\n",
       "    <tr>\n",
       "      <th>1272462</th>\n",
       "      <td>50</td>\n",
       "      <td>0</td>\n",
       "      <td>0</td>\n",
       "      <td>1</td>\n",
       "      <td>0</td>\n",
       "      <td>0</td>\n",
       "      <td>0</td>\n",
       "      <td>0</td>\n",
       "      <td>0</td>\n",
       "      <td>0</td>\n",
       "      <td>0.86</td>\n",
       "      <td>1</td>\n",
       "    </tr>\n",
       "    <tr>\n",
       "      <th>1272474</th>\n",
       "      <td>50</td>\n",
       "      <td>0</td>\n",
       "      <td>0</td>\n",
       "      <td>1</td>\n",
       "      <td>0</td>\n",
       "      <td>0</td>\n",
       "      <td>0</td>\n",
       "      <td>0</td>\n",
       "      <td>0</td>\n",
       "      <td>0</td>\n",
       "      <td>0.86</td>\n",
       "      <td>1</td>\n",
       "    </tr>\n",
       "    <tr>\n",
       "      <th>1350312</th>\n",
       "      <td>50</td>\n",
       "      <td>0</td>\n",
       "      <td>0</td>\n",
       "      <td>1</td>\n",
       "      <td>0</td>\n",
       "      <td>0</td>\n",
       "      <td>0</td>\n",
       "      <td>0</td>\n",
       "      <td>0</td>\n",
       "      <td>0</td>\n",
       "      <td>0.86</td>\n",
       "      <td>1</td>\n",
       "    </tr>\n",
       "  </tbody>\n",
       "</table>\n",
       "<p>10000 rows × 12 columns</p>\n",
       "</div>"
      ],
      "text/plain": [
       "         revenue  months  age_u18  age_18-30  age_31-40  age_41-50  age_51-60  \\\n",
       "1045535     2430      16        0          0          1          0          0   \n",
       "1116106     2260      17        0          0          0          1          0   \n",
       "1020461     2260      17        0          0          1          0          0   \n",
       "1119050     2030      17        0          0          1          0          0   \n",
       "1209899     1950      17        0          0          1          0          0   \n",
       "...          ...     ...      ...        ...        ...        ...        ...   \n",
       "1119048       50       0        0          1          0          0          0   \n",
       "1352778       50       0        0          0          1          0          0   \n",
       "1272462       50       0        0          1          0          0          0   \n",
       "1272474       50       0        0          1          0          0          0   \n",
       "1350312       50       0        0          1          0          0          0   \n",
       "\n",
       "         age_61-70  age_71-80  age_o80  class2  pred  \n",
       "1045535          0          0        0    0.15     0  \n",
       "1116106          0          0        0    0.33     0  \n",
       "1020461          0          0        0    0.23     0  \n",
       "1119050          0          0        0    0.47     0  \n",
       "1209899          0          0        0    0.27     0  \n",
       "...            ...        ...      ...     ...   ...  \n",
       "1119048          0          0        0    0.86     1  \n",
       "1352778          0          0        0    0.62     1  \n",
       "1272462          0          0        0    0.86     1  \n",
       "1272474          0          0        0    0.86     1  \n",
       "1350312          0          0        0    0.86     1  \n",
       "\n",
       "[10000 rows x 12 columns]"
      ]
     },
     "execution_count": 613,
     "metadata": {},
     "output_type": "execute_result"
    }
   ],
   "source": [
    "proba_em_10k = xgb_model_em.predict_proba(df_10k_em)\n",
    "pred_em_10k = xgb_model_em.predict(df_10k_em)\n",
    "proba_em_10k_df = pd.DataFrame(data = proba_em_10k, index=index_10k_em, columns=['class1','class2'])\n",
    "pred_em_10k_df = pd.DataFrame(data = pred_em_10k, index=index_10k_em, columns=['pred'])\n",
    "df_10k_em = pd.concat([df_10k_em, proba_em_10k_df['class2'], pred_em_10k_df], axis=1)\n",
    "df_10k_em\n"
   ]
  },
  {
   "cell_type": "code",
   "execution_count": 614,
   "metadata": {},
   "outputs": [
    {
     "data": {
      "text/html": [
       "<div>\n",
       "<style scoped>\n",
       "    .dataframe tbody tr th:only-of-type {\n",
       "        vertical-align: middle;\n",
       "    }\n",
       "\n",
       "    .dataframe tbody tr th {\n",
       "        vertical-align: top;\n",
       "    }\n",
       "\n",
       "    .dataframe thead tr th {\n",
       "        text-align: left;\n",
       "    }\n",
       "\n",
       "    .dataframe thead tr:last-of-type th {\n",
       "        text-align: right;\n",
       "    }\n",
       "</style>\n",
       "<table border=\"1\" class=\"dataframe\">\n",
       "  <thead>\n",
       "    <tr>\n",
       "      <th></th>\n",
       "      <th>min</th>\n",
       "      <th>mean</th>\n",
       "    </tr>\n",
       "    <tr>\n",
       "      <th></th>\n",
       "      <th>class2</th>\n",
       "      <th>class2</th>\n",
       "    </tr>\n",
       "    <tr>\n",
       "      <th>pred</th>\n",
       "      <th></th>\n",
       "      <th></th>\n",
       "    </tr>\n",
       "  </thead>\n",
       "  <tbody>\n",
       "    <tr>\n",
       "      <th>0</th>\n",
       "      <td>0.02</td>\n",
       "      <td>0.20</td>\n",
       "    </tr>\n",
       "    <tr>\n",
       "      <th>1</th>\n",
       "      <td>0.50</td>\n",
       "      <td>0.85</td>\n",
       "    </tr>\n",
       "  </tbody>\n",
       "</table>\n",
       "</div>"
      ],
      "text/plain": [
       "        min   mean\n",
       "     class2 class2\n",
       "pred              \n",
       "0      0.02   0.20\n",
       "1      0.50   0.85"
      ]
     },
     "execution_count": 614,
     "metadata": {},
     "output_type": "execute_result"
    }
   ],
   "source": [
    "pd.pivot_table(data=df_10k_em[['pred','class2']], index='pred', aggfunc=['min','mean'])"
   ]
  },
  {
   "cell_type": "code",
   "execution_count": 615,
   "metadata": {},
   "outputs": [
    {
     "data": {
      "text/plain": [
       "672"
      ]
     },
     "execution_count": 615,
     "metadata": {},
     "output_type": "execute_result"
    }
   ],
   "source": [
    "# Interestingly, only 672 customers out of the 2769 seem to have more than random probabilities of purchasing the account\n",
    "len(set(index_group1) & set(df_10k_em[df_10k_em['class2']>0.5].index.to_list()))\n"
   ]
  },
  {
   "cell_type": "code",
   "execution_count": 616,
   "metadata": {},
   "outputs": [
    {
     "name": "stdout",
     "output_type": "stream",
     "text": [
      "(7036, 12)\n",
      "(4169, 12)\n"
     ]
    }
   ],
   "source": [
    "print(df_10k_em[df_10k_em['class2']>0.5].shape)\n",
    "print(df_10k_em[df_10k_em['class2']>0.85].shape)"
   ]
  },
  {
   "attachments": {},
   "cell_type": "markdown",
   "metadata": {},
   "source": [
    "The model choses by default 50% as a threshold for assignnig purchase/no-purchase to a given row. However, the mean proba for success is 0.85. \n",
    "It can be seen that out of the 10k, 7k of them are predicted with a higher chance than 50% to buy the product. ~4k of them if we set the threshold at 85%.\n",
    "\n",
    "This value will be the chosen one in order to calculate a window of expected revenues coming out of this mail campaign, which will be used to contrast this strategy with the following one (recommending debit cards) and recommend the one with most potential to be the plan of action for the company. To calculate a window, a range of +- 3% will be applied.\n"
   ]
  },
  {
   "cell_type": "code",
   "execution_count": 650,
   "metadata": {},
   "outputs": [
    {
     "name": "stdout",
     "output_type": "stream",
     "text": [
      "The expected window of revenue if the campaign follows the strategy of proposing EM account would be between [217500,266880] €\n",
      "The mean expected revenue is 250140€\n"
     ]
    }
   ],
   "source": [
    "_max_window_em = df_10k_em[df_10k_em['class2']>=0.82]\n",
    "max_expected_rev_em = _max_window_em['pred'].sum()*60\n",
    "_min_window_em = df_10k_em[df_10k_em['class2']>=0.88]\n",
    "min_expected_rev_em = _min_window_em['pred'].sum()*60\n",
    "_mean_window_em = df_10k_em[df_10k_em['class2']>=0.85]\n",
    "mean_expected_rev_em = _mean_window_em['pred'].sum()*60\n",
    "print(f\"The expected window of revenue if the campaign follows the strategy of proposing EM account would be between [{min_expected_rev_em},{max_expected_rev_em}] €\")\n",
    "print(f\"The mean expected revenue is {mean_expected_rev_em}€\")"
   ]
  },
  {
   "cell_type": "code",
   "execution_count": 618,
   "metadata": {},
   "outputs": [
    {
     "name": "stdout",
     "output_type": "stream",
     "text": [
      "The expected mean response rate for this campaign is 65.5%.\n"
     ]
    }
   ],
   "source": [
    "mean_response_rate_em = df_10k_em['class2'].mean()\n",
    "print(f\"The expected mean response rate for this campaign is {round(mean_response_rate_em*100,1)}%.\")"
   ]
  },
  {
   "attachments": {},
   "cell_type": "markdown",
   "metadata": {},
   "source": [
    "<a id=\"1\"></a>\n",
    "<font color=green size=+3><b>2 - Alternative strategy: Debit card recommendation</b></font>"
   ]
  },
  {
   "attachments": {},
   "cell_type": "markdown",
   "metadata": {},
   "source": [
    "It has been seen already several times that the most popular product to go together with an EM account is the debit card, which also happens to be one of the products which bring most revenue to the company. Now that a baseline model and results have been established, the goal will be to improve upon them. To do so, now a new target group of 10k customers will be defined, which will focus on customers that already have an EM account but no debit card. \n",
    "\n",
    "The process will be the same as for the previous section, with the difference that the product to recommend is already defined:\n",
    "- Manual selection of the 10k customers\n",
    "- Build a Supervised Learning problem with the same objective: calculate probabilities of purchase.\n",
    "\n"
   ]
  },
  {
   "attachments": {},
   "cell_type": "markdown",
   "metadata": {},
   "source": [
    "<font color=green size=+3><b>2.1 - Manual selection of 10k customers</b></font>"
   ]
  },
  {
   "cell_type": "code",
   "execution_count": 619,
   "metadata": {},
   "outputs": [
    {
     "data": {
      "text/html": [
       "<div>\n",
       "<style scoped>\n",
       "    .dataframe tbody tr th:only-of-type {\n",
       "        vertical-align: middle;\n",
       "    }\n",
       "\n",
       "    .dataframe tbody tr th {\n",
       "        vertical-align: top;\n",
       "    }\n",
       "\n",
       "    .dataframe thead th {\n",
       "        text-align: right;\n",
       "    }\n",
       "</style>\n",
       "<table border=\"1\" class=\"dataframe\">\n",
       "  <thead>\n",
       "    <tr style=\"text-align: right;\">\n",
       "      <th></th>\n",
       "      <th>revenue</th>\n",
       "      <th>months</th>\n",
       "    </tr>\n",
       "    <tr>\n",
       "      <th>pk_cid</th>\n",
       "      <th></th>\n",
       "      <th></th>\n",
       "    </tr>\n",
       "  </thead>\n",
       "  <tbody>\n",
       "    <tr>\n",
       "      <th>16063</th>\n",
       "      <td>0</td>\n",
       "      <td>5</td>\n",
       "    </tr>\n",
       "    <tr>\n",
       "      <th>16203</th>\n",
       "      <td>50</td>\n",
       "      <td>5</td>\n",
       "    </tr>\n",
       "    <tr>\n",
       "      <th>16502</th>\n",
       "      <td>130</td>\n",
       "      <td>8</td>\n",
       "    </tr>\n",
       "    <tr>\n",
       "      <th>17457</th>\n",
       "      <td>1110</td>\n",
       "      <td>17</td>\n",
       "    </tr>\n",
       "    <tr>\n",
       "      <th>17590</th>\n",
       "      <td>0</td>\n",
       "      <td>11</td>\n",
       "    </tr>\n",
       "  </tbody>\n",
       "</table>\n",
       "</div>"
      ],
      "text/plain": [
       "        revenue  months\n",
       "pk_cid                 \n",
       "16063         0       5\n",
       "16203        50       5\n",
       "16502       130       8\n",
       "17457      1110      17\n",
       "17590         0      11"
      ]
     },
     "execution_count": 619,
     "metadata": {},
     "output_type": "execute_result"
    }
   ],
   "source": [
    "# selection of the 10k from the same customer base\n",
    "customer_cumulative_info_dc = target_info_df.groupby('pk_cid').agg({'sum': 'sum', 'active_customer': 'sum'})\n",
    "customer_cumulative_info_dc.columns = ['revenue', 'months']\n",
    "customer_cumulative_info_dc.to_csv('customer_cumulative_info_dc.csv')\n",
    "customer_cumulative_info_dc.head()"
   ]
  },
  {
   "cell_type": "code",
   "execution_count": 620,
   "metadata": {},
   "outputs": [
    {
     "data": {
      "text/plain": [
       "(440248, 2)"
      ]
     },
     "execution_count": 620,
     "metadata": {},
     "output_type": "execute_result"
    }
   ],
   "source": [
    "customer_cumulative_info_dc.shape"
   ]
  },
  {
   "cell_type": "code",
   "execution_count": 621,
   "metadata": {},
   "outputs": [
    {
     "data": {
      "text/plain": [
       "[em_acount]                                             255094\n",
       "[]                                                      108751\n",
       "[debit_card, em_acount]                                  22400\n",
       "[emc_account, em_acount]                                  7825\n",
       "[payroll, pension_plan, payroll_account, debit_card]      6009\n",
       "[emc_account]                                             5745\n",
       "[payroll_account]                                         4704\n",
       "[payroll, pension_plan, payroll_account]                  4335\n",
       "[payroll_account, debit_card]                             3109\n",
       "[emc_account, debit_card, em_acount]                      2279\n",
       "Name: products, dtype: int64"
      ]
     },
     "execution_count": 621,
     "metadata": {},
     "output_type": "execute_result"
    }
   ],
   "source": [
    "customer_cumulative_info_dc = pd.merge(customer_cumulative_info_dc, products_per_customer, how='left', left_index=True, right_index=True)\n",
    "customer_cumulative_info_dc['products'].value_counts().head(10)"
   ]
  },
  {
   "cell_type": "code",
   "execution_count": 622,
   "metadata": {},
   "outputs": [],
   "source": [
    "customer_cumulative_info_dc['products_str'] = customer_cumulative_info_dc['products'].astype('str')\n",
    "customer_cumulative_info_dc['products_str'] = customer_cumulative_info_dc['products_str'].str.strip('[]').str.replace(\"'\",\"\")"
   ]
  },
  {
   "attachments": {},
   "cell_type": "markdown",
   "metadata": {},
   "source": [
    "A total of 255095 customers appear in the last partition owning an EM account. From this pool the selection of 10k will be drawn.\n",
    "\n",
    "As a first filter, activity in the app:"
   ]
  },
  {
   "cell_type": "code",
   "execution_count": 623,
   "metadata": {},
   "outputs": [
    {
     "data": {
      "text/plain": [
       "94195"
      ]
     },
     "execution_count": 623,
     "metadata": {},
     "output_type": "execute_result"
    }
   ],
   "source": [
    "# which ones of them have been active last month??\n",
    "index_recommend_debit_card = df.loc[(df['pk_partition']=='2019-05-28')&(df['active_customer']==1)&(df['em_acount']==1)&(df['Total_products']==1), 'pk_cid'].unique()\n",
    "len(index_recommend_debit_card)"
   ]
  },
  {
   "attachments": {},
   "cell_type": "markdown",
   "metadata": {},
   "source": [
    "Having so many, the final selection can be drawn out of this group directly by taking into account total revenue and months of activity."
   ]
  },
  {
   "cell_type": "code",
   "execution_count": 624,
   "metadata": {},
   "outputs": [
    {
     "name": "stdout",
     "output_type": "stream",
     "text": [
      "430248\n",
      "10000\n",
      "440248\n"
     ]
    }
   ],
   "source": [
    "df_10k_debit_card = customer_cumulative_info_dc[customer_cumulative_info_dc.index.isin(index_recommend_debit_card)]\n",
    "# get the best 10k\n",
    "df_10k_debit_card = df_10k_debit_card.sort_values(by=['revenue','months'], ascending=False).iloc[:10000]\n",
    "# Remove the 10k from the df for training\n",
    "index_10k_debit_card = df_10k_debit_card.index\n",
    "customer_cumulative_info_dc = customer_cumulative_info_dc[~customer_cumulative_info_dc.index.isin(index_10k_debit_card)]\n",
    "print(len(customer_cumulative_info_dc))\n",
    "print(len(df_10k_debit_card))\n",
    "print(len(customer_cumulative_info_dc) + len(df_10k_debit_card))\n"
   ]
  },
  {
   "cell_type": "code",
   "execution_count": 625,
   "metadata": {},
   "outputs": [
    {
     "data": {
      "text/html": [
       "<div>\n",
       "<style scoped>\n",
       "    .dataframe tbody tr th:only-of-type {\n",
       "        vertical-align: middle;\n",
       "    }\n",
       "\n",
       "    .dataframe tbody tr th {\n",
       "        vertical-align: top;\n",
       "    }\n",
       "\n",
       "    .dataframe thead th {\n",
       "        text-align: right;\n",
       "    }\n",
       "</style>\n",
       "<table border=\"1\" class=\"dataframe\">\n",
       "  <thead>\n",
       "    <tr style=\"text-align: right;\">\n",
       "      <th></th>\n",
       "      <th>revenue</th>\n",
       "      <th>months</th>\n",
       "    </tr>\n",
       "  </thead>\n",
       "  <tbody>\n",
       "    <tr>\n",
       "      <th>count</th>\n",
       "      <td>10,000.00</td>\n",
       "      <td>10,000.00</td>\n",
       "    </tr>\n",
       "    <tr>\n",
       "      <th>mean</th>\n",
       "      <td>431.35</td>\n",
       "      <td>15.18</td>\n",
       "    </tr>\n",
       "    <tr>\n",
       "      <th>std</th>\n",
       "      <td>231.84</td>\n",
       "      <td>3.34</td>\n",
       "    </tr>\n",
       "    <tr>\n",
       "      <th>min</th>\n",
       "      <td>180.00</td>\n",
       "      <td>1.00</td>\n",
       "    </tr>\n",
       "    <tr>\n",
       "      <th>25%</th>\n",
       "      <td>230.00</td>\n",
       "      <td>15.00</td>\n",
       "    </tr>\n",
       "    <tr>\n",
       "      <th>50%</th>\n",
       "      <td>350.00</td>\n",
       "      <td>17.00</td>\n",
       "    </tr>\n",
       "    <tr>\n",
       "      <th>75%</th>\n",
       "      <td>560.00</td>\n",
       "      <td>17.00</td>\n",
       "    </tr>\n",
       "    <tr>\n",
       "      <th>max</th>\n",
       "      <td>1,920.00</td>\n",
       "      <td>17.00</td>\n",
       "    </tr>\n",
       "  </tbody>\n",
       "</table>\n",
       "</div>"
      ],
      "text/plain": [
       "        revenue    months\n",
       "count 10,000.00 10,000.00\n",
       "mean     431.35     15.18\n",
       "std      231.84      3.34\n",
       "min      180.00      1.00\n",
       "25%      230.00     15.00\n",
       "50%      350.00     17.00\n",
       "75%      560.00     17.00\n",
       "max    1,920.00     17.00"
      ]
     },
     "execution_count": 625,
     "metadata": {},
     "output_type": "execute_result"
    }
   ],
   "source": [
    "df_10k_debit_card.describe()"
   ]
  },
  {
   "attachments": {},
   "cell_type": "markdown",
   "metadata": {},
   "source": [
    "<a id=\"1\"></a>\n",
    "<font color=green size=+3><b>2.2 - Manual calculation of the expected Revenue</b></font>"
   ]
  },
  {
   "attachments": {},
   "cell_type": "markdown",
   "metadata": {},
   "source": [
    "Following the steps of the previous strategy, the expected baseline revenue will be computed:"
   ]
  },
  {
   "cell_type": "code",
   "execution_count": 659,
   "metadata": {},
   "outputs": [
    {
     "name": "stdout",
     "output_type": "stream",
     "text": [
      "The expected window of revenue if the campaign follows the strategy of proposing debit cards would be between 60000.0,120000.0] €\n"
     ]
    }
   ],
   "source": [
    "_min_RR = 0.01\n",
    "_max_RR = 0.02\n",
    "\n",
    "DC_revenue = 60\n",
    "\n",
    "min_expected_rev_base_dc = 100000*_min_RR*DC_revenue\n",
    "max_expected_rev_base_dc = 100000*_max_RR*DC_revenue\n",
    "\n",
    "print(f\"The expected window of revenue if the campaign follows the strategy of proposing debit cards would be between {min_expected_rev_base_dc},{max_expected_rev_base_dc}] €\")"
   ]
  },
  {
   "attachments": {},
   "cell_type": "markdown",
   "metadata": {},
   "source": [
    "<font color=green size=+3><b>2.3 - Probabilities of purchase - Supervised Learning Model</b></font>"
   ]
  },
  {
   "attachments": {},
   "cell_type": "markdown",
   "metadata": {},
   "source": [
    "#### Data preprocessing"
   ]
  },
  {
   "cell_type": "code",
   "execution_count": 626,
   "metadata": {},
   "outputs": [
    {
     "data": {
      "text/html": [
       "<div>\n",
       "<style scoped>\n",
       "    .dataframe tbody tr th:only-of-type {\n",
       "        vertical-align: middle;\n",
       "    }\n",
       "\n",
       "    .dataframe tbody tr th {\n",
       "        vertical-align: top;\n",
       "    }\n",
       "\n",
       "    .dataframe thead th {\n",
       "        text-align: right;\n",
       "    }\n",
       "</style>\n",
       "<table border=\"1\" class=\"dataframe\">\n",
       "  <thead>\n",
       "    <tr style=\"text-align: right;\">\n",
       "      <th></th>\n",
       "      <th>revenue</th>\n",
       "      <th>months</th>\n",
       "    </tr>\n",
       "    <tr>\n",
       "      <th>pk_cid</th>\n",
       "      <th></th>\n",
       "      <th></th>\n",
       "    </tr>\n",
       "  </thead>\n",
       "  <tbody>\n",
       "    <tr>\n",
       "      <th>16063</th>\n",
       "      <td>0</td>\n",
       "      <td>5</td>\n",
       "    </tr>\n",
       "    <tr>\n",
       "      <th>16203</th>\n",
       "      <td>40</td>\n",
       "      <td>4</td>\n",
       "    </tr>\n",
       "    <tr>\n",
       "      <th>16502</th>\n",
       "      <td>110</td>\n",
       "      <td>7</td>\n",
       "    </tr>\n",
       "    <tr>\n",
       "      <th>17457</th>\n",
       "      <td>1000</td>\n",
       "      <td>16</td>\n",
       "    </tr>\n",
       "    <tr>\n",
       "      <th>17590</th>\n",
       "      <td>0</td>\n",
       "      <td>10</td>\n",
       "    </tr>\n",
       "  </tbody>\n",
       "</table>\n",
       "</div>"
      ],
      "text/plain": [
       "        revenue  months\n",
       "pk_cid                 \n",
       "16063         0       5\n",
       "16203        40       4\n",
       "16502       110       7\n",
       "17457      1000      16\n",
       "17590         0      10"
      ]
     },
     "execution_count": 626,
     "metadata": {},
     "output_type": "execute_result"
    }
   ],
   "source": [
    "debit_card_model_df = _aux_info_model_df.groupby('pk_cid').agg({'sum': 'sum', 'active_customer': 'sum'})\n",
    "debit_card_model_df.columns = ['revenue', 'months']\n",
    "debit_card_model_df.head()"
   ]
  },
  {
   "cell_type": "code",
   "execution_count": 627,
   "metadata": {},
   "outputs": [],
   "source": [
    "DC_last_month = df.loc[df['pk_partition']=='2019-05-28',['pk_cid','debit_card']]\n",
    "DC_last_month.set_index('pk_cid', inplace=True)"
   ]
  },
  {
   "cell_type": "code",
   "execution_count": 628,
   "metadata": {},
   "outputs": [
    {
     "data": {
      "text/html": [
       "<div>\n",
       "<style scoped>\n",
       "    .dataframe tbody tr th:only-of-type {\n",
       "        vertical-align: middle;\n",
       "    }\n",
       "\n",
       "    .dataframe tbody tr th {\n",
       "        vertical-align: top;\n",
       "    }\n",
       "\n",
       "    .dataframe thead th {\n",
       "        text-align: right;\n",
       "    }\n",
       "</style>\n",
       "<table border=\"1\" class=\"dataframe\">\n",
       "  <thead>\n",
       "    <tr style=\"text-align: right;\">\n",
       "      <th></th>\n",
       "      <th>revenue</th>\n",
       "      <th>months</th>\n",
       "      <th>debit_card</th>\n",
       "    </tr>\n",
       "    <tr>\n",
       "      <th>pk_cid</th>\n",
       "      <th></th>\n",
       "      <th></th>\n",
       "      <th></th>\n",
       "    </tr>\n",
       "  </thead>\n",
       "  <tbody>\n",
       "    <tr>\n",
       "      <th>16063</th>\n",
       "      <td>0</td>\n",
       "      <td>5</td>\n",
       "      <td>0</td>\n",
       "    </tr>\n",
       "    <tr>\n",
       "      <th>16203</th>\n",
       "      <td>40</td>\n",
       "      <td>4</td>\n",
       "      <td>0</td>\n",
       "    </tr>\n",
       "    <tr>\n",
       "      <th>16502</th>\n",
       "      <td>110</td>\n",
       "      <td>7</td>\n",
       "      <td>0</td>\n",
       "    </tr>\n",
       "    <tr>\n",
       "      <th>17457</th>\n",
       "      <td>1000</td>\n",
       "      <td>16</td>\n",
       "      <td>1</td>\n",
       "    </tr>\n",
       "    <tr>\n",
       "      <th>17590</th>\n",
       "      <td>0</td>\n",
       "      <td>10</td>\n",
       "      <td>0</td>\n",
       "    </tr>\n",
       "  </tbody>\n",
       "</table>\n",
       "</div>"
      ],
      "text/plain": [
       "        revenue  months  debit_card\n",
       "pk_cid                             \n",
       "16063         0       5           0\n",
       "16203        40       4           0\n",
       "16502       110       7           0\n",
       "17457      1000      16           1\n",
       "17590         0      10           0"
      ]
     },
     "execution_count": 628,
     "metadata": {},
     "output_type": "execute_result"
    }
   ],
   "source": [
    "debit_card_model_df = pd.merge(debit_card_model_df, DC_last_month, how='left',left_index=True, right_index=True)\n",
    "debit_card_model_df.head()"
   ]
  },
  {
   "cell_type": "code",
   "execution_count": 629,
   "metadata": {},
   "outputs": [
    {
     "data": {
      "text/html": [
       "<div>\n",
       "<style scoped>\n",
       "    .dataframe tbody tr th:only-of-type {\n",
       "        vertical-align: middle;\n",
       "    }\n",
       "\n",
       "    .dataframe tbody tr th {\n",
       "        vertical-align: top;\n",
       "    }\n",
       "\n",
       "    .dataframe thead th {\n",
       "        text-align: right;\n",
       "    }\n",
       "</style>\n",
       "<table border=\"1\" class=\"dataframe\">\n",
       "  <thead>\n",
       "    <tr style=\"text-align: right;\">\n",
       "      <th></th>\n",
       "      <th>revenue</th>\n",
       "      <th>months</th>\n",
       "      <th>debit_card</th>\n",
       "      <th>age_u18</th>\n",
       "      <th>age_18-30</th>\n",
       "      <th>age_31-40</th>\n",
       "      <th>age_41-50</th>\n",
       "      <th>age_51-60</th>\n",
       "      <th>age_61-70</th>\n",
       "      <th>age_71-80</th>\n",
       "      <th>age_o80</th>\n",
       "    </tr>\n",
       "    <tr>\n",
       "      <th>pk_cid</th>\n",
       "      <th></th>\n",
       "      <th></th>\n",
       "      <th></th>\n",
       "      <th></th>\n",
       "      <th></th>\n",
       "      <th></th>\n",
       "      <th></th>\n",
       "      <th></th>\n",
       "      <th></th>\n",
       "      <th></th>\n",
       "      <th></th>\n",
       "    </tr>\n",
       "  </thead>\n",
       "  <tbody>\n",
       "    <tr>\n",
       "      <th>16063</th>\n",
       "      <td>0</td>\n",
       "      <td>5</td>\n",
       "      <td>0</td>\n",
       "      <td>0</td>\n",
       "      <td>0</td>\n",
       "      <td>0</td>\n",
       "      <td>0</td>\n",
       "      <td>0</td>\n",
       "      <td>1</td>\n",
       "      <td>0</td>\n",
       "      <td>0</td>\n",
       "    </tr>\n",
       "    <tr>\n",
       "      <th>16203</th>\n",
       "      <td>40</td>\n",
       "      <td>4</td>\n",
       "      <td>0</td>\n",
       "      <td>0</td>\n",
       "      <td>0</td>\n",
       "      <td>0</td>\n",
       "      <td>0</td>\n",
       "      <td>0</td>\n",
       "      <td>1</td>\n",
       "      <td>0</td>\n",
       "      <td>0</td>\n",
       "    </tr>\n",
       "    <tr>\n",
       "      <th>16502</th>\n",
       "      <td>110</td>\n",
       "      <td>7</td>\n",
       "      <td>0</td>\n",
       "      <td>0</td>\n",
       "      <td>0</td>\n",
       "      <td>0</td>\n",
       "      <td>0</td>\n",
       "      <td>1</td>\n",
       "      <td>0</td>\n",
       "      <td>0</td>\n",
       "      <td>0</td>\n",
       "    </tr>\n",
       "    <tr>\n",
       "      <th>17457</th>\n",
       "      <td>1000</td>\n",
       "      <td>16</td>\n",
       "      <td>1</td>\n",
       "      <td>0</td>\n",
       "      <td>0</td>\n",
       "      <td>0</td>\n",
       "      <td>0</td>\n",
       "      <td>1</td>\n",
       "      <td>0</td>\n",
       "      <td>0</td>\n",
       "      <td>0</td>\n",
       "    </tr>\n",
       "    <tr>\n",
       "      <th>17590</th>\n",
       "      <td>0</td>\n",
       "      <td>10</td>\n",
       "      <td>0</td>\n",
       "      <td>0</td>\n",
       "      <td>0</td>\n",
       "      <td>0</td>\n",
       "      <td>0</td>\n",
       "      <td>1</td>\n",
       "      <td>0</td>\n",
       "      <td>0</td>\n",
       "      <td>0</td>\n",
       "    </tr>\n",
       "  </tbody>\n",
       "</table>\n",
       "</div>"
      ],
      "text/plain": [
       "        revenue  months  debit_card  age_u18  age_18-30  age_31-40  age_41-50  \\\n",
       "pk_cid                                                                          \n",
       "16063         0       5           0        0          0          0          0   \n",
       "16203        40       4           0        0          0          0          0   \n",
       "16502       110       7           0        0          0          0          0   \n",
       "17457      1000      16           1        0          0          0          0   \n",
       "17590         0      10           0        0          0          0          0   \n",
       "\n",
       "        age_51-60  age_61-70  age_71-80  age_o80  \n",
       "pk_cid                                            \n",
       "16063           0          1          0        0  \n",
       "16203           0          1          0        0  \n",
       "16502           1          0          0        0  \n",
       "17457           1          0          0        0  \n",
       "17590           1          0          0        0  "
      ]
     },
     "execution_count": 629,
     "metadata": {},
     "output_type": "execute_result"
    }
   ],
   "source": [
    "# again, age will be added as a one hot encoded feature so there is more information from where to draw patterns\n",
    "debit_card_model_df = pd.merge(debit_card_model_df, _aux_age, how='left',left_index=True, right_index=True)\n",
    "# one hot encode the age categories\n",
    "_dummy_df = pd.get_dummies(debit_card_model_df['age_cat'], prefix='age')\n",
    "debit_card_model_df = pd.merge(debit_card_model_df, _dummy_df, how='left',left_index=True, right_index=True)\n",
    "debit_card_model_df.drop('age_cat', axis=1, inplace=True)\n",
    "debit_card_model_df.head()"
   ]
  },
  {
   "cell_type": "code",
   "execution_count": 630,
   "metadata": {},
   "outputs": [],
   "source": [
    "# make sure our 10k customers are not in the dataframe\n",
    "debit_card_model_df = debit_card_model_df[~debit_card_model_df.index.isin(index_10k_debit_card)]"
   ]
  },
  {
   "cell_type": "code",
   "execution_count": 631,
   "metadata": {},
   "outputs": [
    {
     "data": {
      "text/html": [
       "<div>\n",
       "<style scoped>\n",
       "    .dataframe tbody tr th:only-of-type {\n",
       "        vertical-align: middle;\n",
       "    }\n",
       "\n",
       "    .dataframe tbody tr th {\n",
       "        vertical-align: top;\n",
       "    }\n",
       "\n",
       "    .dataframe thead th {\n",
       "        text-align: right;\n",
       "    }\n",
       "</style>\n",
       "<table border=\"1\" class=\"dataframe\">\n",
       "  <thead>\n",
       "    <tr style=\"text-align: right;\">\n",
       "      <th></th>\n",
       "      <th>revenue</th>\n",
       "      <th>months</th>\n",
       "      <th>target_dc</th>\n",
       "      <th>age_u18</th>\n",
       "      <th>age_18-30</th>\n",
       "      <th>age_31-40</th>\n",
       "      <th>age_41-50</th>\n",
       "      <th>age_51-60</th>\n",
       "      <th>age_61-70</th>\n",
       "      <th>age_71-80</th>\n",
       "      <th>age_o80</th>\n",
       "    </tr>\n",
       "    <tr>\n",
       "      <th>pk_cid</th>\n",
       "      <th></th>\n",
       "      <th></th>\n",
       "      <th></th>\n",
       "      <th></th>\n",
       "      <th></th>\n",
       "      <th></th>\n",
       "      <th></th>\n",
       "      <th></th>\n",
       "      <th></th>\n",
       "      <th></th>\n",
       "      <th></th>\n",
       "    </tr>\n",
       "  </thead>\n",
       "  <tbody>\n",
       "    <tr>\n",
       "      <th>16063</th>\n",
       "      <td>0</td>\n",
       "      <td>5</td>\n",
       "      <td>0</td>\n",
       "      <td>0</td>\n",
       "      <td>0</td>\n",
       "      <td>0</td>\n",
       "      <td>0</td>\n",
       "      <td>0</td>\n",
       "      <td>1</td>\n",
       "      <td>0</td>\n",
       "      <td>0</td>\n",
       "    </tr>\n",
       "    <tr>\n",
       "      <th>16203</th>\n",
       "      <td>40</td>\n",
       "      <td>4</td>\n",
       "      <td>0</td>\n",
       "      <td>0</td>\n",
       "      <td>0</td>\n",
       "      <td>0</td>\n",
       "      <td>0</td>\n",
       "      <td>0</td>\n",
       "      <td>1</td>\n",
       "      <td>0</td>\n",
       "      <td>0</td>\n",
       "    </tr>\n",
       "    <tr>\n",
       "      <th>16502</th>\n",
       "      <td>110</td>\n",
       "      <td>7</td>\n",
       "      <td>0</td>\n",
       "      <td>0</td>\n",
       "      <td>0</td>\n",
       "      <td>0</td>\n",
       "      <td>0</td>\n",
       "      <td>1</td>\n",
       "      <td>0</td>\n",
       "      <td>0</td>\n",
       "      <td>0</td>\n",
       "    </tr>\n",
       "    <tr>\n",
       "      <th>17457</th>\n",
       "      <td>1000</td>\n",
       "      <td>16</td>\n",
       "      <td>1</td>\n",
       "      <td>0</td>\n",
       "      <td>0</td>\n",
       "      <td>0</td>\n",
       "      <td>0</td>\n",
       "      <td>1</td>\n",
       "      <td>0</td>\n",
       "      <td>0</td>\n",
       "      <td>0</td>\n",
       "    </tr>\n",
       "    <tr>\n",
       "      <th>17590</th>\n",
       "      <td>0</td>\n",
       "      <td>10</td>\n",
       "      <td>0</td>\n",
       "      <td>0</td>\n",
       "      <td>0</td>\n",
       "      <td>0</td>\n",
       "      <td>0</td>\n",
       "      <td>1</td>\n",
       "      <td>0</td>\n",
       "      <td>0</td>\n",
       "      <td>0</td>\n",
       "    </tr>\n",
       "  </tbody>\n",
       "</table>\n",
       "</div>"
      ],
      "text/plain": [
       "        revenue  months  target_dc  age_u18  age_18-30  age_31-40  age_41-50  \\\n",
       "pk_cid                                                                         \n",
       "16063         0       5          0        0          0          0          0   \n",
       "16203        40       4          0        0          0          0          0   \n",
       "16502       110       7          0        0          0          0          0   \n",
       "17457      1000      16          1        0          0          0          0   \n",
       "17590         0      10          0        0          0          0          0   \n",
       "\n",
       "        age_51-60  age_61-70  age_71-80  age_o80  \n",
       "pk_cid                                            \n",
       "16063           0          1          0        0  \n",
       "16203           0          1          0        0  \n",
       "16502           1          0          0        0  \n",
       "17457           1          0          0        0  \n",
       "17590           1          0          0        0  "
      ]
     },
     "execution_count": 631,
     "metadata": {},
     "output_type": "execute_result"
    }
   ],
   "source": [
    "debit_card_model_df.rename(columns={\"debit_card\": \"target_dc\"}, inplace=True)\n",
    "debit_card_model_df['target_dc'] = debit_card_model_df['target_dc'].astype('uint8')\n",
    "debit_card_model_df.head()"
   ]
  },
  {
   "attachments": {},
   "cell_type": "markdown",
   "metadata": {},
   "source": [
    "#### Split data"
   ]
  },
  {
   "cell_type": "code",
   "execution_count": 632,
   "metadata": {},
   "outputs": [],
   "source": [
    "X_train_dc, X_dev_dc, y_train_dc, y_dev_dc = model_selection.train_test_split(\n",
    "    debit_card_model_df.drop('target_dc',axis=1),\n",
    "    debit_card_model_df['target_dc'],\n",
    "    test_size=0.3,\n",
    "    random_state=42\n",
    ")"
   ]
  },
  {
   "cell_type": "code",
   "execution_count": 633,
   "metadata": {},
   "outputs": [
    {
     "name": "stdout",
     "output_type": "stream",
     "text": [
      "(425782, 11)\n",
      "(298047, 10)\n",
      "(127735, 10)\n"
     ]
    }
   ],
   "source": [
    "print(debit_card_model_df.shape)\n",
    "print(X_train_dc.shape)\n",
    "print(X_dev_dc.shape)"
   ]
  },
  {
   "cell_type": "code",
   "execution_count": 634,
   "metadata": {},
   "outputs": [],
   "source": [
    "X_test_dc, X_val_dc, y_test_dc, y_val_dc = model_selection.train_test_split(\n",
    "    X_dev_dc,\n",
    "    y_dev_dc,\n",
    "    test_size = 0.5,\n",
    "    random_state=42\n",
    ")"
   ]
  },
  {
   "cell_type": "code",
   "execution_count": 635,
   "metadata": {},
   "outputs": [
    {
     "name": "stdout",
     "output_type": "stream",
     "text": [
      "(63867, 10)\n",
      "(63868, 10)\n"
     ]
    }
   ],
   "source": [
    "print(X_test_dc.shape)\n",
    "print(X_val_dc.shape)"
   ]
  },
  {
   "attachments": {},
   "cell_type": "markdown",
   "metadata": {},
   "source": [
    "#### Model"
   ]
  },
  {
   "cell_type": "code",
   "execution_count": 636,
   "metadata": {},
   "outputs": [],
   "source": [
    "split_dict_dc = {\n",
    "    \"TRAINING\": [X_train_dc, y_train_dc],\n",
    "    \"TESTING\": [X_test_dc, y_test_dc]\n",
    "}"
   ]
  },
  {
   "cell_type": "code",
   "execution_count": 637,
   "metadata": {},
   "outputs": [
    {
     "name": "stderr",
     "output_type": "stream",
     "text": [
      "c:\\Users\\javce\\anaconda3\\envs\\nuclio_env\\lib\\site-packages\\xgboost\\data.py:250: FutureWarning: pandas.Int64Index is deprecated and will be removed from pandas in a future version. Use pandas.Index with the appropriate dtype instead.\n",
      "  elif isinstance(data.columns, (pd.Int64Index, pd.RangeIndex)):\n"
     ]
    },
    {
     "data": {
      "text/html": [
       "<style>#sk-container-id-18 {color: black;background-color: white;}#sk-container-id-18 pre{padding: 0;}#sk-container-id-18 div.sk-toggleable {background-color: white;}#sk-container-id-18 label.sk-toggleable__label {cursor: pointer;display: block;width: 100%;margin-bottom: 0;padding: 0.3em;box-sizing: border-box;text-align: center;}#sk-container-id-18 label.sk-toggleable__label-arrow:before {content: \"▸\";float: left;margin-right: 0.25em;color: #696969;}#sk-container-id-18 label.sk-toggleable__label-arrow:hover:before {color: black;}#sk-container-id-18 div.sk-estimator:hover label.sk-toggleable__label-arrow:before {color: black;}#sk-container-id-18 div.sk-toggleable__content {max-height: 0;max-width: 0;overflow: hidden;text-align: left;background-color: #f0f8ff;}#sk-container-id-18 div.sk-toggleable__content pre {margin: 0.2em;color: black;border-radius: 0.25em;background-color: #f0f8ff;}#sk-container-id-18 input.sk-toggleable__control:checked~div.sk-toggleable__content {max-height: 200px;max-width: 100%;overflow: auto;}#sk-container-id-18 input.sk-toggleable__control:checked~label.sk-toggleable__label-arrow:before {content: \"▾\";}#sk-container-id-18 div.sk-estimator input.sk-toggleable__control:checked~label.sk-toggleable__label {background-color: #d4ebff;}#sk-container-id-18 div.sk-label input.sk-toggleable__control:checked~label.sk-toggleable__label {background-color: #d4ebff;}#sk-container-id-18 input.sk-hidden--visually {border: 0;clip: rect(1px 1px 1px 1px);clip: rect(1px, 1px, 1px, 1px);height: 1px;margin: -1px;overflow: hidden;padding: 0;position: absolute;width: 1px;}#sk-container-id-18 div.sk-estimator {font-family: monospace;background-color: #f0f8ff;border: 1px dotted black;border-radius: 0.25em;box-sizing: border-box;margin-bottom: 0.5em;}#sk-container-id-18 div.sk-estimator:hover {background-color: #d4ebff;}#sk-container-id-18 div.sk-parallel-item::after {content: \"\";width: 100%;border-bottom: 1px solid gray;flex-grow: 1;}#sk-container-id-18 div.sk-label:hover label.sk-toggleable__label {background-color: #d4ebff;}#sk-container-id-18 div.sk-serial::before {content: \"\";position: absolute;border-left: 1px solid gray;box-sizing: border-box;top: 0;bottom: 0;left: 50%;z-index: 0;}#sk-container-id-18 div.sk-serial {display: flex;flex-direction: column;align-items: center;background-color: white;padding-right: 0.2em;padding-left: 0.2em;position: relative;}#sk-container-id-18 div.sk-item {position: relative;z-index: 1;}#sk-container-id-18 div.sk-parallel {display: flex;align-items: stretch;justify-content: center;background-color: white;position: relative;}#sk-container-id-18 div.sk-item::before, #sk-container-id-18 div.sk-parallel-item::before {content: \"\";position: absolute;border-left: 1px solid gray;box-sizing: border-box;top: 0;bottom: 0;left: 50%;z-index: -1;}#sk-container-id-18 div.sk-parallel-item {display: flex;flex-direction: column;z-index: 1;position: relative;background-color: white;}#sk-container-id-18 div.sk-parallel-item:first-child::after {align-self: flex-end;width: 50%;}#sk-container-id-18 div.sk-parallel-item:last-child::after {align-self: flex-start;width: 50%;}#sk-container-id-18 div.sk-parallel-item:only-child::after {width: 0;}#sk-container-id-18 div.sk-dashed-wrapped {border: 1px dashed gray;margin: 0 0.4em 0.5em 0.4em;box-sizing: border-box;padding-bottom: 0.4em;background-color: white;}#sk-container-id-18 div.sk-label label {font-family: monospace;font-weight: bold;display: inline-block;line-height: 1.2em;}#sk-container-id-18 div.sk-label-container {text-align: center;}#sk-container-id-18 div.sk-container {/* jupyter's `normalize.less` sets `[hidden] { display: none; }` but bootstrap.min.css set `[hidden] { display: none !important; }` so we also need the `!important` here to be able to override the default hidden behavior on the sphinx rendered scikit-learn.org. See: https://github.com/scikit-learn/scikit-learn/issues/21755 */display: inline-block !important;position: relative;}#sk-container-id-18 div.sk-text-repr-fallback {display: none;}</style><div id=\"sk-container-id-18\" class=\"sk-top-container\"><div class=\"sk-text-repr-fallback\"><pre>XGBClassifier(base_score=0.5, booster=&#x27;gbtree&#x27;, colsample_bylevel=1,\n",
       "              colsample_bynode=1, colsample_bytree=1, enable_categorical=False,\n",
       "              eta=0.1, gamma=5, gpu_id=-1, importance_type=None,\n",
       "              interaction_constraints=&#x27;&#x27;, learning_rate=0.100000001,\n",
       "              max_delta_step=0, max_depth=15, min_child_weight=0.5, missing=nan,\n",
       "              monotone_constraints=&#x27;()&#x27;, n_estimators=100, n_jobs=8,\n",
       "              num_parallel_tree=1, predictor=&#x27;auto&#x27;, random_state=42,\n",
       "              reg_alpha=0, reg_lambda=1, scale_pos_weight=1, subsample=1,\n",
       "              tree_method=&#x27;exact&#x27;, use_label_encoder=False,\n",
       "              validate_parameters=1, verbosity=0)</pre><b>In a Jupyter environment, please rerun this cell to show the HTML representation or trust the notebook. <br />On GitHub, the HTML representation is unable to render, please try loading this page with nbviewer.org.</b></div><div class=\"sk-container\" hidden><div class=\"sk-item\"><div class=\"sk-estimator sk-toggleable\"><input class=\"sk-toggleable__control sk-hidden--visually\" id=\"sk-estimator-id-18\" type=\"checkbox\" checked><label for=\"sk-estimator-id-18\" class=\"sk-toggleable__label sk-toggleable__label-arrow\">XGBClassifier</label><div class=\"sk-toggleable__content\"><pre>XGBClassifier(base_score=0.5, booster=&#x27;gbtree&#x27;, colsample_bylevel=1,\n",
       "              colsample_bynode=1, colsample_bytree=1, enable_categorical=False,\n",
       "              eta=0.1, gamma=5, gpu_id=-1, importance_type=None,\n",
       "              interaction_constraints=&#x27;&#x27;, learning_rate=0.100000001,\n",
       "              max_delta_step=0, max_depth=15, min_child_weight=0.5, missing=nan,\n",
       "              monotone_constraints=&#x27;()&#x27;, n_estimators=100, n_jobs=8,\n",
       "              num_parallel_tree=1, predictor=&#x27;auto&#x27;, random_state=42,\n",
       "              reg_alpha=0, reg_lambda=1, scale_pos_weight=1, subsample=1,\n",
       "              tree_method=&#x27;exact&#x27;, use_label_encoder=False,\n",
       "              validate_parameters=1, verbosity=0)</pre></div></div></div></div></div>"
      ],
      "text/plain": [
       "XGBClassifier(base_score=0.5, booster='gbtree', colsample_bylevel=1,\n",
       "              colsample_bynode=1, colsample_bytree=1, enable_categorical=False,\n",
       "              eta=0.1, gamma=5, gpu_id=-1, importance_type=None,\n",
       "              interaction_constraints='', learning_rate=0.100000001,\n",
       "              max_delta_step=0, max_depth=15, min_child_weight=0.5, missing=nan,\n",
       "              monotone_constraints='()', n_estimators=100, n_jobs=8,\n",
       "              num_parallel_tree=1, predictor='auto', random_state=42,\n",
       "              reg_alpha=0, reg_lambda=1, scale_pos_weight=1, subsample=1,\n",
       "              tree_method='exact', use_label_encoder=False,\n",
       "              validate_parameters=1, verbosity=0)"
      ]
     },
     "execution_count": 637,
     "metadata": {},
     "output_type": "execute_result"
    }
   ],
   "source": [
    "# instantiate model\n",
    "xgb_model_dc = xgb.XGBClassifier(\n",
    "    eta = 0.1,\n",
    "    max_depth = 15,\n",
    "    min_child_weight = 0.5,\n",
    "    gamma = 5,\n",
    "    random_state = 42,\n",
    "    verbosity=0,\n",
    "    use_label_encoder=False\n",
    ")\n",
    "\n",
    "# train \n",
    "xgb_model_dc.fit(X = X_train_dc, y = y_train_dc)"
   ]
  },
  {
   "cell_type": "code",
   "execution_count": 638,
   "metadata": {},
   "outputs": [],
   "source": [
    "# # Grid search\n",
    "\n",
    "# params_xgb = {\n",
    "#         'eta': [0.05, 0.1, 0.3],\n",
    "#         'min_child_weight': [0.5, 1, 5],\n",
    "#         'gamma': [0.5, 1, 1.5, 2, 5],\n",
    "#         'max_depth': [10, 15, 30],\n",
    "#         'subsample': [0.8, 0.9, 1]\n",
    "#         }\n",
    "\n",
    "# grid_search_xgb = model_selection.GridSearchCV(\n",
    "#     estimator=xgb_model_dc,\n",
    "#     param_grid=params_xgb,\n",
    "#     scoring='recall',\n",
    "#     cv=5,\n",
    "#     verbose=1\n",
    "# )\n",
    "\n",
    "# grid_search_xgb.fit(X_train_dc, y_train_dc)\n",
    "\n",
    "# print(grid_search_xgb.best_estimator_)"
   ]
  },
  {
   "cell_type": "code",
   "execution_count": 639,
   "metadata": {},
   "outputs": [
    {
     "name": "stdout",
     "output_type": "stream",
     "text": [
      "################## DEBIT CARD ##################\n",
      "____________ SCORES & EVALUATIONS ____________\n",
      "#################### RESULTS ###################\n",
      "\n",
      "#################### TRAINING ####################\n",
      "Accuracy: 0.96467 | Precision: 0.83145 | Recall: 0.81511 | F1_Score: 0.8232\n",
      "TN = 263000 | FN = 5561 | TP = 24516 | FP = 4970\n",
      "Positive prediction value: 83.14% | Negative prediction value: 97.93%\n",
      "########## TOP FEATURES ##########\n",
      "revenue     0.53\n",
      "months      0.15\n",
      "age_18-30   0.11\n",
      "age_31-40   0.08\n",
      "age_41-50   0.05\n",
      "dtype: float32\n",
      "\n",
      "\n",
      "#################### TESTING ####################\n",
      "Accuracy: 0.96156 | Precision: 0.8195 | Recall: 0.79951 | F1_Score: 0.80938\n",
      "TN = 56200 | FN = 1307 | TP = 5212 | FP = 1148\n",
      "Positive prediction value: 81.95% | Negative prediction value: 97.73%\n",
      "########## TOP FEATURES ##########\n",
      "revenue     0.53\n",
      "months      0.15\n",
      "age_18-30   0.11\n",
      "age_31-40   0.08\n",
      "age_41-50   0.05\n",
      "dtype: float32\n",
      "\n",
      "\n"
     ]
    }
   ],
   "source": [
    "print(\"################## DEBIT CARD ##################\")\n",
    "print(\"____________ SCORES & EVALUATIONS ____________\")\n",
    "print(\"#################### RESULTS ###################\\n\")\n",
    "\n",
    "\n",
    "for data in split_dict_dc.items():\n",
    "    pred = xgb_model_dc.predict(data[1][0])\n",
    "    confusion_matrix = metrics.confusion_matrix(data[1][1], pred)\n",
    "    tn, fp, fn, tp = confusion_matrix.ravel()\n",
    "    Accuracy = metrics.accuracy_score(data[1][1], pred)\n",
    "    Precision = metrics.precision_score(data[1][1], pred)\n",
    "    Recall = metrics.recall_score(data[1][1], pred)\n",
    "    F_1_Score = metrics.f1_score(data[1][1], pred)\n",
    "    \n",
    "    PPV, NPV = ((tp / (tp + fp)) * 100), ((tn / (fn + tn)) * 100)\n",
    "\n",
    "    print(f\"#################### {data[0]} ####################\")\n",
    "    print(f\"Accuracy: {round(Accuracy, 5)} | Precision: {round(Precision, 5)} | Recall: {round(Recall, 5)} | F1_Score: {round(F_1_Score, 5)}\")\n",
    "    print(f\"TN = {tn} | FN = {fn} | TP = {tp} | FP = {fp}\")\n",
    "    print(f\"Positive prediction value: {round(PPV, 2)}% | Negative prediction value: {round(NPV, 2)}%\")\n",
    "    print(\"########## TOP FEATURES ##########\")\n",
    "    top_features = pd.Series(xgb_model_dc.feature_importances_, index = data[1][0].columns).sort_values(ascending = False).head()\n",
    "    print(top_features)\n",
    "    print(\"\\n\")"
   ]
  },
  {
   "cell_type": "code",
   "execution_count": 640,
   "metadata": {},
   "outputs": [
    {
     "name": "stdout",
     "output_type": "stream",
     "text": [
      "Accuracy:  0.9615607434199195\n",
      "Precision:  0.819496855345912\n",
      "Recall:  0.7995091271667434\n",
      "F1 score xgb:  0.8093796102181847\n"
     ]
    }
   ],
   "source": [
    "# validation data\n",
    "y_val_pred_dc = pd.DataFrame(xgb_model_dc.predict(X_test_dc), index = y_test_dc.index, columns = ['pred'])\n",
    "results_val_dc = pd.DataFrame(y_test_dc).join(y_val_pred_dc, how = 'inner')\n",
    "\n",
    "# metrics\n",
    "Accuracy_val_dc = metrics.accuracy_score(results_val_dc['target_dc'], results_val_dc['pred'])\n",
    "Precision_val_dc = metrics.precision_score(results_val_dc['target_dc'], results_val_dc['pred'])\n",
    "Recall_val_dc = metrics.recall_score(results_val_dc['target_dc'], results_val_dc['pred'])\n",
    "rf_f1_val_dc= metrics.f1_score(y_test_dc, y_val_pred_dc)\n",
    "print(\"Accuracy: \", Accuracy_val_dc)\n",
    "print(\"Precision: \", Precision_val_dc)\n",
    "print(\"Recall: \", Recall_val_dc)\n",
    "print(\"F1 score xgb: \",rf_f1_val_dc)"
   ]
  },
  {
   "attachments": {},
   "cell_type": "markdown",
   "metadata": {},
   "source": [
    "Training accuracy: 0.96501, recall: 0.82169\\\n",
    "Testing accuracy: 0.96184, recall: 0.80549\\\n",
    "Validation accuracy: 0.96184, recall: 0.80549\n",
    "\n",
    "Again the results are very good, they are worse than for EM account but that would most likely be because the dataset is very imbalanced in terms of products. Any other product that is not EM account appears less in the database and therefore, as rarer product are chosen for the assessment the more difficult will be to obtain good metrics.\n",
    "\n",
    "One point that has to be made is that the metrics for testing and validation are too similar. This is an indicator that we do not have enough variety in the sample that have been drawn for the modelling phase. If the company wants to move forward and scale up the complexity and the quality of the models used, actions should be taken to gather data with more quality, so other features can be used in order to build richer profiles."
   ]
  },
  {
   "attachments": {},
   "cell_type": "markdown",
   "metadata": {},
   "source": [
    "#### Interval of confidence"
   ]
  },
  {
   "cell_type": "code",
   "execution_count": 641,
   "metadata": {},
   "outputs": [
    {
     "name": "stderr",
     "output_type": "stream",
     "text": [
      "100%|██████████████████████████████| 401/401 [00:04<00:00, 98.38it/s] \n",
      "100%|██████████████████████████████| 401/401 [00:13<00:00, 29.26it/s]\n"
     ]
    },
    {
     "data": {
      "image/png": "[encoded data removed]",
      "text/plain": [
       "<Figure size 1200x400 with 2 Axes>"
      ]
     },
     "metadata": {},
     "output_type": "display_data"
    }
   ],
   "source": [
    "np.random.seed(42)\n",
    "\n",
    "fig, (ax1, ax2) = plt.subplots(1, 2, figsize=(12, 4))\n",
    "# CI for Accuracy\n",
    "metric_boot_histogram(accuracy_score, results_val_dc['target_dc'], results_val_dc['pred'], ax=ax1)\n",
    "# CI for Recall\n",
    "metric_boot_histogram(recall_score, results_val_dc['target_dc'], results_val_dc['pred'], ax=ax2)\n",
    "plt.show()"
   ]
  },
  {
   "cell_type": "code",
   "execution_count": 642,
   "metadata": {},
   "outputs": [
    {
     "name": "stderr",
     "output_type": "stream",
     "text": [
      "100%|██████████████████████████████| 401/401 [00:19<00:00, 20.81it/s]\n"
     ]
    },
    {
     "data": {
      "text/html": [
       "<style type=\"text/css\">\n",
       "</style>\n",
       "<table id=\"T_c4415\">\n",
       "  <thead>\n",
       "    <tr>\n",
       "      <th class=\"index_name level0\" >%ile for 401 Boots</th>\n",
       "      <th id=\"T_c4415_level0_col0\" class=\"col_heading level0 col0\" >Observed</th>\n",
       "      <th id=\"T_c4415_level0_col1\" class=\"col_heading level0 col1\" >2.5%ile</th>\n",
       "      <th id=\"T_c4415_level0_col2\" class=\"col_heading level0 col2\" >97.5%ile</th>\n",
       "    </tr>\n",
       "    <tr>\n",
       "      <th class=\"index_name level0\" >Metric</th>\n",
       "      <th class=\"blank col0\" >&nbsp;</th>\n",
       "      <th class=\"blank col1\" >&nbsp;</th>\n",
       "      <th class=\"blank col2\" >&nbsp;</th>\n",
       "    </tr>\n",
       "  </thead>\n",
       "  <tbody>\n",
       "    <tr>\n",
       "      <th id=\"T_c4415_level0_row0\" class=\"row_heading level0 row0\" >Recall</th>\n",
       "      <td id=\"T_c4415_row0_col0\" class=\"data row0 col0\" >79.95%</td>\n",
       "      <td id=\"T_c4415_row0_col1\" class=\"data row0 col1\" >79.05%</td>\n",
       "      <td id=\"T_c4415_row0_col2\" class=\"data row0 col2\" >80.96%</td>\n",
       "    </tr>\n",
       "    <tr>\n",
       "      <th id=\"T_c4415_level0_row1\" class=\"row_heading level0 row1\" >Accuracy</th>\n",
       "      <td id=\"T_c4415_row1_col0\" class=\"data row1 col0\" >96.16%</td>\n",
       "      <td id=\"T_c4415_row1_col1\" class=\"data row1 col1\" >96.01%</td>\n",
       "      <td id=\"T_c4415_row1_col2\" class=\"data row1 col2\" >96.29%</td>\n",
       "    </tr>\n",
       "  </tbody>\n",
       "</table>\n"
      ],
      "text/plain": [
       "<pandas.io.formats.style.Styler at 0x2adfe3c5420>"
      ]
     },
     "execution_count": 642,
     "metadata": {},
     "output_type": "execute_result"
    }
   ],
   "source": [
    "# calculate Confidence interval\n",
    "np.random.seed(42)\n",
    "ci_auto(met, results_val_dc['target_dc'], results_val_dc['pred']).style.format('{:.2%}') "
   ]
  },
  {
   "attachments": {},
   "cell_type": "markdown",
   "metadata": {},
   "source": [
    "Similarly to the previous model, the confidence interval is quite narrow and might lead to think that the model is robust. However, the simplicity of the model needs to be taken into account, specially in the fact that the number and variety of features with which it has been trained was very limited. Therefore, even though the population is large enough so as to allow to obtain statistically relevant results, there might be a problem of underlying undetected overfitting due to the lack of variety in the data."
   ]
  },
  {
   "attachments": {},
   "cell_type": "markdown",
   "metadata": {},
   "source": [
    "#### Evaluation of our 10k chosen customers\n"
   ]
  },
  {
   "cell_type": "code",
   "execution_count": 643,
   "metadata": {},
   "outputs": [
    {
     "data": {
      "text/html": [
       "<div>\n",
       "<style scoped>\n",
       "    .dataframe tbody tr th:only-of-type {\n",
       "        vertical-align: middle;\n",
       "    }\n",
       "\n",
       "    .dataframe tbody tr th {\n",
       "        vertical-align: top;\n",
       "    }\n",
       "\n",
       "    .dataframe thead th {\n",
       "        text-align: right;\n",
       "    }\n",
       "</style>\n",
       "<table border=\"1\" class=\"dataframe\">\n",
       "  <thead>\n",
       "    <tr style=\"text-align: right;\">\n",
       "      <th></th>\n",
       "      <th>revenue</th>\n",
       "      <th>months</th>\n",
       "      <th>age_u18</th>\n",
       "      <th>age_18-30</th>\n",
       "      <th>age_31-40</th>\n",
       "      <th>age_41-50</th>\n",
       "      <th>age_51-60</th>\n",
       "      <th>age_61-70</th>\n",
       "      <th>age_71-80</th>\n",
       "      <th>age_o80</th>\n",
       "    </tr>\n",
       "    <tr>\n",
       "      <th>pk_cid</th>\n",
       "      <th></th>\n",
       "      <th></th>\n",
       "      <th></th>\n",
       "      <th></th>\n",
       "      <th></th>\n",
       "      <th></th>\n",
       "      <th></th>\n",
       "      <th></th>\n",
       "      <th></th>\n",
       "      <th></th>\n",
       "    </tr>\n",
       "  </thead>\n",
       "  <tbody>\n",
       "    <tr>\n",
       "      <th>1003790</th>\n",
       "      <td>1920</td>\n",
       "      <td>17</td>\n",
       "      <td>0</td>\n",
       "      <td>0</td>\n",
       "      <td>1</td>\n",
       "      <td>0</td>\n",
       "      <td>0</td>\n",
       "      <td>0</td>\n",
       "      <td>0</td>\n",
       "      <td>0</td>\n",
       "    </tr>\n",
       "    <tr>\n",
       "      <th>1002266</th>\n",
       "      <td>1850</td>\n",
       "      <td>17</td>\n",
       "      <td>0</td>\n",
       "      <td>0</td>\n",
       "      <td>1</td>\n",
       "      <td>0</td>\n",
       "      <td>0</td>\n",
       "      <td>0</td>\n",
       "      <td>0</td>\n",
       "      <td>0</td>\n",
       "    </tr>\n",
       "    <tr>\n",
       "      <th>1074816</th>\n",
       "      <td>1790</td>\n",
       "      <td>17</td>\n",
       "      <td>0</td>\n",
       "      <td>0</td>\n",
       "      <td>1</td>\n",
       "      <td>0</td>\n",
       "      <td>0</td>\n",
       "      <td>0</td>\n",
       "      <td>0</td>\n",
       "      <td>0</td>\n",
       "    </tr>\n",
       "    <tr>\n",
       "      <th>1248233</th>\n",
       "      <td>1760</td>\n",
       "      <td>17</td>\n",
       "      <td>0</td>\n",
       "      <td>0</td>\n",
       "      <td>0</td>\n",
       "      <td>1</td>\n",
       "      <td>0</td>\n",
       "      <td>0</td>\n",
       "      <td>0</td>\n",
       "      <td>0</td>\n",
       "    </tr>\n",
       "    <tr>\n",
       "      <th>1251877</th>\n",
       "      <td>1690</td>\n",
       "      <td>17</td>\n",
       "      <td>0</td>\n",
       "      <td>0</td>\n",
       "      <td>0</td>\n",
       "      <td>1</td>\n",
       "      <td>0</td>\n",
       "      <td>0</td>\n",
       "      <td>0</td>\n",
       "      <td>0</td>\n",
       "    </tr>\n",
       "  </tbody>\n",
       "</table>\n",
       "</div>"
      ],
      "text/plain": [
       "         revenue  months  age_u18  age_18-30  age_31-40  age_41-50  age_51-60  \\\n",
       "pk_cid                                                                          \n",
       "1003790     1920      17        0          0          1          0          0   \n",
       "1002266     1850      17        0          0          1          0          0   \n",
       "1074816     1790      17        0          0          1          0          0   \n",
       "1248233     1760      17        0          0          0          1          0   \n",
       "1251877     1690      17        0          0          0          1          0   \n",
       "\n",
       "         age_61-70  age_71-80  age_o80  \n",
       "pk_cid                                  \n",
       "1003790          0          0        0  \n",
       "1002266          0          0        0  \n",
       "1074816          0          0        0  \n",
       "1248233          0          0        0  \n",
       "1251877          0          0        0  "
      ]
     },
     "execution_count": 643,
     "metadata": {},
     "output_type": "execute_result"
    }
   ],
   "source": [
    "# drop non useful features\n",
    "df_10k_debit_card.drop(['products','products_str'], axis=1, inplace=True)\n",
    "# add the ages\n",
    "df_10k_debit_card = pd.merge(df_10k_debit_card, _aux_age, how='left', left_index=True, right_index=True)\n",
    "# one hot encode the ages\n",
    "_dummy_df = pd.get_dummies(df_10k_debit_card['age_cat'], prefix='age')\n",
    "df_10k_debit_card = pd.merge(df_10k_debit_card, _dummy_df, how='left',left_index=True, right_index=True)\n",
    "df_10k_debit_card.drop('age_cat', axis=1, inplace=True)\n",
    "df_10k_debit_card.head()\n"
   ]
  },
  {
   "cell_type": "code",
   "execution_count": 644,
   "metadata": {},
   "outputs": [
    {
     "data": {
      "text/html": [
       "<div>\n",
       "<style scoped>\n",
       "    .dataframe tbody tr th:only-of-type {\n",
       "        vertical-align: middle;\n",
       "    }\n",
       "\n",
       "    .dataframe tbody tr th {\n",
       "        vertical-align: top;\n",
       "    }\n",
       "\n",
       "    .dataframe thead th {\n",
       "        text-align: right;\n",
       "    }\n",
       "</style>\n",
       "<table border=\"1\" class=\"dataframe\">\n",
       "  <thead>\n",
       "    <tr style=\"text-align: right;\">\n",
       "      <th></th>\n",
       "      <th>revenue</th>\n",
       "      <th>months</th>\n",
       "      <th>age_u18</th>\n",
       "      <th>age_18-30</th>\n",
       "      <th>age_31-40</th>\n",
       "      <th>age_41-50</th>\n",
       "      <th>age_51-60</th>\n",
       "      <th>age_61-70</th>\n",
       "      <th>age_71-80</th>\n",
       "      <th>age_o80</th>\n",
       "      <th>class2</th>\n",
       "      <th>pred</th>\n",
       "    </tr>\n",
       "    <tr>\n",
       "      <th>pk_cid</th>\n",
       "      <th></th>\n",
       "      <th></th>\n",
       "      <th></th>\n",
       "      <th></th>\n",
       "      <th></th>\n",
       "      <th></th>\n",
       "      <th></th>\n",
       "      <th></th>\n",
       "      <th></th>\n",
       "      <th></th>\n",
       "      <th></th>\n",
       "      <th></th>\n",
       "    </tr>\n",
       "  </thead>\n",
       "  <tbody>\n",
       "    <tr>\n",
       "      <th>1003790</th>\n",
       "      <td>1920</td>\n",
       "      <td>17</td>\n",
       "      <td>0</td>\n",
       "      <td>0</td>\n",
       "      <td>1</td>\n",
       "      <td>0</td>\n",
       "      <td>0</td>\n",
       "      <td>0</td>\n",
       "      <td>0</td>\n",
       "      <td>0</td>\n",
       "      <td>0.95</td>\n",
       "      <td>1</td>\n",
       "    </tr>\n",
       "    <tr>\n",
       "      <th>1002266</th>\n",
       "      <td>1850</td>\n",
       "      <td>17</td>\n",
       "      <td>0</td>\n",
       "      <td>0</td>\n",
       "      <td>1</td>\n",
       "      <td>0</td>\n",
       "      <td>0</td>\n",
       "      <td>0</td>\n",
       "      <td>0</td>\n",
       "      <td>0</td>\n",
       "      <td>0.93</td>\n",
       "      <td>1</td>\n",
       "    </tr>\n",
       "    <tr>\n",
       "      <th>1074816</th>\n",
       "      <td>1790</td>\n",
       "      <td>17</td>\n",
       "      <td>0</td>\n",
       "      <td>0</td>\n",
       "      <td>1</td>\n",
       "      <td>0</td>\n",
       "      <td>0</td>\n",
       "      <td>0</td>\n",
       "      <td>0</td>\n",
       "      <td>0</td>\n",
       "      <td>0.93</td>\n",
       "      <td>1</td>\n",
       "    </tr>\n",
       "    <tr>\n",
       "      <th>1248233</th>\n",
       "      <td>1760</td>\n",
       "      <td>17</td>\n",
       "      <td>0</td>\n",
       "      <td>0</td>\n",
       "      <td>0</td>\n",
       "      <td>1</td>\n",
       "      <td>0</td>\n",
       "      <td>0</td>\n",
       "      <td>0</td>\n",
       "      <td>0</td>\n",
       "      <td>0.94</td>\n",
       "      <td>1</td>\n",
       "    </tr>\n",
       "    <tr>\n",
       "      <th>1251877</th>\n",
       "      <td>1690</td>\n",
       "      <td>17</td>\n",
       "      <td>0</td>\n",
       "      <td>0</td>\n",
       "      <td>0</td>\n",
       "      <td>1</td>\n",
       "      <td>0</td>\n",
       "      <td>0</td>\n",
       "      <td>0</td>\n",
       "      <td>0</td>\n",
       "      <td>0.86</td>\n",
       "      <td>1</td>\n",
       "    </tr>\n",
       "    <tr>\n",
       "      <th>...</th>\n",
       "      <td>...</td>\n",
       "      <td>...</td>\n",
       "      <td>...</td>\n",
       "      <td>...</td>\n",
       "      <td>...</td>\n",
       "      <td>...</td>\n",
       "      <td>...</td>\n",
       "      <td>...</td>\n",
       "      <td>...</td>\n",
       "      <td>...</td>\n",
       "      <td>...</td>\n",
       "      <td>...</td>\n",
       "    </tr>\n",
       "    <tr>\n",
       "      <th>1298732</th>\n",
       "      <td>180</td>\n",
       "      <td>17</td>\n",
       "      <td>0</td>\n",
       "      <td>0</td>\n",
       "      <td>1</td>\n",
       "      <td>0</td>\n",
       "      <td>0</td>\n",
       "      <td>0</td>\n",
       "      <td>0</td>\n",
       "      <td>0</td>\n",
       "      <td>0.07</td>\n",
       "      <td>0</td>\n",
       "    </tr>\n",
       "    <tr>\n",
       "      <th>1301589</th>\n",
       "      <td>180</td>\n",
       "      <td>17</td>\n",
       "      <td>0</td>\n",
       "      <td>0</td>\n",
       "      <td>1</td>\n",
       "      <td>0</td>\n",
       "      <td>0</td>\n",
       "      <td>0</td>\n",
       "      <td>0</td>\n",
       "      <td>0</td>\n",
       "      <td>0.07</td>\n",
       "      <td>0</td>\n",
       "    </tr>\n",
       "    <tr>\n",
       "      <th>1312931</th>\n",
       "      <td>180</td>\n",
       "      <td>17</td>\n",
       "      <td>0</td>\n",
       "      <td>1</td>\n",
       "      <td>0</td>\n",
       "      <td>0</td>\n",
       "      <td>0</td>\n",
       "      <td>0</td>\n",
       "      <td>0</td>\n",
       "      <td>0</td>\n",
       "      <td>0.05</td>\n",
       "      <td>0</td>\n",
       "    </tr>\n",
       "    <tr>\n",
       "      <th>1318941</th>\n",
       "      <td>180</td>\n",
       "      <td>17</td>\n",
       "      <td>0</td>\n",
       "      <td>1</td>\n",
       "      <td>0</td>\n",
       "      <td>0</td>\n",
       "      <td>0</td>\n",
       "      <td>0</td>\n",
       "      <td>0</td>\n",
       "      <td>0</td>\n",
       "      <td>0.05</td>\n",
       "      <td>0</td>\n",
       "    </tr>\n",
       "    <tr>\n",
       "      <th>1320249</th>\n",
       "      <td>180</td>\n",
       "      <td>17</td>\n",
       "      <td>0</td>\n",
       "      <td>0</td>\n",
       "      <td>1</td>\n",
       "      <td>0</td>\n",
       "      <td>0</td>\n",
       "      <td>0</td>\n",
       "      <td>0</td>\n",
       "      <td>0</td>\n",
       "      <td>0.07</td>\n",
       "      <td>0</td>\n",
       "    </tr>\n",
       "  </tbody>\n",
       "</table>\n",
       "<p>10000 rows × 12 columns</p>\n",
       "</div>"
      ],
      "text/plain": [
       "         revenue  months  age_u18  age_18-30  age_31-40  age_41-50  age_51-60  \\\n",
       "pk_cid                                                                          \n",
       "1003790     1920      17        0          0          1          0          0   \n",
       "1002266     1850      17        0          0          1          0          0   \n",
       "1074816     1790      17        0          0          1          0          0   \n",
       "1248233     1760      17        0          0          0          1          0   \n",
       "1251877     1690      17        0          0          0          1          0   \n",
       "...          ...     ...      ...        ...        ...        ...        ...   \n",
       "1298732      180      17        0          0          1          0          0   \n",
       "1301589      180      17        0          0          1          0          0   \n",
       "1312931      180      17        0          1          0          0          0   \n",
       "1318941      180      17        0          1          0          0          0   \n",
       "1320249      180      17        0          0          1          0          0   \n",
       "\n",
       "         age_61-70  age_71-80  age_o80  class2  pred  \n",
       "pk_cid                                                \n",
       "1003790          0          0        0    0.95     1  \n",
       "1002266          0          0        0    0.93     1  \n",
       "1074816          0          0        0    0.93     1  \n",
       "1248233          0          0        0    0.94     1  \n",
       "1251877          0          0        0    0.86     1  \n",
       "...            ...        ...      ...     ...   ...  \n",
       "1298732          0          0        0    0.07     0  \n",
       "1301589          0          0        0    0.07     0  \n",
       "1312931          0          0        0    0.05     0  \n",
       "1318941          0          0        0    0.05     0  \n",
       "1320249          0          0        0    0.07     0  \n",
       "\n",
       "[10000 rows x 12 columns]"
      ]
     },
     "execution_count": 644,
     "metadata": {},
     "output_type": "execute_result"
    }
   ],
   "source": [
    "proba_dc_10k = xgb_model_dc.predict_proba(df_10k_debit_card)\n",
    "pred_dc_10k = xgb_model_dc.predict(df_10k_debit_card)\n",
    "proba_dc_10k_df = pd.DataFrame(data = proba_dc_10k, index = index_10k_debit_card, columns=['class1','class2'])\n",
    "pred_dc_10k_df = pd.DataFrame(data = pred_dc_10k, index=index_10k_debit_card, columns=['pred'])\n",
    "df_10k_debit_card = pd.concat([df_10k_debit_card, proba_dc_10k_df['class2'], pred_dc_10k_df], axis=1)\n",
    "df_10k_debit_card"
   ]
  },
  {
   "cell_type": "code",
   "execution_count": 645,
   "metadata": {},
   "outputs": [
    {
     "data": {
      "text/html": [
       "<div>\n",
       "<style scoped>\n",
       "    .dataframe tbody tr th:only-of-type {\n",
       "        vertical-align: middle;\n",
       "    }\n",
       "\n",
       "    .dataframe tbody tr th {\n",
       "        vertical-align: top;\n",
       "    }\n",
       "\n",
       "    .dataframe thead tr th {\n",
       "        text-align: left;\n",
       "    }\n",
       "\n",
       "    .dataframe thead tr:last-of-type th {\n",
       "        text-align: right;\n",
       "    }\n",
       "</style>\n",
       "<table border=\"1\" class=\"dataframe\">\n",
       "  <thead>\n",
       "    <tr>\n",
       "      <th></th>\n",
       "      <th>min</th>\n",
       "      <th>mean</th>\n",
       "    </tr>\n",
       "    <tr>\n",
       "      <th></th>\n",
       "      <th>class2</th>\n",
       "      <th>class2</th>\n",
       "    </tr>\n",
       "    <tr>\n",
       "      <th>pred</th>\n",
       "      <th></th>\n",
       "      <th></th>\n",
       "    </tr>\n",
       "  </thead>\n",
       "  <tbody>\n",
       "    <tr>\n",
       "      <th>0</th>\n",
       "      <td>0.02</td>\n",
       "      <td>0.23</td>\n",
       "    </tr>\n",
       "    <tr>\n",
       "      <th>1</th>\n",
       "      <td>0.50</td>\n",
       "      <td>0.71</td>\n",
       "    </tr>\n",
       "  </tbody>\n",
       "</table>\n",
       "</div>"
      ],
      "text/plain": [
       "        min   mean\n",
       "     class2 class2\n",
       "pred              \n",
       "0      0.02   0.23\n",
       "1      0.50   0.71"
      ]
     },
     "execution_count": 645,
     "metadata": {},
     "output_type": "execute_result"
    }
   ],
   "source": [
    "pd.pivot_table(data=df_10k_debit_card[['pred','class2']], index='pred', aggfunc=['min','mean'])"
   ]
  },
  {
   "cell_type": "code",
   "execution_count": 646,
   "metadata": {},
   "outputs": [
    {
     "name": "stdout",
     "output_type": "stream",
     "text": [
      "(1724, 12)\n",
      "(878, 12)\n"
     ]
    }
   ],
   "source": [
    "print(df_10k_debit_card[df_10k_debit_card['class2']>0.5].shape)\n",
    "print(df_10k_debit_card[df_10k_debit_card['class2']>0.71].shape)"
   ]
  },
  {
   "attachments": {},
   "cell_type": "markdown",
   "metadata": {},
   "source": [
    "As it could be expected the numbers are much lower than in the previous model, this is due to the fact that the population of people with debit card in the client base is significantly lower than the ones with EM account, thus being more difficult to find higher numbers of success. In any case the revenue of this product is much higher than for EM account, that is why there are chances of it being a worth approach.\n",
    "\n",
    "To confirm if it would be better or not than the defined basline, the comparison will be made based on the window of expected revenue. For this model the mean for defining success was 71%, so this number will be used as the mid point for computing the window, again with a +-3% interval."
   ]
  },
  {
   "cell_type": "code",
   "execution_count": 657,
   "metadata": {},
   "outputs": [
    {
     "name": "stdout",
     "output_type": "stream",
     "text": [
      "The expected window of revenue if the campaign follows the strategy of proposing debit card would be between [45960,57540 €]\n",
      "The mean expected revenue is 52680€\n"
     ]
    }
   ],
   "source": [
    "_max_window_dc = df_10k_debit_card[df_10k_debit_card['class2']>=0.68]\n",
    "max_expected_rev_dc = _max_window_dc['pred'].sum()*60\n",
    "_min_window_dc = df_10k_debit_card[df_10k_debit_card['class2']>=0.74]\n",
    "min_expected_rev_dc = _min_window_dc['pred'].sum()*60\n",
    "_mean_window_dc = df_10k_debit_card[df_10k_debit_card['class2']>=0.71]\n",
    "mean_expected_rev_dc = _mean_window_dc['pred'].sum()*60\n",
    "print(f\"The expected window of revenue if the campaign follows the strategy of proposing debit card would be between [{min_expected_rev_dc},{max_expected_rev_dc} €]\")\n",
    "print(f\"The mean expected revenue is {mean_expected_rev_dc}€\")"
   ]
  },
  {
   "cell_type": "code",
   "execution_count": 648,
   "metadata": {},
   "outputs": [
    {
     "name": "stdout",
     "output_type": "stream",
     "text": [
      "The expected mean response rate for this campaign is 31.0%.\n"
     ]
    }
   ],
   "source": [
    "mean_response_rate_dc = df_10k_debit_card['class2'].mean()\n",
    "print(f\"The expected mean response rate for this campaign is {round(mean_response_rate_dc*100,1)}%.\")"
   ]
  },
  {
   "attachments": {},
   "cell_type": "markdown",
   "metadata": {},
   "source": [
    "If the expected revenues for both approaches are compared, it seems like the credit card approach would yield better results than recommending EM accounts to customers that have no products. This solution falls whithin the strategy of the company of exploiting the current client base and does not contradicts the recommendation of focusing on a limited number of products, as debit card is the second most popular product to go with EM account.\n",
    "\n",
    "From a business point of view it also makes sense, as this users have a higer level of engagement with the company already, so the intuitive thought is that it would be easier to successfully propose them to use a debit card than re-engage customers to get an account.\n",
    "\n",
    "Note: the above statements are based on the manually calculated expected revenues. As it has been seen, the models are way too limited to be reliable. They need more maturity before they can be used to confidently guide company decisions."
   ]
  },
  {
   "attachments": {},
   "cell_type": "markdown",
   "metadata": {},
   "source": [
    "<a id=\"1\"></a>\n",
    "<font color=green size=+3><b>3 - Limitations</b></font>"
   ]
  },
  {
   "attachments": {},
   "cell_type": "markdown",
   "metadata": {},
   "source": [
    "During the discussion of the results obtained it has been highlighted that the seemingly outstanding results are to be considered with caution. The quality of the data that could be used for engineering a dataset to work with was very limited, making it difficult to assemble a model rich on features from where to draw patterns. This scarcity of features yielded very simplistic models that even though show good results, most likely have a problem of underlying overfitting. This conclusion comes from the fact that only total revenue, months of activity and age were used and the most important for predicting the probability of purchasing an EM account was revenue with a weight of 66% over the total, having months of activity a weight of 5%. The debit card approach has more balanced weights - revenue 53%, months 15% but still the same problem arises. \n",
    "\n",
    "One potential quick fix as a next step would be to resample the data, in a similar way as it was done for building the confidence interval so, even though sythetic, more variety of data is available. However, this is not in any way a good long term solution, which should be aimed at improving data collection and quality.\n",
    "\n",
    "In any case, these models were built as a baseline from where to keep scaling up and improving the reliability and complexity of them. "
   ]
  },
  {
   "attachments": {},
   "cell_type": "markdown",
   "metadata": {},
   "source": [
    "<a id=\"1\"></a>\n",
    "<font color=green size=+3><b>4 - Conclusions and future steps</b></font>"
   ]
  },
  {
   "attachments": {},
   "cell_type": "markdown",
   "metadata": {},
   "source": [
    "**The approach that is advised to follow is to recommend the use of debit cards to the second group of 10k customers.** This recommendation is based first of all on the current strategy of the company and the understanding that has been collected during the analysis phase, which has shown a problem of customer engagement and a potential overextension of the company's portfolio. The limitations of the designed models are way too high for them to be a reliable assessment of the data we have. As an additional argument to add, assuming the limitations of the designed models and with the hopes of building a more reliable assessment for future campaigns, the manually calculated window of expected revenue can be used as a ratio to evaluate the success of the campaign. By doing so, the one for debit card seems to be the best of the two analyzed strategies.\n",
    "\n",
    "Regarding the expected mean response rate for the campaingns, the number has been calculated but it has no value. The dataset from where it has been drawn is very imbalanced in terms of products and the statistical models built very limited, so these computed rates are no better than calculating the percetage of customers that have the discussed products in the last partition.\n",
    "\n",
    "Thinking of next steps towards the expectaions for this company to become data driven, as it has been stated several times in these reports, actions need to be taken towards improving the quality of the data acquired. Once this issue has been tackle, new possibilities in terms of how to use this data can emerge. Some possible future scenarios could include the automated selection of the customers to send mails to by assignning probabilities of purchase linked to their commercial/demographic profile, thus maximizing the probabilities of actual purchase if compared to a manual selecition of the customers. Another idea for the future could be to build a collaborative filtering model which would help the company understand in more depth which types of products are often purchased together, combining this with a more comprehensive clustering of the client base could allow to make more tailored recommendations to specific groups of customers."
   ]
  },
  {
   "cell_type": "markdown",
   "metadata": {},
   "source": []
  }
 ],
 "metadata": {
  "kernelspec": {
   "display_name": "nuclio_env",
   "language": "python",
   "name": "python3"
  },
  "language_info": {
   "codemirror_mode": {
    "name": "ipython",
    "version": 3
   },
   "file_extension": ".py",
   "mimetype": "text/x-python",
   "name": "python",
   "nbconvert_exporter": "python",
   "pygments_lexer": "ipython3",
   "version": "3.10.6"
  },
  "orig_nbformat": 4
 },
 "nbformat": 4,
 "nbformat_minor": 2
}
